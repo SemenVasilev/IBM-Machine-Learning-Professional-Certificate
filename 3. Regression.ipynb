{
 "cells": [
  {
   "cell_type": "markdown",
   "id": "6285ebe3",
   "metadata": {
    "papermill": {
     "duration": 0.015626,
     "end_time": "2022-11-09T11:34:47.242214",
     "exception": false,
     "start_time": "2022-11-09T11:34:47.226588",
     "status": "completed"
    },
    "tags": []
   },
   "source": [
    "# Introduction\n",
    "In this notebook, I will look deeper into Linear Regresion and the data preparation process for investigating data by regression models. \n",
    "\n",
    "It is part of my studying of Machine learning through the [IBM Machine Learning Professional Certificate](https://www.coursera.org/professional-certificates/ibm-machine-learning)\n",
    "\n",
    "## Main objective\n",
    "\n",
    "This notebook focuses on preparing data for regression analysis for three models - Linear, Ridge and Lasso Regression. \n",
    "I chose to analyse [Concrete data set](https://www.kaggle.com/datasets/niteshyadav3103/concrete-compressive-strength).\n",
    "\n",
    "\n",
    "## Data description\n",
    "\n",
    "The actual concrete compressive strength (MPa) for a given mixture under a specific age (days) was determined from laboratory.</br> Data is in raw form (not scaled).\n",
    "</br>\n",
    "Number of instances (observations): 1030</br>\n",
    "Number of Attributes: 9</br>\n",
    "Attribute breakdown: 8 quantitative input variables, and 1 quantitative output variable</br>\n",
    "Missing Attribute Values: None</br>\n",
    "\n",
    "|No|Column              |Description                                                       |Units    |\n",
    "|--|--------------------|------------------------------------------------------------------|:-------:|\n",
    "|01|cement             |Cement (component 1)                                              |kg in a m3 mixture   |\n",
    "|02|slag             |Blast Furnace Slag (component 2)                                        |kg in a m3 mixture   |\n",
    "|03|ash             |Fly Ash (component 3)                                                      |kg in a m3 mixture   |\n",
    "|04|water             |Water (component 4)                                                      |kg in a m3 mixture   |\n",
    "|05|superplasticizer             |Superplasticizer (component 5)        |kg in a m3 mixture   |\n",
    "|06|coarse             |Coarse Aggregate (component 6)                                                     |kg in a m3 mixture   |\n",
    "|07|fine             |Fine Aggregate (component 7)                                                      |kg in a m3 mixture   |\n",
    "|08|age             |Age                                                     |day   |\n",
    "|09|strength             |Concrete compressive strength                                                      |MPa   |\n",
    "\n",
    "\n",
    "## Project methodology\n",
    "\n",
    "#### Data cleaning   \n",
    "The data set has already been prepared and cleaned.\n",
    "\n",
    "#### Data normalization   \n",
    "As I prepare this data set for regression analysis, I should normalise all data. Also, I should preserve data explainability. For this purpose, I use only simple transformations like logarithmic transformations to normalise data distributions. More information can be found in the article [Data transformation: a focus on the interpretation](https://www.ncbi.nlm.nih.gov/pmc/articles/PMC7714623/) by Dong Kyu Lee.\n",
    "\n",
    "Also I did regression analysis for non-normalised data to check the influence of normalisation.\n",
    "\n",
    "#### Data scaling  \n",
    "I use different data scaler in the piperline for each model to scale my variables to chouse the best one."
   ]
  },
  {
   "cell_type": "code",
   "execution_count": 1,
   "id": "af50cb07",
   "metadata": {
    "execution": {
     "iopub.execute_input": "2022-11-09T11:34:47.273763Z",
     "iopub.status.busy": "2022-11-09T11:34:47.272672Z",
     "iopub.status.idle": "2022-11-09T11:34:57.667357Z",
     "shell.execute_reply": "2022-11-09T11:34:57.665970Z"
    },
    "papermill": {
     "duration": 10.412982,
     "end_time": "2022-11-09T11:34:57.669748",
     "exception": false,
     "start_time": "2022-11-09T11:34:47.256766",
     "status": "completed"
    },
    "tags": []
   },
   "outputs": [
    {
     "data": {
      "text/html": [
       "<style type='text/css'>\n",
       ".datatable table.frame { margin-bottom: 0; }\n",
       ".datatable table.frame thead { border-bottom: none; }\n",
       ".datatable table.frame tr.coltypes td {  color: #FFFFFF;  line-height: 6px;  padding: 0 0.5em;}\n",
       ".datatable .bool    { background: #DDDD99; }\n",
       ".datatable .object  { background: #565656; }\n",
       ".datatable .int     { background: #5D9E5D; }\n",
       ".datatable .float   { background: #4040CC; }\n",
       ".datatable .str     { background: #CC4040; }\n",
       ".datatable .time    { background: #40CC40; }\n",
       ".datatable .row_index {  background: var(--jp-border-color3);  border-right: 1px solid var(--jp-border-color0);  color: var(--jp-ui-font-color3);  font-size: 9px;}\n",
       ".datatable .frame tbody td { text-align: left; }\n",
       ".datatable .frame tr.coltypes .row_index {  background: var(--jp-border-color0);}\n",
       ".datatable th:nth-child(2) { padding-left: 12px; }\n",
       ".datatable .hellipsis {  color: var(--jp-cell-editor-border-color);}\n",
       ".datatable .vellipsis {  background: var(--jp-layout-color0);  color: var(--jp-cell-editor-border-color);}\n",
       ".datatable .na {  color: var(--jp-cell-editor-border-color);  font-size: 80%;}\n",
       ".datatable .sp {  opacity: 0.25;}\n",
       ".datatable .footer { font-size: 9px; }\n",
       ".datatable .frame_dimensions {  background: var(--jp-border-color3);  border-top: 1px solid var(--jp-border-color0);  color: var(--jp-ui-font-color3);  display: inline-block;  opacity: 0.6;  padding: 1px 10px 1px 5px;}\n",
       "</style>\n"
      ],
      "text/plain": [
       "<IPython.core.display.HTML object>"
      ]
     },
     "metadata": {},
     "output_type": "display_data"
    }
   ],
   "source": [
    "# Import needed libs\n",
    "import numpy as np # linear algebra\n",
    "import pandas as pd # data processing\n",
    "import seaborn as sns # vis\n",
    "import matplotlib.pyplot as plt # vis\n",
    "from functools import reduce # merge several df in one action\n",
    "from statsmodels.stats.outliers_influence import variance_inflation_factor # Multicollinearity analysis\n",
    "import plotly.express as px # interactive plots\n",
    "\n",
    "import statsmodels.api as sm # statistic model - OLS Regression\n",
    "\n",
    "# Sklearn\n",
    "from sklearn.preprocessing import StandardScaler, MinMaxScaler,MaxAbsScaler, RobustScaler, PolynomialFeatures\n",
    "from sklearn.model_selection import train_test_split, KFold, cross_val_score, GridSearchCV\n",
    "from sklearn.metrics import r2_score, mean_squared_error, mean_absolute_error\n",
    "from sklearn.pipeline import Pipeline\n",
    "from sklearn.linear_model import LinearRegression, Ridge, Lasso, ElasticNet\n",
    "\n",
    "# Find influense of eCH FEATURE\n",
    "from eli5.sklearn import PermutationImportance\n",
    "import eli5\n",
    "from eli5.formatters import format_as_dataframe, format_as_dataframes"
   ]
  },
  {
   "cell_type": "code",
   "execution_count": 2,
   "id": "9d69e456",
   "metadata": {
    "execution": {
     "iopub.execute_input": "2022-11-09T11:34:57.702996Z",
     "iopub.status.busy": "2022-11-09T11:34:57.701941Z",
     "iopub.status.idle": "2022-11-09T11:34:57.768525Z",
     "shell.execute_reply": "2022-11-09T11:34:57.767157Z"
    },
    "papermill": {
     "duration": 0.085766,
     "end_time": "2022-11-09T11:34:57.771144",
     "exception": false,
     "start_time": "2022-11-09T11:34:57.685378",
     "status": "completed"
    },
    "tags": []
   },
   "outputs": [
    {
     "name": "stdout",
     "output_type": "stream",
     "text": [
      "<class 'pandas.core.frame.DataFrame'>\n",
      "RangeIndex: 1030 entries, 0 to 1029\n",
      "Data columns (total 9 columns):\n",
      " #   Column                                                 Non-Null Count  Dtype  \n",
      "---  ------                                                 --------------  -----  \n",
      " 0   Cement (component 1)(kg in a m^3 mixture)              1030 non-null   float64\n",
      " 1   Blast Furnace Slag (component 2)(kg in a m^3 mixture)  1030 non-null   float64\n",
      " 2   Fly Ash (component 3)(kg in a m^3 mixture)             1030 non-null   float64\n",
      " 3   Water  (component 4)(kg in a m^3 mixture)              1030 non-null   float64\n",
      " 4   Superplasticizer (component 5)(kg in a m^3 mixture)    1030 non-null   float64\n",
      " 5   Coarse Aggregate  (component 6)(kg in a m^3 mixture)   1030 non-null   float64\n",
      " 6   Fine Aggregate (component 7)(kg in a m^3 mixture)      1030 non-null   float64\n",
      " 7   Age (day)                                              1030 non-null   int64  \n",
      " 8   Concrete compressive strength(MPa, megapascals)        1030 non-null   float64\n",
      "dtypes: float64(8), int64(1)\n",
      "memory usage: 72.5 KB\n"
     ]
    },
    {
     "data": {
      "text/html": [
       "<div>\n",
       "<style scoped>\n",
       "    .dataframe tbody tr th:only-of-type {\n",
       "        vertical-align: middle;\n",
       "    }\n",
       "\n",
       "    .dataframe tbody tr th {\n",
       "        vertical-align: top;\n",
       "    }\n",
       "\n",
       "    .dataframe thead th {\n",
       "        text-align: right;\n",
       "    }\n",
       "</style>\n",
       "<table border=\"1\" class=\"dataframe\">\n",
       "  <thead>\n",
       "    <tr style=\"text-align: right;\">\n",
       "      <th></th>\n",
       "      <th>Cement (component 1)(kg in a m^3 mixture)</th>\n",
       "      <th>Blast Furnace Slag (component 2)(kg in a m^3 mixture)</th>\n",
       "      <th>Fly Ash (component 3)(kg in a m^3 mixture)</th>\n",
       "      <th>Water  (component 4)(kg in a m^3 mixture)</th>\n",
       "      <th>Superplasticizer (component 5)(kg in a m^3 mixture)</th>\n",
       "      <th>Coarse Aggregate  (component 6)(kg in a m^3 mixture)</th>\n",
       "      <th>Fine Aggregate (component 7)(kg in a m^3 mixture)</th>\n",
       "      <th>Age (day)</th>\n",
       "      <th>Concrete compressive strength(MPa, megapascals)</th>\n",
       "    </tr>\n",
       "  </thead>\n",
       "  <tbody>\n",
       "    <tr>\n",
       "      <th>0</th>\n",
       "      <td>540.0</td>\n",
       "      <td>0.0</td>\n",
       "      <td>0.0</td>\n",
       "      <td>162.0</td>\n",
       "      <td>2.5</td>\n",
       "      <td>1040.0</td>\n",
       "      <td>676.0</td>\n",
       "      <td>28</td>\n",
       "      <td>79.986111</td>\n",
       "    </tr>\n",
       "    <tr>\n",
       "      <th>1</th>\n",
       "      <td>540.0</td>\n",
       "      <td>0.0</td>\n",
       "      <td>0.0</td>\n",
       "      <td>162.0</td>\n",
       "      <td>2.5</td>\n",
       "      <td>1055.0</td>\n",
       "      <td>676.0</td>\n",
       "      <td>28</td>\n",
       "      <td>61.887366</td>\n",
       "    </tr>\n",
       "    <tr>\n",
       "      <th>2</th>\n",
       "      <td>332.5</td>\n",
       "      <td>142.5</td>\n",
       "      <td>0.0</td>\n",
       "      <td>228.0</td>\n",
       "      <td>0.0</td>\n",
       "      <td>932.0</td>\n",
       "      <td>594.0</td>\n",
       "      <td>270</td>\n",
       "      <td>40.269535</td>\n",
       "    </tr>\n",
       "    <tr>\n",
       "      <th>3</th>\n",
       "      <td>332.5</td>\n",
       "      <td>142.5</td>\n",
       "      <td>0.0</td>\n",
       "      <td>228.0</td>\n",
       "      <td>0.0</td>\n",
       "      <td>932.0</td>\n",
       "      <td>594.0</td>\n",
       "      <td>365</td>\n",
       "      <td>41.052780</td>\n",
       "    </tr>\n",
       "    <tr>\n",
       "      <th>4</th>\n",
       "      <td>198.6</td>\n",
       "      <td>132.4</td>\n",
       "      <td>0.0</td>\n",
       "      <td>192.0</td>\n",
       "      <td>0.0</td>\n",
       "      <td>978.4</td>\n",
       "      <td>825.5</td>\n",
       "      <td>360</td>\n",
       "      <td>44.296075</td>\n",
       "    </tr>\n",
       "    <tr>\n",
       "      <th>...</th>\n",
       "      <td>...</td>\n",
       "      <td>...</td>\n",
       "      <td>...</td>\n",
       "      <td>...</td>\n",
       "      <td>...</td>\n",
       "      <td>...</td>\n",
       "      <td>...</td>\n",
       "      <td>...</td>\n",
       "      <td>...</td>\n",
       "    </tr>\n",
       "    <tr>\n",
       "      <th>1025</th>\n",
       "      <td>276.4</td>\n",
       "      <td>116.0</td>\n",
       "      <td>90.3</td>\n",
       "      <td>179.6</td>\n",
       "      <td>8.9</td>\n",
       "      <td>870.1</td>\n",
       "      <td>768.3</td>\n",
       "      <td>28</td>\n",
       "      <td>44.284354</td>\n",
       "    </tr>\n",
       "    <tr>\n",
       "      <th>1026</th>\n",
       "      <td>322.2</td>\n",
       "      <td>0.0</td>\n",
       "      <td>115.6</td>\n",
       "      <td>196.0</td>\n",
       "      <td>10.4</td>\n",
       "      <td>817.9</td>\n",
       "      <td>813.4</td>\n",
       "      <td>28</td>\n",
       "      <td>31.178794</td>\n",
       "    </tr>\n",
       "    <tr>\n",
       "      <th>1027</th>\n",
       "      <td>148.5</td>\n",
       "      <td>139.4</td>\n",
       "      <td>108.6</td>\n",
       "      <td>192.7</td>\n",
       "      <td>6.1</td>\n",
       "      <td>892.4</td>\n",
       "      <td>780.0</td>\n",
       "      <td>28</td>\n",
       "      <td>23.696601</td>\n",
       "    </tr>\n",
       "    <tr>\n",
       "      <th>1028</th>\n",
       "      <td>159.1</td>\n",
       "      <td>186.7</td>\n",
       "      <td>0.0</td>\n",
       "      <td>175.6</td>\n",
       "      <td>11.3</td>\n",
       "      <td>989.6</td>\n",
       "      <td>788.9</td>\n",
       "      <td>28</td>\n",
       "      <td>32.768036</td>\n",
       "    </tr>\n",
       "    <tr>\n",
       "      <th>1029</th>\n",
       "      <td>260.9</td>\n",
       "      <td>100.5</td>\n",
       "      <td>78.3</td>\n",
       "      <td>200.6</td>\n",
       "      <td>8.6</td>\n",
       "      <td>864.5</td>\n",
       "      <td>761.5</td>\n",
       "      <td>28</td>\n",
       "      <td>32.401235</td>\n",
       "    </tr>\n",
       "  </tbody>\n",
       "</table>\n",
       "<p>1030 rows × 9 columns</p>\n",
       "</div>"
      ],
      "text/plain": [
       "      Cement (component 1)(kg in a m^3 mixture)  \\\n",
       "0                                         540.0   \n",
       "1                                         540.0   \n",
       "2                                         332.5   \n",
       "3                                         332.5   \n",
       "4                                         198.6   \n",
       "...                                         ...   \n",
       "1025                                      276.4   \n",
       "1026                                      322.2   \n",
       "1027                                      148.5   \n",
       "1028                                      159.1   \n",
       "1029                                      260.9   \n",
       "\n",
       "      Blast Furnace Slag (component 2)(kg in a m^3 mixture)  \\\n",
       "0                                                   0.0       \n",
       "1                                                   0.0       \n",
       "2                                                 142.5       \n",
       "3                                                 142.5       \n",
       "4                                                 132.4       \n",
       "...                                                 ...       \n",
       "1025                                              116.0       \n",
       "1026                                                0.0       \n",
       "1027                                              139.4       \n",
       "1028                                              186.7       \n",
       "1029                                              100.5       \n",
       "\n",
       "      Fly Ash (component 3)(kg in a m^3 mixture)  \\\n",
       "0                                            0.0   \n",
       "1                                            0.0   \n",
       "2                                            0.0   \n",
       "3                                            0.0   \n",
       "4                                            0.0   \n",
       "...                                          ...   \n",
       "1025                                        90.3   \n",
       "1026                                       115.6   \n",
       "1027                                       108.6   \n",
       "1028                                         0.0   \n",
       "1029                                        78.3   \n",
       "\n",
       "      Water  (component 4)(kg in a m^3 mixture)  \\\n",
       "0                                         162.0   \n",
       "1                                         162.0   \n",
       "2                                         228.0   \n",
       "3                                         228.0   \n",
       "4                                         192.0   \n",
       "...                                         ...   \n",
       "1025                                      179.6   \n",
       "1026                                      196.0   \n",
       "1027                                      192.7   \n",
       "1028                                      175.6   \n",
       "1029                                      200.6   \n",
       "\n",
       "      Superplasticizer (component 5)(kg in a m^3 mixture)  \\\n",
       "0                                                   2.5     \n",
       "1                                                   2.5     \n",
       "2                                                   0.0     \n",
       "3                                                   0.0     \n",
       "4                                                   0.0     \n",
       "...                                                 ...     \n",
       "1025                                                8.9     \n",
       "1026                                               10.4     \n",
       "1027                                                6.1     \n",
       "1028                                               11.3     \n",
       "1029                                                8.6     \n",
       "\n",
       "      Coarse Aggregate  (component 6)(kg in a m^3 mixture)  \\\n",
       "0                                                1040.0      \n",
       "1                                                1055.0      \n",
       "2                                                 932.0      \n",
       "3                                                 932.0      \n",
       "4                                                 978.4      \n",
       "...                                                 ...      \n",
       "1025                                              870.1      \n",
       "1026                                              817.9      \n",
       "1027                                              892.4      \n",
       "1028                                              989.6      \n",
       "1029                                              864.5      \n",
       "\n",
       "      Fine Aggregate (component 7)(kg in a m^3 mixture)  Age (day)  \\\n",
       "0                                                 676.0         28   \n",
       "1                                                 676.0         28   \n",
       "2                                                 594.0        270   \n",
       "3                                                 594.0        365   \n",
       "4                                                 825.5        360   \n",
       "...                                                 ...        ...   \n",
       "1025                                              768.3         28   \n",
       "1026                                              813.4         28   \n",
       "1027                                              780.0         28   \n",
       "1028                                              788.9         28   \n",
       "1029                                              761.5         28   \n",
       "\n",
       "      Concrete compressive strength(MPa, megapascals)   \n",
       "0                                            79.986111  \n",
       "1                                            61.887366  \n",
       "2                                            40.269535  \n",
       "3                                            41.052780  \n",
       "4                                            44.296075  \n",
       "...                                                ...  \n",
       "1025                                         44.284354  \n",
       "1026                                         31.178794  \n",
       "1027                                         23.696601  \n",
       "1028                                         32.768036  \n",
       "1029                                         32.401235  \n",
       "\n",
       "[1030 rows x 9 columns]"
      ]
     },
     "execution_count": 2,
     "metadata": {},
     "output_type": "execute_result"
    }
   ],
   "source": [
    "# Read df\n",
    "data=pd.read_csv('../input/concrete-compressive-strength/Concrete Compressive Strength.csv')\n",
    "\n",
    "# Info\n",
    "data.info()\n",
    "data"
   ]
  },
  {
   "cell_type": "code",
   "execution_count": 3,
   "id": "f563c8b6",
   "metadata": {
    "execution": {
     "iopub.execute_input": "2022-11-09T11:34:57.803890Z",
     "iopub.status.busy": "2022-11-09T11:34:57.802885Z",
     "iopub.status.idle": "2022-11-09T11:34:57.809008Z",
     "shell.execute_reply": "2022-11-09T11:34:57.808329Z"
    },
    "papermill": {
     "duration": 0.02416,
     "end_time": "2022-11-09T11:34:57.810913",
     "exception": false,
     "start_time": "2022-11-09T11:34:57.786753",
     "status": "completed"
    },
    "tags": []
   },
   "outputs": [],
   "source": [
    "# Ramane columns\n",
    "data = data.rename(columns={'Cement (component 1)(kg in a m^3 mixture)': 'cement',\n",
    "       'Blast Furnace Slag (component 2)(kg in a m^3 mixture)':'slag' ,\n",
    "       'Fly Ash (component 3)(kg in a m^3 mixture)': 'ash',\n",
    "       'Water  (component 4)(kg in a m^3 mixture)': 'water',\n",
    "       'Superplasticizer (component 5)(kg in a m^3 mixture)': 'superplastcizer',\n",
    "       'Coarse Aggregate  (component 6)(kg in a m^3 mixture)': 'coarse_agg',\n",
    "       'Fine Aggregate (component 7)(kg in a m^3 mixture)':'fine_agg', \n",
    "       'Age (day)': 'age',\n",
    "       'Concrete compressive strength(MPa, megapascals) ':'strength'})"
   ]
  },
  {
   "cell_type": "code",
   "execution_count": 4,
   "id": "d304c1a6",
   "metadata": {
    "execution": {
     "iopub.execute_input": "2022-11-09T11:34:57.842766Z",
     "iopub.status.busy": "2022-11-09T11:34:57.842412Z",
     "iopub.status.idle": "2022-11-09T11:34:57.880868Z",
     "shell.execute_reply": "2022-11-09T11:34:57.879653Z"
    },
    "papermill": {
     "duration": 0.056876,
     "end_time": "2022-11-09T11:34:57.882997",
     "exception": false,
     "start_time": "2022-11-09T11:34:57.826121",
     "status": "completed"
    },
    "tags": []
   },
   "outputs": [
    {
     "data": {
      "text/html": [
       "<div>\n",
       "<style scoped>\n",
       "    .dataframe tbody tr th:only-of-type {\n",
       "        vertical-align: middle;\n",
       "    }\n",
       "\n",
       "    .dataframe tbody tr th {\n",
       "        vertical-align: top;\n",
       "    }\n",
       "\n",
       "    .dataframe thead th {\n",
       "        text-align: right;\n",
       "    }\n",
       "</style>\n",
       "<table border=\"1\" class=\"dataframe\">\n",
       "  <thead>\n",
       "    <tr style=\"text-align: right;\">\n",
       "      <th></th>\n",
       "      <th>count</th>\n",
       "      <th>mean</th>\n",
       "      <th>std</th>\n",
       "      <th>min</th>\n",
       "      <th>25%</th>\n",
       "      <th>50%</th>\n",
       "      <th>75%</th>\n",
       "      <th>max</th>\n",
       "      <th>range</th>\n",
       "    </tr>\n",
       "  </thead>\n",
       "  <tbody>\n",
       "    <tr>\n",
       "      <th>cement</th>\n",
       "      <td>1030.0</td>\n",
       "      <td>281.165631</td>\n",
       "      <td>104.507142</td>\n",
       "      <td>102.000000</td>\n",
       "      <td>192.375000</td>\n",
       "      <td>272.900000</td>\n",
       "      <td>350.000000</td>\n",
       "      <td>540.000000</td>\n",
       "      <td>438.000000</td>\n",
       "    </tr>\n",
       "    <tr>\n",
       "      <th>slag</th>\n",
       "      <td>1030.0</td>\n",
       "      <td>73.895485</td>\n",
       "      <td>86.279104</td>\n",
       "      <td>0.000000</td>\n",
       "      <td>0.000000</td>\n",
       "      <td>22.000000</td>\n",
       "      <td>142.950000</td>\n",
       "      <td>359.400000</td>\n",
       "      <td>359.400000</td>\n",
       "    </tr>\n",
       "    <tr>\n",
       "      <th>ash</th>\n",
       "      <td>1030.0</td>\n",
       "      <td>54.187136</td>\n",
       "      <td>63.996469</td>\n",
       "      <td>0.000000</td>\n",
       "      <td>0.000000</td>\n",
       "      <td>0.000000</td>\n",
       "      <td>118.270000</td>\n",
       "      <td>200.100000</td>\n",
       "      <td>200.100000</td>\n",
       "    </tr>\n",
       "    <tr>\n",
       "      <th>water</th>\n",
       "      <td>1030.0</td>\n",
       "      <td>181.566359</td>\n",
       "      <td>21.355567</td>\n",
       "      <td>121.750000</td>\n",
       "      <td>164.900000</td>\n",
       "      <td>185.000000</td>\n",
       "      <td>192.000000</td>\n",
       "      <td>247.000000</td>\n",
       "      <td>125.250000</td>\n",
       "    </tr>\n",
       "    <tr>\n",
       "      <th>superplastcizer</th>\n",
       "      <td>1030.0</td>\n",
       "      <td>6.203112</td>\n",
       "      <td>5.973492</td>\n",
       "      <td>0.000000</td>\n",
       "      <td>0.000000</td>\n",
       "      <td>6.350000</td>\n",
       "      <td>10.160000</td>\n",
       "      <td>32.200000</td>\n",
       "      <td>32.200000</td>\n",
       "    </tr>\n",
       "    <tr>\n",
       "      <th>coarse_agg</th>\n",
       "      <td>1030.0</td>\n",
       "      <td>972.918592</td>\n",
       "      <td>77.753818</td>\n",
       "      <td>801.000000</td>\n",
       "      <td>932.000000</td>\n",
       "      <td>968.000000</td>\n",
       "      <td>1029.400000</td>\n",
       "      <td>1145.000000</td>\n",
       "      <td>344.000000</td>\n",
       "    </tr>\n",
       "    <tr>\n",
       "      <th>fine_agg</th>\n",
       "      <td>1030.0</td>\n",
       "      <td>773.578883</td>\n",
       "      <td>80.175427</td>\n",
       "      <td>594.000000</td>\n",
       "      <td>730.950000</td>\n",
       "      <td>779.510000</td>\n",
       "      <td>824.000000</td>\n",
       "      <td>992.600000</td>\n",
       "      <td>398.600000</td>\n",
       "    </tr>\n",
       "    <tr>\n",
       "      <th>age</th>\n",
       "      <td>1030.0</td>\n",
       "      <td>45.662136</td>\n",
       "      <td>63.169912</td>\n",
       "      <td>1.000000</td>\n",
       "      <td>7.000000</td>\n",
       "      <td>28.000000</td>\n",
       "      <td>56.000000</td>\n",
       "      <td>365.000000</td>\n",
       "      <td>364.000000</td>\n",
       "    </tr>\n",
       "    <tr>\n",
       "      <th>strength</th>\n",
       "      <td>1030.0</td>\n",
       "      <td>35.817836</td>\n",
       "      <td>16.705679</td>\n",
       "      <td>2.331808</td>\n",
       "      <td>23.707115</td>\n",
       "      <td>34.442774</td>\n",
       "      <td>46.136287</td>\n",
       "      <td>82.599225</td>\n",
       "      <td>80.267417</td>\n",
       "    </tr>\n",
       "  </tbody>\n",
       "</table>\n",
       "</div>"
      ],
      "text/plain": [
       "                  count        mean         std         min         25%  \\\n",
       "cement           1030.0  281.165631  104.507142  102.000000  192.375000   \n",
       "slag             1030.0   73.895485   86.279104    0.000000    0.000000   \n",
       "ash              1030.0   54.187136   63.996469    0.000000    0.000000   \n",
       "water            1030.0  181.566359   21.355567  121.750000  164.900000   \n",
       "superplastcizer  1030.0    6.203112    5.973492    0.000000    0.000000   \n",
       "coarse_agg       1030.0  972.918592   77.753818  801.000000  932.000000   \n",
       "fine_agg         1030.0  773.578883   80.175427  594.000000  730.950000   \n",
       "age              1030.0   45.662136   63.169912    1.000000    7.000000   \n",
       "strength         1030.0   35.817836   16.705679    2.331808   23.707115   \n",
       "\n",
       "                        50%          75%          max       range  \n",
       "cement           272.900000   350.000000   540.000000  438.000000  \n",
       "slag              22.000000   142.950000   359.400000  359.400000  \n",
       "ash                0.000000   118.270000   200.100000  200.100000  \n",
       "water            185.000000   192.000000   247.000000  125.250000  \n",
       "superplastcizer    6.350000    10.160000    32.200000   32.200000  \n",
       "coarse_agg       968.000000  1029.400000  1145.000000  344.000000  \n",
       "fine_agg         779.510000   824.000000   992.600000  398.600000  \n",
       "age               28.000000    56.000000   365.000000  364.000000  \n",
       "strength          34.442774    46.136287    82.599225   80.267417  "
      ]
     },
     "execution_count": 4,
     "metadata": {},
     "output_type": "execute_result"
    }
   ],
   "source": [
    "# Look at distribution of values for each variable\n",
    "statistics = data.describe().T\n",
    "statistics['range'] = statistics.apply(lambda row: row['max'] - row['min'], axis = 1)\n",
    "statistics"
   ]
  },
  {
   "cell_type": "code",
   "execution_count": 5,
   "id": "9a846563",
   "metadata": {
    "execution": {
     "iopub.execute_input": "2022-11-09T11:34:57.914927Z",
     "iopub.status.busy": "2022-11-09T11:34:57.914547Z",
     "iopub.status.idle": "2022-11-09T11:34:57.923049Z",
     "shell.execute_reply": "2022-11-09T11:34:57.922324Z"
    },
    "papermill": {
     "duration": 0.026411,
     "end_time": "2022-11-09T11:34:57.924594",
     "exception": false,
     "start_time": "2022-11-09T11:34:57.898183",
     "status": "completed"
    },
    "tags": []
   },
   "outputs": [
    {
     "data": {
      "text/plain": [
       "cement             0\n",
       "slag               0\n",
       "ash                0\n",
       "water              0\n",
       "superplastcizer    0\n",
       "coarse_agg         0\n",
       "fine_agg           0\n",
       "age                0\n",
       "strength           0\n",
       "dtype: int64"
      ]
     },
     "execution_count": 5,
     "metadata": {},
     "output_type": "execute_result"
    }
   ],
   "source": [
    "# Check missing vcalues\n",
    "data.isna().sum()"
   ]
  },
  {
   "cell_type": "code",
   "execution_count": 6,
   "id": "b7f0f93c",
   "metadata": {
    "execution": {
     "iopub.execute_input": "2022-11-09T11:34:57.958973Z",
     "iopub.status.busy": "2022-11-09T11:34:57.958552Z",
     "iopub.status.idle": "2022-11-09T11:34:57.964330Z",
     "shell.execute_reply": "2022-11-09T11:34:57.963271Z"
    },
    "papermill": {
     "duration": 0.025416,
     "end_time": "2022-11-09T11:34:57.966093",
     "exception": false,
     "start_time": "2022-11-09T11:34:57.940677",
     "status": "completed"
    },
    "tags": []
   },
   "outputs": [],
   "source": [
    "# Reorder columns\n",
    "data=data[['strength', 'cement', 'slag', 'ash', 'water', 'superplastcizer', 'coarse_agg', 'fine_agg', 'age']]"
   ]
  },
  {
   "cell_type": "code",
   "execution_count": 7,
   "id": "e10ffd09",
   "metadata": {
    "execution": {
     "iopub.execute_input": "2022-11-09T11:34:57.998282Z",
     "iopub.status.busy": "2022-11-09T11:34:57.997926Z",
     "iopub.status.idle": "2022-11-09T11:34:59.592084Z",
     "shell.execute_reply": "2022-11-09T11:34:59.591351Z"
    },
    "papermill": {
     "duration": 1.613089,
     "end_time": "2022-11-09T11:34:59.594655",
     "exception": false,
     "start_time": "2022-11-09T11:34:57.981566",
     "status": "completed"
    },
    "tags": []
   },
   "outputs": [
    {
     "data": {
      "image/png": "[encoded data removed]",
      "text/plain": [
       "<Figure size 1440x720 with 8 Axes>"
      ]
     },
     "metadata": {
      "needs_background": "light"
     },
     "output_type": "display_data"
    }
   ],
   "source": [
    "# Build histograms for all variables\n",
    "fig, ax = plt.subplots(2, 4, sharex=False, sharey=False, figsize=(20, 10))\n",
    "\n",
    "col=1 # The first columns is 'target'\n",
    "for i in range(2):\n",
    "    for j in range(4):\n",
    "        data.hist(column = data.columns[col], bins = 10, ax=ax[i,j])\n",
    "        col += 1\n",
    "            \n",
    "fig.tight_layout()\n",
    "fig.show()"
   ]
  },
  {
   "cell_type": "code",
   "execution_count": 8,
   "id": "e53c8de2",
   "metadata": {
    "execution": {
     "iopub.execute_input": "2022-11-09T11:34:59.628524Z",
     "iopub.status.busy": "2022-11-09T11:34:59.627686Z",
     "iopub.status.idle": "2022-11-09T11:34:59.633376Z",
     "shell.execute_reply": "2022-11-09T11:34:59.632524Z"
    },
    "papermill": {
     "duration": 0.024647,
     "end_time": "2022-11-09T11:34:59.635370",
     "exception": false,
     "start_time": "2022-11-09T11:34:59.610723",
     "status": "completed"
    },
    "tags": []
   },
   "outputs": [],
   "source": [
    "# Craete 2 dfs: target and variables\n",
    "target=data[['strength']]\n",
    "variables=data.drop(columns = 'strength')"
   ]
  },
  {
   "cell_type": "code",
   "execution_count": 9,
   "id": "17c8f833",
   "metadata": {
    "execution": {
     "iopub.execute_input": "2022-11-09T11:34:59.668468Z",
     "iopub.status.busy": "2022-11-09T11:34:59.668048Z",
     "iopub.status.idle": "2022-11-09T11:34:59.679182Z",
     "shell.execute_reply": "2022-11-09T11:34:59.678111Z"
    },
    "papermill": {
     "duration": 0.030803,
     "end_time": "2022-11-09T11:34:59.681844",
     "exception": false,
     "start_time": "2022-11-09T11:34:59.651041",
     "status": "completed"
    },
    "tags": []
   },
   "outputs": [
    {
     "name": "stdout",
     "output_type": "stream",
     "text": [
      "Column cement is positively skewed: score 0.51\n",
      "Column slag is positively skewed: score 0.8\n",
      "Column ash is positively skewed: score 0.54\n",
      "Column superplastcizer is positively skewed: score 0.91\n",
      "Column age is positively skewed: score 3.27\n",
      "------------------------------------------------------------\n",
      "------------------------------------------------------------\n",
      "Column water is not skewed: score 0.07\n",
      "Column coarse_agg is not skewed: score -0.04\n",
      "Column fine_agg is not skewed: score -0.25\n"
     ]
    }
   ],
   "source": [
    "# Calculate skewness scores\n",
    "skewness = variables.skew(axis=0, numeric_only = True).to_dict()\n",
    "\n",
    "# Define skewness threshold\n",
    "skewness_threshold = 0.5 # If skewness by the module is less than 0.5, we say data is not skewed\n",
    "\n",
    "# Create lists of columns that require normalizing \n",
    "# Positively and negatively skewed variables to be processed by different transformations\n",
    "pos_skewed_cols = []\n",
    "neg_skewed_cols = []\n",
    "no_skewed_cols = []\n",
    "for i in skewness:\n",
    "    if abs(skewness[i]) > skewness_threshold:\n",
    "        if skewness[i] > 0:\n",
    "            pos_skewed_cols.append(i)\n",
    "        else:\n",
    "            neg_skewed_cols.append(i)\n",
    "    else:\n",
    "        no_skewed_cols.append(i)\n",
    "\n",
    "# Print results\n",
    "for i in pos_skewed_cols:\n",
    "    print(f\"Column {i} is positively skewed: score {round(skewness[i], 2)}\")\n",
    "\n",
    "print('-'*60)\n",
    "\n",
    "for i in neg_skewed_cols:\n",
    "    print(f\"Column {i} is negatively skewed: score {round(skewness[i], 2)}\")\n",
    "    \n",
    "print('-'*60)\n",
    "\n",
    "for i in no_skewed_cols:\n",
    "    print(f\"Column {i} is not skewed: score {round(skewness[i], 2)}\")\n",
    "    \n",
    "    \n",
    "# add check for there ie not column in"
   ]
  },
  {
   "cell_type": "code",
   "execution_count": 10,
   "id": "36a62257",
   "metadata": {
    "execution": {
     "iopub.execute_input": "2022-11-09T11:34:59.717024Z",
     "iopub.status.busy": "2022-11-09T11:34:59.716620Z",
     "iopub.status.idle": "2022-11-09T11:34:59.745948Z",
     "shell.execute_reply": "2022-11-09T11:34:59.744331Z"
    },
    "papermill": {
     "duration": 0.04959,
     "end_time": "2022-11-09T11:34:59.748489",
     "exception": false,
     "start_time": "2022-11-09T11:34:59.698899",
     "status": "completed"
    },
    "tags": []
   },
   "outputs": [
    {
     "data": {
      "text/html": [
       "<div>\n",
       "<style scoped>\n",
       "    .dataframe tbody tr th:only-of-type {\n",
       "        vertical-align: middle;\n",
       "    }\n",
       "\n",
       "    .dataframe tbody tr th {\n",
       "        vertical-align: top;\n",
       "    }\n",
       "\n",
       "    .dataframe thead th {\n",
       "        text-align: right;\n",
       "    }\n",
       "</style>\n",
       "<table border=\"1\" class=\"dataframe\">\n",
       "  <thead>\n",
       "    <tr style=\"text-align: right;\">\n",
       "      <th></th>\n",
       "      <th>vars</th>\n",
       "      <th>selected_transformation</th>\n",
       "      <th>skew_value</th>\n",
       "    </tr>\n",
       "  </thead>\n",
       "  <tbody>\n",
       "    <tr>\n",
       "      <th>0</th>\n",
       "      <td>water</td>\n",
       "      <td>skew_no_transform</td>\n",
       "      <td>0.074324</td>\n",
       "    </tr>\n",
       "    <tr>\n",
       "      <th>1</th>\n",
       "      <td>coarse_agg</td>\n",
       "      <td>skew_no_transform</td>\n",
       "      <td>0.040206</td>\n",
       "    </tr>\n",
       "    <tr>\n",
       "      <th>2</th>\n",
       "      <td>fine_agg</td>\n",
       "      <td>skew_no_transform</td>\n",
       "      <td>0.252979</td>\n",
       "    </tr>\n",
       "  </tbody>\n",
       "</table>\n",
       "</div>"
      ],
      "text/plain": [
       "         vars selected_transformation  skew_value\n",
       "0       water       skew_no_transform    0.074324\n",
       "1  coarse_agg       skew_no_transform    0.040206\n",
       "2    fine_agg       skew_no_transform    0.252979"
      ]
     },
     "execution_count": 10,
     "metadata": {},
     "output_type": "execute_result"
    }
   ],
   "source": [
    "# Make a df of not skewed columns\n",
    "\n",
    "# Skewness before transformations\n",
    "no_transf_dict = variables[no_skewed_cols].skew(axis=0, numeric_only = True).to_dict()\n",
    "no_skew = pd.DataFrame(list(no_transf_dict.items()), columns = ['vars','skew_no_transform'])\n",
    "no_skew_T = no_skew.set_index('vars').T.abs().replace(0, np.nan) \n",
    "\n",
    "\n",
    "# Selected transformation\n",
    "no_skew_trans_dict = no_skew_T.idxmin().to_dict()\n",
    "no_skew_ready = pd.DataFrame(list(no_skew_trans_dict.items()), columns = ['vars', 'selected_transformation'])\n",
    "no_skew_trans_dict = no_skew_T.min().to_dict()\n",
    "no_skew_ready = pd.merge(no_skew_ready,pd.DataFrame(list(no_skew_trans_dict.items()), columns = ['vars', 'skew_value']),on = ['vars'])          \n",
    "no_skew_ready # Df of not skewed columns"
   ]
  },
  {
   "cell_type": "code",
   "execution_count": 11,
   "id": "79f6dc88",
   "metadata": {
    "execution": {
     "iopub.execute_input": "2022-11-09T11:34:59.782398Z",
     "iopub.status.busy": "2022-11-09T11:34:59.782082Z",
     "iopub.status.idle": "2022-11-09T11:34:59.807340Z",
     "shell.execute_reply": "2022-11-09T11:34:59.806315Z"
    },
    "papermill": {
     "duration": 0.044478,
     "end_time": "2022-11-09T11:34:59.809224",
     "exception": false,
     "start_time": "2022-11-09T11:34:59.764746",
     "status": "completed"
    },
    "tags": []
   },
   "outputs": [
    {
     "data": {
      "text/html": [
       "<div>\n",
       "<style scoped>\n",
       "    .dataframe tbody tr th:only-of-type {\n",
       "        vertical-align: middle;\n",
       "    }\n",
       "\n",
       "    .dataframe tbody tr th {\n",
       "        vertical-align: top;\n",
       "    }\n",
       "\n",
       "    .dataframe thead th {\n",
       "        text-align: right;\n",
       "    }\n",
       "</style>\n",
       "<table border=\"1\" class=\"dataframe\">\n",
       "  <thead>\n",
       "    <tr style=\"text-align: right;\">\n",
       "      <th></th>\n",
       "      <th>vars</th>\n",
       "      <th>selected_transformation</th>\n",
       "      <th>skew_value</th>\n",
       "    </tr>\n",
       "  </thead>\n",
       "  <tbody>\n",
       "    <tr>\n",
       "      <th>0</th>\n",
       "      <td>cement</td>\n",
       "      <td>skew_log_transform</td>\n",
       "      <td>0.127098</td>\n",
       "    </tr>\n",
       "    <tr>\n",
       "      <th>1</th>\n",
       "      <td>slag</td>\n",
       "      <td>skew_log_transform</td>\n",
       "      <td>0.032692</td>\n",
       "    </tr>\n",
       "    <tr>\n",
       "      <th>2</th>\n",
       "      <td>ash</td>\n",
       "      <td>skew_log_transform</td>\n",
       "      <td>0.226643</td>\n",
       "    </tr>\n",
       "    <tr>\n",
       "      <th>3</th>\n",
       "      <td>superplastcizer</td>\n",
       "      <td>skew_log_transform</td>\n",
       "      <td>0.324634</td>\n",
       "    </tr>\n",
       "    <tr>\n",
       "      <th>4</th>\n",
       "      <td>age</td>\n",
       "      <td>skew_log_transform</td>\n",
       "      <td>0.005085</td>\n",
       "    </tr>\n",
       "  </tbody>\n",
       "</table>\n",
       "</div>"
      ],
      "text/plain": [
       "              vars selected_transformation  skew_value\n",
       "0           cement      skew_log_transform    0.127098\n",
       "1             slag      skew_log_transform    0.032692\n",
       "2              ash      skew_log_transform    0.226643\n",
       "3  superplastcizer      skew_log_transform    0.324634\n",
       "4              age      skew_log_transform    0.005085"
      ]
     },
     "execution_count": 11,
     "metadata": {},
     "output_type": "execute_result"
    }
   ],
   "source": [
    "# Create a data frame with skewness coefficients before and after different transformations to choose the ones to use\n",
    "# For positively skewed variables\n",
    "# All columns have values > 0. I can use even and odd roots \n",
    "\n",
    "# Skewness before transformations\n",
    "pos_no_transf_dict = variables[pos_skewed_cols].skew(axis=0, numeric_only = True).to_dict()\n",
    "pos_skew = pd.DataFrame(list(pos_no_transf_dict.items()), columns = ['vars','skew_no_transform'])\n",
    "\n",
    "# Skewness after Logarithmic Transformation\n",
    "pos_log_transf_dict = variables[pos_skewed_cols].apply(np.log1p).skew(axis=0, numeric_only = True).to_dict()\n",
    "pos_skew = pd.merge(pos_skew, \n",
    "                    pd.DataFrame(list(pos_log_transf_dict.items()), columns = ['vars','skew_log_transform']), \n",
    "                    on = ['vars'])\n",
    "\n",
    "# Transposed matrix for selecting the best transformation\n",
    "pos_skew_T=pos_skew.set_index('vars').T.abs().replace(0, np.nan) \n",
    "\n",
    "# Selected transformation. \n",
    "pos_skew_trans_dict = pos_skew_T.idxmin().to_dict()\n",
    "pos_skew_ready = pd.DataFrame(list(pos_skew_trans_dict.items()), columns = ['vars', 'selected_transformation'])\n",
    "pos_skew_value_dict = pos_skew_T.min().to_dict()\n",
    "pos_skew_ready = pd.merge(pos_skew_ready,pd.DataFrame(list(pos_skew_value_dict.items()), columns = ['vars', 'skew_value']),on = ['vars'])          \n",
    "pos_skew_ready #df of positive skewed columns\n"
   ]
  },
  {
   "cell_type": "code",
   "execution_count": 12,
   "id": "0daa2e14",
   "metadata": {
    "execution": {
     "iopub.execute_input": "2022-11-09T11:34:59.847912Z",
     "iopub.status.busy": "2022-11-09T11:34:59.846742Z",
     "iopub.status.idle": "2022-11-09T11:34:59.865986Z",
     "shell.execute_reply": "2022-11-09T11:34:59.864584Z"
    },
    "papermill": {
     "duration": 0.041035,
     "end_time": "2022-11-09T11:34:59.868140",
     "exception": false,
     "start_time": "2022-11-09T11:34:59.827105",
     "status": "completed"
    },
    "tags": []
   },
   "outputs": [
    {
     "data": {
      "text/html": [
       "<div>\n",
       "<style scoped>\n",
       "    .dataframe tbody tr th:only-of-type {\n",
       "        vertical-align: middle;\n",
       "    }\n",
       "\n",
       "    .dataframe tbody tr th {\n",
       "        vertical-align: top;\n",
       "    }\n",
       "\n",
       "    .dataframe thead th {\n",
       "        text-align: right;\n",
       "    }\n",
       "</style>\n",
       "<table border=\"1\" class=\"dataframe\">\n",
       "  <thead>\n",
       "    <tr style=\"text-align: right;\">\n",
       "      <th></th>\n",
       "      <th>vars</th>\n",
       "      <th>selected_transformation</th>\n",
       "      <th>skew_value</th>\n",
       "    </tr>\n",
       "  </thead>\n",
       "  <tbody>\n",
       "    <tr>\n",
       "      <th>0</th>\n",
       "      <td>cement</td>\n",
       "      <td>log_transform</td>\n",
       "      <td>0.127098</td>\n",
       "    </tr>\n",
       "    <tr>\n",
       "      <th>1</th>\n",
       "      <td>slag</td>\n",
       "      <td>log_transform</td>\n",
       "      <td>0.032692</td>\n",
       "    </tr>\n",
       "    <tr>\n",
       "      <th>2</th>\n",
       "      <td>ash</td>\n",
       "      <td>log_transform</td>\n",
       "      <td>0.226643</td>\n",
       "    </tr>\n",
       "    <tr>\n",
       "      <th>3</th>\n",
       "      <td>superplastcizer</td>\n",
       "      <td>log_transform</td>\n",
       "      <td>0.324634</td>\n",
       "    </tr>\n",
       "    <tr>\n",
       "      <th>4</th>\n",
       "      <td>age</td>\n",
       "      <td>log_transform</td>\n",
       "      <td>0.005085</td>\n",
       "    </tr>\n",
       "    <tr>\n",
       "      <th>5</th>\n",
       "      <td>water</td>\n",
       "      <td>no_transform</td>\n",
       "      <td>0.074324</td>\n",
       "    </tr>\n",
       "    <tr>\n",
       "      <th>6</th>\n",
       "      <td>coarse_agg</td>\n",
       "      <td>no_transform</td>\n",
       "      <td>0.040206</td>\n",
       "    </tr>\n",
       "    <tr>\n",
       "      <th>7</th>\n",
       "      <td>fine_agg</td>\n",
       "      <td>no_transform</td>\n",
       "      <td>0.252979</td>\n",
       "    </tr>\n",
       "  </tbody>\n",
       "</table>\n",
       "</div>"
      ],
      "text/plain": [
       "              vars selected_transformation  skew_value\n",
       "0           cement           log_transform    0.127098\n",
       "1             slag           log_transform    0.032692\n",
       "2              ash           log_transform    0.226643\n",
       "3  superplastcizer           log_transform    0.324634\n",
       "4              age           log_transform    0.005085\n",
       "5            water            no_transform    0.074324\n",
       "6       coarse_agg            no_transform    0.040206\n",
       "7         fine_agg            no_transform    0.252979"
      ]
     },
     "execution_count": 12,
     "metadata": {},
     "output_type": "execute_result"
    }
   ],
   "source": [
    "# Merge sets \n",
    "all_skew_transformed=[pos_skew_ready, no_skew_ready]\n",
    "all_skew_transformed = reduce(lambda  left,right: pd.merge(left,right, how='outer'), all_skew_transformed)\n",
    "all_skew_transformed['selected_transformation'] = all_skew_transformed['selected_transformation'].apply(lambda x: x[5:] )\n",
    "all_skew_transformed # Df with information of skew all columns"
   ]
  },
  {
   "cell_type": "code",
   "execution_count": 13,
   "id": "5cee827c",
   "metadata": {
    "execution": {
     "iopub.execute_input": "2022-11-09T11:34:59.903212Z",
     "iopub.status.busy": "2022-11-09T11:34:59.902404Z",
     "iopub.status.idle": "2022-11-09T11:34:59.914525Z",
     "shell.execute_reply": "2022-11-09T11:34:59.913604Z"
    },
    "papermill": {
     "duration": 0.032017,
     "end_time": "2022-11-09T11:34:59.916646",
     "exception": false,
     "start_time": "2022-11-09T11:34:59.884629",
     "status": "completed"
    },
    "tags": []
   },
   "outputs": [
    {
     "data": {
      "text/plain": [
       "no skew       8\n",
       "small skew    0\n",
       "big skew      0\n",
       "Name: skew_level, dtype: int64"
      ]
     },
     "execution_count": 13,
     "metadata": {},
     "output_type": "execute_result"
    }
   ],
   "source": [
    "# Afte all transformations infornation about skewness\n",
    "all_skew_transformed['skew_level'] = pd.cut(all_skew_transformed['skew_value'], [0, 0.5, 1, 10], labels=[\"no skew\", \"small skew\", \"big skew\"])\n",
    "all_skew_transformed['skew_level'].value_counts()"
   ]
  },
  {
   "cell_type": "code",
   "execution_count": 14,
   "id": "67a520f3",
   "metadata": {
    "execution": {
     "iopub.execute_input": "2022-11-09T11:34:59.950981Z",
     "iopub.status.busy": "2022-11-09T11:34:59.950563Z",
     "iopub.status.idle": "2022-11-09T11:34:59.986563Z",
     "shell.execute_reply": "2022-11-09T11:34:59.985348Z"
    },
    "papermill": {
     "duration": 0.055475,
     "end_time": "2022-11-09T11:34:59.988480",
     "exception": false,
     "start_time": "2022-11-09T11:34:59.933005",
     "status": "completed"
    },
    "tags": []
   },
   "outputs": [
    {
     "name": "stdout",
     "output_type": "stream",
     "text": [
      "<class 'pandas.core.frame.DataFrame'>\n",
      "RangeIndex: 1030 entries, 0 to 1029\n",
      "Data columns (total 8 columns):\n",
      " #   Column                         Non-Null Count  Dtype  \n",
      "---  ------                         --------------  -----  \n",
      " 0   cement_log_transform           1030 non-null   float64\n",
      " 1   slag_log_transform             1030 non-null   float64\n",
      " 2   ash_log_transform              1030 non-null   float64\n",
      " 3   superplastcizer_log_transform  1030 non-null   float64\n",
      " 4   age_log_transform              1030 non-null   float64\n",
      " 5   water_no_transform             1030 non-null   float64\n",
      " 6   coarse_agg_no_transform        1030 non-null   float64\n",
      " 7   fine_agg_no_transform          1030 non-null   float64\n",
      "dtypes: float64(8)\n",
      "memory usage: 64.5 KB\n"
     ]
    }
   ],
   "source": [
    "# Make transformation automatically based on previous analysis\n",
    "# Preparation for doing all transformation automatically\n",
    "list_selected_transformation = all_skew_transformed['selected_transformation'].unique().tolist()\n",
    "dict_selected_transformation = {key:[] for key in list_selected_transformation}\n",
    "\n",
    "# Dictionary with columns names and selected transformation\n",
    "for item in dict_selected_transformation.items():\n",
    "    var_list = all_skew_transformed.loc[all_skew_transformed['selected_transformation'] == item[0], 'vars'].tolist()\n",
    "    for i in var_list:\n",
    "        item[1].append(i)\n",
    "\n",
    "\n",
    "# Copy data frame into new one for transformations\n",
    "vasriables_norm = variables.copy()\n",
    "\n",
    "# function for appling transformation \n",
    "def transform(x, method):\n",
    "    \"\"\"\"apply transformation for df \"\"\"\n",
    "    global res    \n",
    "    if method == 'log_transform':\n",
    "        res = np.log1p(x)\n",
    "    elif method == 'no_transform':\n",
    "        res = x \n",
    "    return res\n",
    "# rename columns in data set. new names have info about performed transformation\n",
    "for item in dict_selected_transformation.items():\n",
    "    columns_list = item[1]\n",
    "    method = item[0]\n",
    "    for col in columns_list:\n",
    "        vasriables_norm['{}_{}'.format(col, method)] = vasriables_norm[col].apply(lambda x: transform(x, method))\n",
    "        vasriables_norm = vasriables_norm.drop(columns=[col])\n",
    "vasriables_norm.info()"
   ]
  },
  {
   "cell_type": "code",
   "execution_count": 15,
   "id": "6dfb8949",
   "metadata": {
    "execution": {
     "iopub.execute_input": "2022-11-09T11:35:00.024766Z",
     "iopub.status.busy": "2022-11-09T11:35:00.023735Z",
     "iopub.status.idle": "2022-11-09T11:35:01.338409Z",
     "shell.execute_reply": "2022-11-09T11:35:01.337396Z"
    },
    "papermill": {
     "duration": 1.334875,
     "end_time": "2022-11-09T11:35:01.340304",
     "exception": false,
     "start_time": "2022-11-09T11:35:00.005429",
     "status": "completed"
    },
    "tags": []
   },
   "outputs": [
    {
     "data": {
      "image/png": "[encoded data removed]",
      "text/plain": [
       "<Figure size 1440x720 with 8 Axes>"
      ]
     },
     "metadata": {
      "needs_background": "light"
     },
     "output_type": "display_data"
    }
   ],
   "source": [
    "# Build histograms for all variables after fix skewness\n",
    "fig, ax = plt.subplots(2, 4, sharex=False, sharey=False, figsize=(20, 10))\n",
    "col=0\n",
    "for i in range(2):\n",
    "    for j in range(4):\n",
    "        vasriables_norm.hist(column = vasriables_norm.columns[col], bins = 10, ax=ax[i,j])\n",
    "        col += 1\n",
    "            \n",
    "fig.tight_layout()\n",
    "fig.show()"
   ]
  },
  {
   "cell_type": "code",
   "execution_count": 16,
   "id": "3a74af36",
   "metadata": {
    "execution": {
     "iopub.execute_input": "2022-11-09T11:35:01.377727Z",
     "iopub.status.busy": "2022-11-09T11:35:01.377319Z",
     "iopub.status.idle": "2022-11-09T11:35:01.382731Z",
     "shell.execute_reply": "2022-11-09T11:35:01.382031Z"
    },
    "papermill": {
     "duration": 0.026253,
     "end_time": "2022-11-09T11:35:01.384496",
     "exception": false,
     "start_time": "2022-11-09T11:35:01.358243",
     "status": "completed"
    },
    "tags": []
   },
   "outputs": [],
   "source": [
    "# Joint back\n",
    "df_norm_full=target.join(vasriables_norm,  how='inner') "
   ]
  },
  {
   "cell_type": "code",
   "execution_count": 17,
   "id": "c5c30a64",
   "metadata": {
    "execution": {
     "iopub.execute_input": "2022-11-09T11:35:01.420171Z",
     "iopub.status.busy": "2022-11-09T11:35:01.419778Z",
     "iopub.status.idle": "2022-11-09T11:35:01.847207Z",
     "shell.execute_reply": "2022-11-09T11:35:01.845702Z"
    },
    "papermill": {
     "duration": 0.448986,
     "end_time": "2022-11-09T11:35:01.850569",
     "exception": false,
     "start_time": "2022-11-09T11:35:01.401583",
     "status": "completed"
    },
    "tags": []
   },
   "outputs": [
    {
     "data": {
      "image/png": "[encoded data removed]",
      "text/plain": [
       "<Figure size 1800x1008 with 2 Axes>"
      ]
     },
     "metadata": {
      "needs_background": "light"
     },
     "output_type": "display_data"
    }
   ],
   "source": [
    "# Heatmap\n",
    "cmap = sns.diverging_palette(220, 10, as_cmap=True)\n",
    "matrix = np.triu(df_norm_full.corr())\n",
    "plt.figure(figsize=(25, 14))\n",
    "plt.title('Correlation matrix', fontsize=18)\n",
    "sns.heatmap(df_norm_full.corr(), annot=True,\n",
    "            fmt='.1f', vmin=-0.4, center=0, cmap=cmap, mask=matrix)\n",
    "\n",
    "plt.show()"
   ]
  },
  {
   "cell_type": "code",
   "execution_count": 18,
   "id": "0bb5af6d",
   "metadata": {
    "execution": {
     "iopub.execute_input": "2022-11-09T11:35:01.888348Z",
     "iopub.status.busy": "2022-11-09T11:35:01.888006Z",
     "iopub.status.idle": "2022-11-09T11:35:01.926145Z",
     "shell.execute_reply": "2022-11-09T11:35:01.924453Z"
    },
    "papermill": {
     "duration": 0.060694,
     "end_time": "2022-11-09T11:35:01.929502",
     "exception": false,
     "start_time": "2022-11-09T11:35:01.868808",
     "status": "completed"
    },
    "tags": []
   },
   "outputs": [
    {
     "data": {
      "text/html": [
       "<div>\n",
       "<style scoped>\n",
       "    .dataframe tbody tr th:only-of-type {\n",
       "        vertical-align: middle;\n",
       "    }\n",
       "\n",
       "    .dataframe tbody tr th {\n",
       "        vertical-align: top;\n",
       "    }\n",
       "\n",
       "    .dataframe thead th {\n",
       "        text-align: right;\n",
       "    }\n",
       "</style>\n",
       "<table border=\"1\" class=\"dataframe\">\n",
       "  <thead>\n",
       "    <tr style=\"text-align: right;\">\n",
       "      <th></th>\n",
       "      <th>feature</th>\n",
       "      <th>VIF</th>\n",
       "    </tr>\n",
       "  </thead>\n",
       "  <tbody>\n",
       "    <tr>\n",
       "      <th>0</th>\n",
       "      <td>cement_log_transform</td>\n",
       "      <td>193.873098</td>\n",
       "    </tr>\n",
       "    <tr>\n",
       "      <th>6</th>\n",
       "      <td>coarse_agg_no_transform</td>\n",
       "      <td>112.686179</td>\n",
       "    </tr>\n",
       "    <tr>\n",
       "      <th>5</th>\n",
       "      <td>water_no_transform</td>\n",
       "      <td>100.809148</td>\n",
       "    </tr>\n",
       "    <tr>\n",
       "      <th>7</th>\n",
       "      <td>fine_agg_no_transform</td>\n",
       "      <td>69.073787</td>\n",
       "    </tr>\n",
       "    <tr>\n",
       "      <th>4</th>\n",
       "      <td>age_log_transform</td>\n",
       "      <td>9.907243</td>\n",
       "    </tr>\n",
       "    <tr>\n",
       "      <th>3</th>\n",
       "      <td>superplastcizer_log_transform</td>\n",
       "      <td>8.729108</td>\n",
       "    </tr>\n",
       "    <tr>\n",
       "      <th>2</th>\n",
       "      <td>ash_log_transform</td>\n",
       "      <td>4.545774</td>\n",
       "    </tr>\n",
       "    <tr>\n",
       "      <th>1</th>\n",
       "      <td>slag_log_transform</td>\n",
       "      <td>2.983416</td>\n",
       "    </tr>\n",
       "  </tbody>\n",
       "</table>\n",
       "</div>"
      ],
      "text/plain": [
       "                         feature         VIF\n",
       "0           cement_log_transform  193.873098\n",
       "6        coarse_agg_no_transform  112.686179\n",
       "5             water_no_transform  100.809148\n",
       "7          fine_agg_no_transform   69.073787\n",
       "4              age_log_transform    9.907243\n",
       "3  superplastcizer_log_transform    8.729108\n",
       "2              ash_log_transform    4.545774\n",
       "1             slag_log_transform    2.983416"
      ]
     },
     "execution_count": 18,
     "metadata": {},
     "output_type": "execute_result"
    }
   ],
   "source": [
    "# Multicollinearity analysis if data was normalized\n",
    "num_cols = df_norm_full.select_dtypes(include=np.number).columns.tolist()\n",
    "target = 'strength'\n",
    "features = [x for x in num_cols if x != target]\n",
    "\n",
    "# VIF dataframe\n",
    "vif_data = pd.DataFrame()\n",
    "vif_data[\"feature\"] = features\n",
    "  \n",
    "# Calculating VIF for each feature\n",
    "vif_data[\"VIF\"] = [variance_inflation_factor(df_norm_full[features].values, i)\n",
    "                          for i in range(len(features))]\n",
    "\n",
    "vif_data.sort_values('VIF', ascending = False)"
   ]
  },
  {
   "cell_type": "code",
   "execution_count": 19,
   "id": "6e62ae20",
   "metadata": {
    "execution": {
     "iopub.execute_input": "2022-11-09T11:35:01.968260Z",
     "iopub.status.busy": "2022-11-09T11:35:01.967894Z",
     "iopub.status.idle": "2022-11-09T11:35:01.986459Z",
     "shell.execute_reply": "2022-11-09T11:35:01.985146Z"
    },
    "papermill": {
     "duration": 0.04109,
     "end_time": "2022-11-09T11:35:01.989060",
     "exception": false,
     "start_time": "2022-11-09T11:35:01.947970",
     "status": "completed"
    },
    "tags": []
   },
   "outputs": [
    {
     "data": {
      "text/html": [
       "<div>\n",
       "<style scoped>\n",
       "    .dataframe tbody tr th:only-of-type {\n",
       "        vertical-align: middle;\n",
       "    }\n",
       "\n",
       "    .dataframe tbody tr th {\n",
       "        vertical-align: top;\n",
       "    }\n",
       "\n",
       "    .dataframe thead th {\n",
       "        text-align: right;\n",
       "    }\n",
       "</style>\n",
       "<table border=\"1\" class=\"dataframe\">\n",
       "  <thead>\n",
       "    <tr style=\"text-align: right;\">\n",
       "      <th></th>\n",
       "      <th>feature</th>\n",
       "      <th>VIF</th>\n",
       "      <th>corr_with_target</th>\n",
       "    </tr>\n",
       "  </thead>\n",
       "  <tbody>\n",
       "    <tr>\n",
       "      <th>0</th>\n",
       "      <td>cement_log_transform</td>\n",
       "      <td>193.873098</td>\n",
       "      <td>0.490698</td>\n",
       "    </tr>\n",
       "    <tr>\n",
       "      <th>1</th>\n",
       "      <td>slag_log_transform</td>\n",
       "      <td>2.983416</td>\n",
       "      <td>0.211526</td>\n",
       "    </tr>\n",
       "    <tr>\n",
       "      <th>2</th>\n",
       "      <td>ash_log_transform</td>\n",
       "      <td>4.545774</td>\n",
       "      <td>-0.075002</td>\n",
       "    </tr>\n",
       "    <tr>\n",
       "      <th>3</th>\n",
       "      <td>superplastcizer_log_transform</td>\n",
       "      <td>8.729108</td>\n",
       "      <td>0.337068</td>\n",
       "    </tr>\n",
       "    <tr>\n",
       "      <th>4</th>\n",
       "      <td>age_log_transform</td>\n",
       "      <td>9.907243</td>\n",
       "      <td>0.549450</td>\n",
       "    </tr>\n",
       "    <tr>\n",
       "      <th>5</th>\n",
       "      <td>water_no_transform</td>\n",
       "      <td>100.809148</td>\n",
       "      <td>-0.289613</td>\n",
       "    </tr>\n",
       "    <tr>\n",
       "      <th>6</th>\n",
       "      <td>coarse_agg_no_transform</td>\n",
       "      <td>112.686179</td>\n",
       "      <td>-0.164928</td>\n",
       "    </tr>\n",
       "    <tr>\n",
       "      <th>7</th>\n",
       "      <td>fine_agg_no_transform</td>\n",
       "      <td>69.073787</td>\n",
       "      <td>-0.167249</td>\n",
       "    </tr>\n",
       "  </tbody>\n",
       "</table>\n",
       "</div>"
      ],
      "text/plain": [
       "                         feature         VIF  corr_with_target\n",
       "0           cement_log_transform  193.873098          0.490698\n",
       "1             slag_log_transform    2.983416          0.211526\n",
       "2              ash_log_transform    4.545774         -0.075002\n",
       "3  superplastcizer_log_transform    8.729108          0.337068\n",
       "4              age_log_transform    9.907243          0.549450\n",
       "5             water_no_transform  100.809148         -0.289613\n",
       "6        coarse_agg_no_transform  112.686179         -0.164928\n",
       "7          fine_agg_no_transform   69.073787         -0.167249"
      ]
     },
     "execution_count": 19,
     "metadata": {},
     "output_type": "execute_result"
    }
   ],
   "source": [
    "# Сombine data on VIF and correlation with the target to decide if we should remove some of the highly correlated predicting features\n",
    "corr = df_norm_full[num_cols].corr()\n",
    "corr['feature'] = corr.index\n",
    "VIF_and_target_corr = pd.merge(vif_data, corr[['strength', 'feature']], on = 'feature')\n",
    "VIF_and_target_corr.rename(columns={\"strength\": \"corr_with_target\"}, inplace=True)\n",
    "VIF_and_target_corr"
   ]
  },
  {
   "cell_type": "code",
   "execution_count": 20,
   "id": "08a425ec",
   "metadata": {
    "execution": {
     "iopub.execute_input": "2022-11-09T11:35:02.028000Z",
     "iopub.status.busy": "2022-11-09T11:35:02.027615Z",
     "iopub.status.idle": "2022-11-09T11:35:03.148976Z",
     "shell.execute_reply": "2022-11-09T11:35:03.147530Z"
    },
    "papermill": {
     "duration": 1.143851,
     "end_time": "2022-11-09T11:35:03.151395",
     "exception": false,
     "start_time": "2022-11-09T11:35:02.007544",
     "status": "completed"
    },
    "tags": []
   },
   "outputs": [
    {
     "data": {
      "text/html": [
       "        <script type=\"text/javascript\">\n",
       "        window.PlotlyConfig = {MathJaxConfig: 'local'};\n",
       "        if (window.MathJax && window.MathJax.Hub && window.MathJax.Hub.Config) {window.MathJax.Hub.Config({SVG: {font: \"STIX-Web\"}});}\n",
       "        if (typeof require !== 'undefined') {\n",
       "        require.undef(\"plotly\");\n",
       "        requirejs.config({\n",
       "            paths: {\n",
       "                'plotly': ['https://cdn.plot.ly/plotly-2.14.0.min']\n",
       "            }\n",
       "        });\n",
       "        require(['plotly'], function(Plotly) {\n",
       "            window._Plotly = Plotly;\n",
       "        });\n",
       "        }\n",
       "        </script>\n",
       "        "
      ]
     },
     "metadata": {},
     "output_type": "display_data"
    },
    {
     "data": {
      "text/html": [
       "<div>                            <div id=\"a67a993a-2a81-43b5-ace4-f9904b3c3825\" class=\"plotly-graph-div\" style=\"height:500px; width:800px;\"></div>            <script type=\"text/javascript\">                require([\"plotly\"], function(Plotly) {                    window.PLOTLYENV=window.PLOTLYENV || {};                                    if (document.getElementById(\"a67a993a-2a81-43b5-ace4-f9904b3c3825\")) {                    Plotly.newPlot(                        \"a67a993a-2a81-43b5-ace4-f9904b3c3825\",                        [{\"customdata\":[[\"cement_log_transform\"],[\"slag_log_transform\"],[\"ash_log_transform\"],[\"superplastcizer_log_transform\"],[\"age_log_transform\"],[\"water_no_transform\"],[\"coarse_agg_no_transform\"],[\"fine_agg_no_transform\"]],\"hovertemplate\":\"Variance Inflation Factor=%{x}<br>Correlation with target=%{y}<br>feature=%{customdata[0]}<extra></extra>\",\"legendgroup\":\"\",\"marker\":{\"color\":\"#636efa\",\"symbol\":\"circle\",\"line\":{\"color\":\"DarkSlateGrey\",\"width\":2},\"size\":12},\"mode\":\"markers\",\"name\":\"\",\"orientation\":\"v\",\"showlegend\":false,\"x\":[193.87309777523947,2.9834156038945427,4.545774182031438,8.729107539154358,9.907242617797902,100.80914824294088,112.68617859634405,69.07378703938248],\"xaxis\":\"x\",\"y\":[0.4906977132042274,0.21152606214604738,-0.07500180887754593,0.33706783854603256,0.5494504467978738,-0.2896134756904165,-0.16492782105733575,-0.1672489619816908],\"yaxis\":\"y\",\"type\":\"scatter\"}],                        {\"template\":{\"data\":{\"histogram2dcontour\":[{\"type\":\"histogram2dcontour\",\"colorbar\":{\"outlinewidth\":0,\"ticks\":\"\"},\"colorscale\":[[0.0,\"#0d0887\"],[0.1111111111111111,\"#46039f\"],[0.2222222222222222,\"#7201a8\"],[0.3333333333333333,\"#9c179e\"],[0.4444444444444444,\"#bd3786\"],[0.5555555555555556,\"#d8576b\"],[0.6666666666666666,\"#ed7953\"],[0.7777777777777778,\"#fb9f3a\"],[0.8888888888888888,\"#fdca26\"],[1.0,\"#f0f921\"]]}],\"choropleth\":[{\"type\":\"choropleth\",\"colorbar\":{\"outlinewidth\":0,\"ticks\":\"\"}}],\"histogram2d\":[{\"type\":\"histogram2d\",\"colorbar\":{\"outlinewidth\":0,\"ticks\":\"\"},\"colorscale\":[[0.0,\"#0d0887\"],[0.1111111111111111,\"#46039f\"],[0.2222222222222222,\"#7201a8\"],[0.3333333333333333,\"#9c179e\"],[0.4444444444444444,\"#bd3786\"],[0.5555555555555556,\"#d8576b\"],[0.6666666666666666,\"#ed7953\"],[0.7777777777777778,\"#fb9f3a\"],[0.8888888888888888,\"#fdca26\"],[1.0,\"#f0f921\"]]}],\"heatmap\":[{\"type\":\"heatmap\",\"colorbar\":{\"outlinewidth\":0,\"ticks\":\"\"},\"colorscale\":[[0.0,\"#0d0887\"],[0.1111111111111111,\"#46039f\"],[0.2222222222222222,\"#7201a8\"],[0.3333333333333333,\"#9c179e\"],[0.4444444444444444,\"#bd3786\"],[0.5555555555555556,\"#d8576b\"],[0.6666666666666666,\"#ed7953\"],[0.7777777777777778,\"#fb9f3a\"],[0.8888888888888888,\"#fdca26\"],[1.0,\"#f0f921\"]]}],\"heatmapgl\":[{\"type\":\"heatmapgl\",\"colorbar\":{\"outlinewidth\":0,\"ticks\":\"\"},\"colorscale\":[[0.0,\"#0d0887\"],[0.1111111111111111,\"#46039f\"],[0.2222222222222222,\"#7201a8\"],[0.3333333333333333,\"#9c179e\"],[0.4444444444444444,\"#bd3786\"],[0.5555555555555556,\"#d8576b\"],[0.6666666666666666,\"#ed7953\"],[0.7777777777777778,\"#fb9f3a\"],[0.8888888888888888,\"#fdca26\"],[1.0,\"#f0f921\"]]}],\"contourcarpet\":[{\"type\":\"contourcarpet\",\"colorbar\":{\"outlinewidth\":0,\"ticks\":\"\"}}],\"contour\":[{\"type\":\"contour\",\"colorbar\":{\"outlinewidth\":0,\"ticks\":\"\"},\"colorscale\":[[0.0,\"#0d0887\"],[0.1111111111111111,\"#46039f\"],[0.2222222222222222,\"#7201a8\"],[0.3333333333333333,\"#9c179e\"],[0.4444444444444444,\"#bd3786\"],[0.5555555555555556,\"#d8576b\"],[0.6666666666666666,\"#ed7953\"],[0.7777777777777778,\"#fb9f3a\"],[0.8888888888888888,\"#fdca26\"],[1.0,\"#f0f921\"]]}],\"surface\":[{\"type\":\"surface\",\"colorbar\":{\"outlinewidth\":0,\"ticks\":\"\"},\"colorscale\":[[0.0,\"#0d0887\"],[0.1111111111111111,\"#46039f\"],[0.2222222222222222,\"#7201a8\"],[0.3333333333333333,\"#9c179e\"],[0.4444444444444444,\"#bd3786\"],[0.5555555555555556,\"#d8576b\"],[0.6666666666666666,\"#ed7953\"],[0.7777777777777778,\"#fb9f3a\"],[0.8888888888888888,\"#fdca26\"],[1.0,\"#f0f921\"]]}],\"mesh3d\":[{\"type\":\"mesh3d\",\"colorbar\":{\"outlinewidth\":0,\"ticks\":\"\"}}],\"scatter\":[{\"fillpattern\":{\"fillmode\":\"overlay\",\"size\":10,\"solidity\":0.2},\"type\":\"scatter\"}],\"parcoords\":[{\"type\":\"parcoords\",\"line\":{\"colorbar\":{\"outlinewidth\":0,\"ticks\":\"\"}}}],\"scatterpolargl\":[{\"type\":\"scatterpolargl\",\"marker\":{\"colorbar\":{\"outlinewidth\":0,\"ticks\":\"\"}}}],\"bar\":[{\"error_x\":{\"color\":\"#2a3f5f\"},\"error_y\":{\"color\":\"#2a3f5f\"},\"marker\":{\"line\":{\"color\":\"#E5ECF6\",\"width\":0.5},\"pattern\":{\"fillmode\":\"overlay\",\"size\":10,\"solidity\":0.2}},\"type\":\"bar\"}],\"scattergeo\":[{\"type\":\"scattergeo\",\"marker\":{\"colorbar\":{\"outlinewidth\":0,\"ticks\":\"\"}}}],\"scatterpolar\":[{\"type\":\"scatterpolar\",\"marker\":{\"colorbar\":{\"outlinewidth\":0,\"ticks\":\"\"}}}],\"histogram\":[{\"marker\":{\"pattern\":{\"fillmode\":\"overlay\",\"size\":10,\"solidity\":0.2}},\"type\":\"histogram\"}],\"scattergl\":[{\"type\":\"scattergl\",\"marker\":{\"colorbar\":{\"outlinewidth\":0,\"ticks\":\"\"}}}],\"scatter3d\":[{\"type\":\"scatter3d\",\"line\":{\"colorbar\":{\"outlinewidth\":0,\"ticks\":\"\"}},\"marker\":{\"colorbar\":{\"outlinewidth\":0,\"ticks\":\"\"}}}],\"scattermapbox\":[{\"type\":\"scattermapbox\",\"marker\":{\"colorbar\":{\"outlinewidth\":0,\"ticks\":\"\"}}}],\"scatterternary\":[{\"type\":\"scatterternary\",\"marker\":{\"colorbar\":{\"outlinewidth\":0,\"ticks\":\"\"}}}],\"scattercarpet\":[{\"type\":\"scattercarpet\",\"marker\":{\"colorbar\":{\"outlinewidth\":0,\"ticks\":\"\"}}}],\"carpet\":[{\"aaxis\":{\"endlinecolor\":\"#2a3f5f\",\"gridcolor\":\"white\",\"linecolor\":\"white\",\"minorgridcolor\":\"white\",\"startlinecolor\":\"#2a3f5f\"},\"baxis\":{\"endlinecolor\":\"#2a3f5f\",\"gridcolor\":\"white\",\"linecolor\":\"white\",\"minorgridcolor\":\"white\",\"startlinecolor\":\"#2a3f5f\"},\"type\":\"carpet\"}],\"table\":[{\"cells\":{\"fill\":{\"color\":\"#EBF0F8\"},\"line\":{\"color\":\"white\"}},\"header\":{\"fill\":{\"color\":\"#C8D4E3\"},\"line\":{\"color\":\"white\"}},\"type\":\"table\"}],\"barpolar\":[{\"marker\":{\"line\":{\"color\":\"#E5ECF6\",\"width\":0.5},\"pattern\":{\"fillmode\":\"overlay\",\"size\":10,\"solidity\":0.2}},\"type\":\"barpolar\"}],\"pie\":[{\"automargin\":true,\"type\":\"pie\"}]},\"layout\":{\"autotypenumbers\":\"strict\",\"colorway\":[\"#636efa\",\"#EF553B\",\"#00cc96\",\"#ab63fa\",\"#FFA15A\",\"#19d3f3\",\"#FF6692\",\"#B6E880\",\"#FF97FF\",\"#FECB52\"],\"font\":{\"color\":\"#2a3f5f\"},\"hovermode\":\"closest\",\"hoverlabel\":{\"align\":\"left\"},\"paper_bgcolor\":\"white\",\"plot_bgcolor\":\"#E5ECF6\",\"polar\":{\"bgcolor\":\"#E5ECF6\",\"angularaxis\":{\"gridcolor\":\"white\",\"linecolor\":\"white\",\"ticks\":\"\"},\"radialaxis\":{\"gridcolor\":\"white\",\"linecolor\":\"white\",\"ticks\":\"\"}},\"ternary\":{\"bgcolor\":\"#E5ECF6\",\"aaxis\":{\"gridcolor\":\"white\",\"linecolor\":\"white\",\"ticks\":\"\"},\"baxis\":{\"gridcolor\":\"white\",\"linecolor\":\"white\",\"ticks\":\"\"},\"caxis\":{\"gridcolor\":\"white\",\"linecolor\":\"white\",\"ticks\":\"\"}},\"coloraxis\":{\"colorbar\":{\"outlinewidth\":0,\"ticks\":\"\"}},\"colorscale\":{\"sequential\":[[0.0,\"#0d0887\"],[0.1111111111111111,\"#46039f\"],[0.2222222222222222,\"#7201a8\"],[0.3333333333333333,\"#9c179e\"],[0.4444444444444444,\"#bd3786\"],[0.5555555555555556,\"#d8576b\"],[0.6666666666666666,\"#ed7953\"],[0.7777777777777778,\"#fb9f3a\"],[0.8888888888888888,\"#fdca26\"],[1.0,\"#f0f921\"]],\"sequentialminus\":[[0.0,\"#0d0887\"],[0.1111111111111111,\"#46039f\"],[0.2222222222222222,\"#7201a8\"],[0.3333333333333333,\"#9c179e\"],[0.4444444444444444,\"#bd3786\"],[0.5555555555555556,\"#d8576b\"],[0.6666666666666666,\"#ed7953\"],[0.7777777777777778,\"#fb9f3a\"],[0.8888888888888888,\"#fdca26\"],[1.0,\"#f0f921\"]],\"diverging\":[[0,\"#8e0152\"],[0.1,\"#c51b7d\"],[0.2,\"#de77ae\"],[0.3,\"#f1b6da\"],[0.4,\"#fde0ef\"],[0.5,\"#f7f7f7\"],[0.6,\"#e6f5d0\"],[0.7,\"#b8e186\"],[0.8,\"#7fbc41\"],[0.9,\"#4d9221\"],[1,\"#276419\"]]},\"xaxis\":{\"gridcolor\":\"white\",\"linecolor\":\"white\",\"ticks\":\"\",\"title\":{\"standoff\":15},\"zerolinecolor\":\"white\",\"automargin\":true,\"zerolinewidth\":2},\"yaxis\":{\"gridcolor\":\"white\",\"linecolor\":\"white\",\"ticks\":\"\",\"title\":{\"standoff\":15},\"zerolinecolor\":\"white\",\"automargin\":true,\"zerolinewidth\":2},\"scene\":{\"xaxis\":{\"backgroundcolor\":\"#E5ECF6\",\"gridcolor\":\"white\",\"linecolor\":\"white\",\"showbackground\":true,\"ticks\":\"\",\"zerolinecolor\":\"white\",\"gridwidth\":2},\"yaxis\":{\"backgroundcolor\":\"#E5ECF6\",\"gridcolor\":\"white\",\"linecolor\":\"white\",\"showbackground\":true,\"ticks\":\"\",\"zerolinecolor\":\"white\",\"gridwidth\":2},\"zaxis\":{\"backgroundcolor\":\"#E5ECF6\",\"gridcolor\":\"white\",\"linecolor\":\"white\",\"showbackground\":true,\"ticks\":\"\",\"zerolinecolor\":\"white\",\"gridwidth\":2}},\"shapedefaults\":{\"line\":{\"color\":\"#2a3f5f\"}},\"annotationdefaults\":{\"arrowcolor\":\"#2a3f5f\",\"arrowhead\":0,\"arrowwidth\":1},\"geo\":{\"bgcolor\":\"white\",\"landcolor\":\"#E5ECF6\",\"subunitcolor\":\"white\",\"showland\":true,\"showlakes\":true,\"lakecolor\":\"white\"},\"title\":{\"x\":0.05},\"mapbox\":{\"style\":\"light\"}}},\"xaxis\":{\"anchor\":\"y\",\"domain\":[0.0,1.0],\"title\":{\"text\":\"Variance Inflation Factor\"}},\"yaxis\":{\"anchor\":\"x\",\"domain\":[0.0,1.0],\"title\":{\"text\":\"Correlation with target\"}},\"legend\":{\"tracegroupgap\":0},\"title\":{\"text\":\"Feature usefulness: Variance Inflation Factor vs Correlation with target\"},\"height\":500,\"width\":800},                        {\"responsive\": true}                    ).then(function(){\n",
       "                            \n",
       "var gd = document.getElementById('a67a993a-2a81-43b5-ace4-f9904b3c3825');\n",
       "var x = new MutationObserver(function (mutations, observer) {{\n",
       "        var display = window.getComputedStyle(gd).display;\n",
       "        if (!display || display === 'none') {{\n",
       "            console.log([gd, 'removed!']);\n",
       "            Plotly.purge(gd);\n",
       "            observer.disconnect();\n",
       "        }}\n",
       "}});\n",
       "\n",
       "// Listen for the removal of the full notebook cells\n",
       "var notebookContainer = gd.closest('#notebook-container');\n",
       "if (notebookContainer) {{\n",
       "    x.observe(notebookContainer, {childList: true});\n",
       "}}\n",
       "\n",
       "// Listen for the clearing of the current output cell\n",
       "var outputEl = gd.closest('.output');\n",
       "if (outputEl) {{\n",
       "    x.observe(outputEl, {childList: true});\n",
       "}}\n",
       "\n",
       "                        })                };                });            </script>        </div>"
      ]
     },
     "metadata": {},
     "output_type": "display_data"
    }
   ],
   "source": [
    "# Create a scatter plot for Variance Inflation Factor vs Correlation with target\n",
    "fig = px.scatter(VIF_and_target_corr, x=\"VIF\", y=\"corr_with_target\",\n",
    "                 width=800, height=500,\n",
    "                 hover_data = VIF_and_target_corr[['feature']],\n",
    "                 labels={\n",
    "                     \"VIF\": \"Variance Inflation Factor\",\n",
    "                     \"corr_with_target\": \"Correlation with target\"\n",
    "                 },\n",
    "                 title='Feature usefulness: Variance Inflation Factor vs Correlation with target',\n",
    "                 trendline_color_override=\"black\")\n",
    "fig.update_traces(marker=dict(size=12,\n",
    "                              line=dict(width=2,\n",
    "                                        color='DarkSlateGrey')),\n",
    "                  selector=dict(mode='markers'))\n",
    "fig.show()\n"
   ]
  },
  {
   "cell_type": "code",
   "execution_count": 21,
   "id": "1168951b",
   "metadata": {
    "execution": {
     "iopub.execute_input": "2022-11-09T11:35:03.190411Z",
     "iopub.status.busy": "2022-11-09T11:35:03.189904Z",
     "iopub.status.idle": "2022-11-09T11:35:03.224153Z",
     "shell.execute_reply": "2022-11-09T11:35:03.223284Z"
    },
    "papermill": {
     "duration": 0.056274,
     "end_time": "2022-11-09T11:35:03.226499",
     "exception": false,
     "start_time": "2022-11-09T11:35:03.170225",
     "status": "completed"
    },
    "tags": []
   },
   "outputs": [
    {
     "data": {
      "text/html": [
       "<div>\n",
       "<style scoped>\n",
       "    .dataframe tbody tr th:only-of-type {\n",
       "        vertical-align: middle;\n",
       "    }\n",
       "\n",
       "    .dataframe tbody tr th {\n",
       "        vertical-align: top;\n",
       "    }\n",
       "\n",
       "    .dataframe thead th {\n",
       "        text-align: right;\n",
       "    }\n",
       "</style>\n",
       "<table border=\"1\" class=\"dataframe\">\n",
       "  <thead>\n",
       "    <tr style=\"text-align: right;\">\n",
       "      <th></th>\n",
       "      <th>count</th>\n",
       "      <th>mean</th>\n",
       "      <th>std</th>\n",
       "      <th>min</th>\n",
       "      <th>25%</th>\n",
       "      <th>50%</th>\n",
       "      <th>75%</th>\n",
       "      <th>max</th>\n",
       "    </tr>\n",
       "  </thead>\n",
       "  <tbody>\n",
       "    <tr>\n",
       "      <th>strength</th>\n",
       "      <td>1030.0</td>\n",
       "      <td>35.817836</td>\n",
       "      <td>16.705679</td>\n",
       "      <td>2.331808</td>\n",
       "      <td>23.707115</td>\n",
       "      <td>34.442774</td>\n",
       "      <td>46.136287</td>\n",
       "      <td>82.599225</td>\n",
       "    </tr>\n",
       "    <tr>\n",
       "      <th>cement_log_transform</th>\n",
       "      <td>1030.0</td>\n",
       "      <td>0.565330</td>\n",
       "      <td>0.228730</td>\n",
       "      <td>0.000000</td>\n",
       "      <td>0.379755</td>\n",
       "      <td>0.589642</td>\n",
       "      <td>0.739172</td>\n",
       "      <td>1.000000</td>\n",
       "    </tr>\n",
       "    <tr>\n",
       "      <th>slag_log_transform</th>\n",
       "      <td>1030.0</td>\n",
       "      <td>0.433780</td>\n",
       "      <td>0.409654</td>\n",
       "      <td>0.000000</td>\n",
       "      <td>0.000000</td>\n",
       "      <td>0.532594</td>\n",
       "      <td>0.844112</td>\n",
       "      <td>1.000000</td>\n",
       "    </tr>\n",
       "    <tr>\n",
       "      <th>ash_log_transform</th>\n",
       "      <td>1030.0</td>\n",
       "      <td>0.403177</td>\n",
       "      <td>0.447809</td>\n",
       "      <td>0.000000</td>\n",
       "      <td>0.000000</td>\n",
       "      <td>0.000000</td>\n",
       "      <td>0.901502</td>\n",
       "      <td>1.000000</td>\n",
       "    </tr>\n",
       "    <tr>\n",
       "      <th>superplastcizer_log_transform</th>\n",
       "      <td>1030.0</td>\n",
       "      <td>0.415338</td>\n",
       "      <td>0.329743</td>\n",
       "      <td>0.000000</td>\n",
       "      <td>0.000000</td>\n",
       "      <td>0.569499</td>\n",
       "      <td>0.688737</td>\n",
       "      <td>1.000000</td>\n",
       "    </tr>\n",
       "    <tr>\n",
       "      <th>age_log_transform</th>\n",
       "      <td>1030.0</td>\n",
       "      <td>0.489311</td>\n",
       "      <td>0.213156</td>\n",
       "      <td>0.000000</td>\n",
       "      <td>0.266110</td>\n",
       "      <td>0.513323</td>\n",
       "      <td>0.643039</td>\n",
       "      <td>1.000000</td>\n",
       "    </tr>\n",
       "    <tr>\n",
       "      <th>water_no_transform</th>\n",
       "      <td>1030.0</td>\n",
       "      <td>0.477576</td>\n",
       "      <td>0.170504</td>\n",
       "      <td>0.000000</td>\n",
       "      <td>0.344511</td>\n",
       "      <td>0.504990</td>\n",
       "      <td>0.560878</td>\n",
       "      <td>1.000000</td>\n",
       "    </tr>\n",
       "    <tr>\n",
       "      <th>coarse_agg_no_transform</th>\n",
       "      <td>1030.0</td>\n",
       "      <td>0.499763</td>\n",
       "      <td>0.226029</td>\n",
       "      <td>0.000000</td>\n",
       "      <td>0.380814</td>\n",
       "      <td>0.485465</td>\n",
       "      <td>0.663953</td>\n",
       "      <td>1.000000</td>\n",
       "    </tr>\n",
       "    <tr>\n",
       "      <th>fine_agg_no_transform</th>\n",
       "      <td>1030.0</td>\n",
       "      <td>0.450524</td>\n",
       "      <td>0.201143</td>\n",
       "      <td>0.000000</td>\n",
       "      <td>0.343578</td>\n",
       "      <td>0.465404</td>\n",
       "      <td>0.577020</td>\n",
       "      <td>1.000000</td>\n",
       "    </tr>\n",
       "  </tbody>\n",
       "</table>\n",
       "</div>"
      ],
      "text/plain": [
       "                                count       mean        std       min  \\\n",
       "strength                       1030.0  35.817836  16.705679  2.331808   \n",
       "cement_log_transform           1030.0   0.565330   0.228730  0.000000   \n",
       "slag_log_transform             1030.0   0.433780   0.409654  0.000000   \n",
       "ash_log_transform              1030.0   0.403177   0.447809  0.000000   \n",
       "superplastcizer_log_transform  1030.0   0.415338   0.329743  0.000000   \n",
       "age_log_transform              1030.0   0.489311   0.213156  0.000000   \n",
       "water_no_transform             1030.0   0.477576   0.170504  0.000000   \n",
       "coarse_agg_no_transform        1030.0   0.499763   0.226029  0.000000   \n",
       "fine_agg_no_transform          1030.0   0.450524   0.201143  0.000000   \n",
       "\n",
       "                                     25%        50%        75%        max  \n",
       "strength                       23.707115  34.442774  46.136287  82.599225  \n",
       "cement_log_transform            0.379755   0.589642   0.739172   1.000000  \n",
       "slag_log_transform              0.000000   0.532594   0.844112   1.000000  \n",
       "ash_log_transform               0.000000   0.000000   0.901502   1.000000  \n",
       "superplastcizer_log_transform   0.000000   0.569499   0.688737   1.000000  \n",
       "age_log_transform               0.266110   0.513323   0.643039   1.000000  \n",
       "water_no_transform              0.344511   0.504990   0.560878   1.000000  \n",
       "coarse_agg_no_transform         0.380814   0.485465   0.663953   1.000000  \n",
       "fine_agg_no_transform           0.343578   0.465404   0.577020   1.000000  "
      ]
     },
     "execution_count": 21,
     "metadata": {},
     "output_type": "execute_result"
    }
   ],
   "source": [
    "# Scale features for OLS Regression\n",
    "df_norm_scaled = df_norm_full.copy()\n",
    "s = MinMaxScaler()\n",
    "df_norm_scaled[features] = s.fit_transform(df_norm_scaled[features])\n",
    "\n",
    "# Look at scaled variables\n",
    "df_norm_scaled.describe().T"
   ]
  },
  {
   "cell_type": "code",
   "execution_count": 22,
   "id": "bba1de9f",
   "metadata": {
    "execution": {
     "iopub.execute_input": "2022-11-09T11:35:03.265630Z",
     "iopub.status.busy": "2022-11-09T11:35:03.265013Z",
     "iopub.status.idle": "2022-11-09T11:35:03.294005Z",
     "shell.execute_reply": "2022-11-09T11:35:03.293204Z"
    },
    "papermill": {
     "duration": 0.052442,
     "end_time": "2022-11-09T11:35:03.297657",
     "exception": false,
     "start_time": "2022-11-09T11:35:03.245215",
     "status": "completed"
    },
    "tags": []
   },
   "outputs": [
    {
     "name": "stdout",
     "output_type": "stream",
     "text": [
      "                            OLS Regression Results                            \n",
      "==============================================================================\n",
      "Dep. Variable:               strength   R-squared:                       0.806\n",
      "Model:                            OLS   Adj. R-squared:                  0.805\n",
      "Method:                 Least Squares   F-statistic:                     531.5\n",
      "Date:                Wed, 09 Nov 2022   Prob (F-statistic):               0.00\n",
      "Time:                        11:35:03   Log-Likelihood:                -3515.7\n",
      "No. Observations:                1030   AIC:                             7049.\n",
      "Df Residuals:                    1021   BIC:                             7094.\n",
      "Df Model:                           8                                         \n",
      "Covariance Type:            nonrobust                                         \n",
      "=================================================================================================\n",
      "                                    coef    std err          t      P>|t|      [0.025      0.975]\n",
      "-------------------------------------------------------------------------------------------------\n",
      "const                             1.3583      4.022      0.338      0.736      -6.534       9.251\n",
      "cement_log_transform             38.3972      1.640     23.417      0.000      35.180      41.615\n",
      "slag_log_transform               12.4526      0.965     12.899      0.000      10.558      14.347\n",
      "ash_log_transform                 1.0686      0.888      1.203      0.229      -0.675       2.812\n",
      "superplastcizer_log_transform     7.2893      1.335      5.461      0.000       4.670       9.909\n",
      "age_log_transform                46.7427      1.101     42.458      0.000      44.582      48.903\n",
      "water_no_transform              -30.3571      2.734    -11.106      0.000     -35.721     -24.993\n",
      "coarse_agg_no_transform          -1.9561      1.710     -1.144      0.253      -5.311       1.399\n",
      "fine_agg_no_transform            -7.7775      2.012     -3.865      0.000     -11.726      -3.829\n",
      "==============================================================================\n",
      "Omnibus:                       14.418   Durbin-Watson:                   1.273\n",
      "Prob(Omnibus):                  0.001   Jarque-Bera (JB):               19.649\n",
      "Skew:                           0.153   Prob(JB):                     5.41e-05\n",
      "Kurtosis:                       3.604   Cond. No.                         39.3\n",
      "==============================================================================\n",
      "\n",
      "Notes:\n",
      "[1] Standard Errors assume that the covariance matrix of the errors is correctly specified.\n"
     ]
    }
   ],
   "source": [
    "# Get features and target\n",
    "X = df_norm_scaled[features]\n",
    "Y = df_norm_scaled[target]\n",
    "\n",
    "# Add constant for OLS Regression\n",
    "X = sm.add_constant(X)\n",
    "\n",
    "# Build OLS Regression model\n",
    "model = sm.OLS(Y, X).fit()\n",
    "predictions = model.predict(X) \n",
    "\n",
    "# Look at summary\n",
    "print_model = model.summary()\n",
    "print(print_model)"
   ]
  },
  {
   "cell_type": "markdown",
   "id": "5addd55a",
   "metadata": {
    "execution": {
     "iopub.execute_input": "2022-11-08T19:37:42.365312Z",
     "iopub.status.busy": "2022-11-08T19:37:42.364584Z",
     "iopub.status.idle": "2022-11-08T19:37:42.370527Z",
     "shell.execute_reply": "2022-11-08T19:37:42.369208Z",
     "shell.execute_reply.started": "2022-11-08T19:37:42.365265Z"
    },
    "papermill": {
     "duration": 0.024975,
     "end_time": "2022-11-09T11:35:03.348767",
     "exception": false,
     "start_time": "2022-11-09T11:35:03.323792",
     "status": "completed"
    },
    "tags": []
   },
   "source": [
    "# Models"
   ]
  },
  {
   "cell_type": "code",
   "execution_count": 23,
   "id": "c0e37e85",
   "metadata": {
    "execution": {
     "iopub.execute_input": "2022-11-09T11:35:03.402449Z",
     "iopub.status.busy": "2022-11-09T11:35:03.402073Z",
     "iopub.status.idle": "2022-11-09T11:35:03.410066Z",
     "shell.execute_reply": "2022-11-09T11:35:03.409346Z"
    },
    "papermill": {
     "duration": 0.038301,
     "end_time": "2022-11-09T11:35:03.412504",
     "exception": false,
     "start_time": "2022-11-09T11:35:03.374203",
     "status": "completed"
    },
    "tags": []
   },
   "outputs": [],
   "source": [
    "\n",
    "# Get features and target for sklearn regression models\n",
    "X_data = df_norm_full[features]\n",
    "y_data = df_norm_full[target]\n",
    "\n",
    "# Split data into train and test sets\n",
    "# I will do cross validation and model tuning on the train set and then calculate scores for tuned models on the test set\n",
    "X_train, X_test, y_train, y_test = train_test_split(X_data, y_data, test_size=0.3, random_state=2)\n",
    "\n",
    "# Define function that will split train dataset for cross-validation\n",
    "kf = KFold(shuffle = True, random_state=11, n_splits = 5)"
   ]
  },
  {
   "cell_type": "markdown",
   "id": "36506459",
   "metadata": {
    "execution": {
     "iopub.execute_input": "2022-11-08T19:37:42.409088Z",
     "iopub.status.busy": "2022-11-08T19:37:42.407165Z",
     "iopub.status.idle": "2022-11-08T19:37:42.426866Z",
     "shell.execute_reply": "2022-11-08T19:37:42.425013Z",
     "shell.execute_reply.started": "2022-11-08T19:37:42.409007Z"
    },
    "papermill": {
     "duration": 0.019023,
     "end_time": "2022-11-09T11:35:03.451092",
     "exception": false,
     "start_time": "2022-11-09T11:35:03.432069",
     "status": "completed"
    },
    "tags": []
   },
   "source": [
    "### Linear Regression"
   ]
  },
  {
   "cell_type": "code",
   "execution_count": 24,
   "id": "329cca2a",
   "metadata": {
    "execution": {
     "iopub.execute_input": "2022-11-09T11:35:03.492181Z",
     "iopub.status.busy": "2022-11-09T11:35:03.491165Z",
     "iopub.status.idle": "2022-11-09T11:35:05.036742Z",
     "shell.execute_reply": "2022-11-09T11:35:05.035855Z"
    },
    "papermill": {
     "duration": 1.568084,
     "end_time": "2022-11-09T11:35:05.038840",
     "exception": false,
     "start_time": "2022-11-09T11:35:03.470756",
     "status": "completed"
    },
    "tags": []
   },
   "outputs": [
    {
     "data": {
      "text/plain": [
       "GridSearchCV(cv=KFold(n_splits=5, random_state=11, shuffle=True),\n",
       "             estimator=Pipeline(steps=[('scaler', 'passthrough'),\n",
       "                                       ('polynomial_features',\n",
       "                                        PolynomialFeatures()),\n",
       "                                       ('linear_regression',\n",
       "                                        LinearRegression())]),\n",
       "             n_jobs=-1,\n",
       "             param_grid={'polynomial_features__degree': [1, 2, 3],\n",
       "                         'scaler': [MinMaxScaler(), MaxAbsScaler(),\n",
       "                                    RobustScaler(), StandardScaler()]},\n",
       "             scoring='neg_median_absolute_error')"
      ]
     },
     "execution_count": 24,
     "metadata": {},
     "output_type": "execute_result"
    }
   ],
   "source": [
    "# Estimator \n",
    "estimator_lr = Pipeline([(\"scaler\", 'passthrough'),\n",
    "               (\"polynomial_features\", PolynomialFeatures()),\n",
    "               (\"linear_regression\", LinearRegression())])\n",
    "\n",
    "# Parameters for Grid Search\n",
    "params_lr = {\n",
    "    'polynomial_features__degree': [1, 2, 3],\n",
    "    'scaler': [MinMaxScaler(), MaxAbsScaler(), RobustScaler(), StandardScaler()]\n",
    "}\n",
    "\n",
    "# Grid Search\n",
    "grid_lr = GridSearchCV(estimator_lr, params_lr, cv=kf, scoring='neg_median_absolute_error', n_jobs = -1)\n",
    "grid_lr.fit(X_train, y_train)\n"
   ]
  },
  {
   "cell_type": "code",
   "execution_count": 25,
   "id": "9b65570b",
   "metadata": {
    "execution": {
     "iopub.execute_input": "2022-11-09T11:35:05.089617Z",
     "iopub.status.busy": "2022-11-09T11:35:05.089255Z",
     "iopub.status.idle": "2022-11-09T11:35:05.097482Z",
     "shell.execute_reply": "2022-11-09T11:35:05.096739Z"
    },
    "papermill": {
     "duration": 0.036299,
     "end_time": "2022-11-09T11:35:05.099632",
     "exception": false,
     "start_time": "2022-11-09T11:35:05.063333",
     "status": "completed"
    },
    "tags": []
   },
   "outputs": [
    {
     "data": {
      "text/plain": [
       "(-2.9364538796030493,\n",
       " {'polynomial_features__degree': 3, 'scaler': MinMaxScaler()})"
      ]
     },
     "execution_count": 25,
     "metadata": {},
     "output_type": "execute_result"
    }
   ],
   "source": [
    "# Tuned model\n",
    "grid_lr.best_score_, grid_lr.best_params_"
   ]
  },
  {
   "cell_type": "code",
   "execution_count": 26,
   "id": "4dbb4e16",
   "metadata": {
    "execution": {
     "iopub.execute_input": "2022-11-09T11:35:05.148203Z",
     "iopub.status.busy": "2022-11-09T11:35:05.147866Z",
     "iopub.status.idle": "2022-11-09T11:35:05.152497Z",
     "shell.execute_reply": "2022-11-09T11:35:05.151403Z"
    },
    "papermill": {
     "duration": 0.028941,
     "end_time": "2022-11-09T11:35:05.154294",
     "exception": false,
     "start_time": "2022-11-09T11:35:05.125353",
     "status": "completed"
    },
    "tags": []
   },
   "outputs": [],
   "source": [
    "# Save best parameters to use in model stability evaluation\n",
    "lr_best_pf = grid_lr.best_params_['polynomial_features__degree']\n",
    "lr_best_sc = grid_lr.best_params_['scaler']"
   ]
  },
  {
   "cell_type": "code",
   "execution_count": 27,
   "id": "93224bea",
   "metadata": {
    "execution": {
     "iopub.execute_input": "2022-11-09T11:35:05.194767Z",
     "iopub.status.busy": "2022-11-09T11:35:05.193596Z",
     "iopub.status.idle": "2022-11-09T11:35:05.209968Z",
     "shell.execute_reply": "2022-11-09T11:35:05.209233Z"
    },
    "papermill": {
     "duration": 0.039626,
     "end_time": "2022-11-09T11:35:05.212846",
     "exception": false,
     "start_time": "2022-11-09T11:35:05.173220",
     "status": "completed"
    },
    "tags": []
   },
   "outputs": [
    {
     "data": {
      "text/html": [
       "<div>\n",
       "<style scoped>\n",
       "    .dataframe tbody tr th:only-of-type {\n",
       "        vertical-align: middle;\n",
       "    }\n",
       "\n",
       "    .dataframe tbody tr th {\n",
       "        vertical-align: top;\n",
       "    }\n",
       "\n",
       "    .dataframe thead th {\n",
       "        text-align: right;\n",
       "    }\n",
       "</style>\n",
       "<table border=\"1\" class=\"dataframe\">\n",
       "  <thead>\n",
       "    <tr style=\"text-align: right;\">\n",
       "      <th></th>\n",
       "      <th>model</th>\n",
       "      <th>mae_train</th>\n",
       "      <th>mae_test</th>\n",
       "      <th>r2_test</th>\n",
       "    </tr>\n",
       "  </thead>\n",
       "  <tbody>\n",
       "    <tr>\n",
       "      <th>0</th>\n",
       "      <td>linear_regression</td>\n",
       "      <td>2.936454</td>\n",
       "      <td>3.911838</td>\n",
       "      <td>0.883287</td>\n",
       "    </tr>\n",
       "  </tbody>\n",
       "</table>\n",
       "</div>"
      ],
      "text/plain": [
       "               model  mae_train  mae_test   r2_test\n",
       "0  linear_regression   2.936454  3.911838  0.883287"
      ]
     },
     "execution_count": 27,
     "metadata": {},
     "output_type": "execute_result"
    }
   ],
   "source": [
    "# Predict target values for test set using Linear Regression model\n",
    "y_predict_lr = grid_lr.predict(X_test)\n",
    "\n",
    "# calculate R2 score\n",
    "lr_r2 = r2_score(y_test, y_predict_lr)\n",
    "\n",
    "# calculate mean absolute error\n",
    "lr_mae = mean_absolute_error(y_test, y_predict_lr)\n",
    "\n",
    "# create data frame for scores and add scores for Linear Regression model\n",
    "scores = pd.DataFrame(data = {'model': ['linear_regression'],  \n",
    "                              'mae_train': [-grid_lr.best_score_],\n",
    "                              'mae_test': [lr_mae],\n",
    "                              'r2_test': [lr_r2]})\n",
    "scores"
   ]
  },
  {
   "cell_type": "code",
   "execution_count": 28,
   "id": "24a02fe8",
   "metadata": {
    "execution": {
     "iopub.execute_input": "2022-11-09T11:35:05.268350Z",
     "iopub.status.busy": "2022-11-09T11:35:05.267139Z",
     "iopub.status.idle": "2022-11-09T11:35:05.466475Z",
     "shell.execute_reply": "2022-11-09T11:35:05.465494Z"
    },
    "papermill": {
     "duration": 0.229985,
     "end_time": "2022-11-09T11:35:05.469133",
     "exception": false,
     "start_time": "2022-11-09T11:35:05.239148",
     "status": "completed"
    },
    "tags": []
   },
   "outputs": [
    {
     "data": {
      "text/plain": [
       "Text(0, 0.5, 'Predicted Strength')"
      ]
     },
     "execution_count": 28,
     "metadata": {},
     "output_type": "execute_result"
    },
    {
     "data": {
      "image/png": "[encoded data removed]",
      "text/plain": [
       "<Figure size 432x432 with 1 Axes>"
      ]
     },
     "metadata": {
      "needs_background": "light"
     },
     "output_type": "display_data"
    }
   ],
   "source": [
    "# Visualize predicted vs actual target values\n",
    "plt.figure(figsize=(6, 6))\n",
    "plt.scatter(x = y_test, \n",
    "            y = y_predict_lr)\n",
    "z = np.polyfit(y_test, y_predict_lr, 1)\n",
    "p = np.poly1d(z)\n",
    "plt.plot(y_test,p(y_test),\"r-\")\n",
    "plt.title(\"Strength: Actual vs Predicted by Linear Regression\")\n",
    "plt.xlabel(\"Actual Strength\")\n",
    "plt.ylabel(\"Predicted Strength\")"
   ]
  },
  {
   "cell_type": "code",
   "execution_count": 29,
   "id": "612723ed",
   "metadata": {
    "execution": {
     "iopub.execute_input": "2022-11-09T11:35:05.510498Z",
     "iopub.status.busy": "2022-11-09T11:35:05.510135Z",
     "iopub.status.idle": "2022-11-09T11:35:05.889127Z",
     "shell.execute_reply": "2022-11-09T11:35:05.887385Z"
    },
    "papermill": {
     "duration": 0.402725,
     "end_time": "2022-11-09T11:35:05.891730",
     "exception": false,
     "start_time": "2022-11-09T11:35:05.489005",
     "status": "completed"
    },
    "tags": []
   },
   "outputs": [
    {
     "data": {
      "text/html": [
       "<div>\n",
       "<style scoped>\n",
       "    .dataframe tbody tr th:only-of-type {\n",
       "        vertical-align: middle;\n",
       "    }\n",
       "\n",
       "    .dataframe tbody tr th {\n",
       "        vertical-align: top;\n",
       "    }\n",
       "\n",
       "    .dataframe thead th {\n",
       "        text-align: right;\n",
       "    }\n",
       "</style>\n",
       "<table border=\"1\" class=\"dataframe\">\n",
       "  <thead>\n",
       "    <tr style=\"text-align: right;\">\n",
       "      <th></th>\n",
       "      <th>model</th>\n",
       "      <th>age_log_transform</th>\n",
       "      <th>slag_log_transform</th>\n",
       "      <th>cement_log_transform</th>\n",
       "      <th>ash_log_transform</th>\n",
       "      <th>water_no_transform</th>\n",
       "      <th>fine_agg_no_transform</th>\n",
       "      <th>coarse_agg_no_transform</th>\n",
       "      <th>superplastcizer_log_transform</th>\n",
       "    </tr>\n",
       "  </thead>\n",
       "  <tbody>\n",
       "    <tr>\n",
       "      <th>0</th>\n",
       "      <td>Linear Regression</td>\n",
       "      <td>8.0525  ± 0.4965</td>\n",
       "      <td>7.0832  ± 1.7456</td>\n",
       "      <td>6.5077  ± 0.4864</td>\n",
       "      <td>5.2680  ± 0.1914</td>\n",
       "      <td>5.1426  ± 1.6952</td>\n",
       "      <td>3.5949  ± 0.5136</td>\n",
       "      <td>3.3294  ± 0.3686</td>\n",
       "      <td>2.9738  ± 0.3382</td>\n",
       "    </tr>\n",
       "  </tbody>\n",
       "</table>\n",
       "</div>"
      ],
      "text/plain": [
       "               model age_log_transform slag_log_transform  \\\n",
       "0  Linear Regression  8.0525  ± 0.4965   7.0832  ± 1.7456   \n",
       "\n",
       "  cement_log_transform ash_log_transform water_no_transform  \\\n",
       "0     6.5077  ± 0.4864  5.2680  ± 0.1914   5.1426  ± 1.6952   \n",
       "\n",
       "  fine_agg_no_transform coarse_agg_no_transform superplastcizer_log_transform  \n",
       "0      3.5949  ± 0.5136        3.3294  ± 0.3686              2.9738  ± 0.3382  "
      ]
     },
     "execution_count": 29,
     "metadata": {},
     "output_type": "execute_result"
    }
   ],
   "source": [
    "# Use eli5 to find feature influence\n",
    "perm_lr = PermutationImportance(grid_lr, scoring='neg_median_absolute_error', random_state=101).fit(X_test, y_test)\n",
    "explainer_lr = eli5.show_weights(perm_lr, feature_names = X_test.columns.tolist())\n",
    "result_lr = pd.read_html(explainer_lr.data)[0] # read data from HTML provided by eli5.show_weights\n",
    "result_lr=result_lr.T\n",
    "result_lr.columns = result_lr.iloc[1] # second row to column names\n",
    "result_lr = result_lr.drop(result_lr.index[1]).reset_index().rename(columns={\"index\": \"model\"}).replace('Weight', 'Linear Regression')# drop second row \n",
    "result_lr = result_lr.rename_axis(None, axis=1)\n",
    "result_lr"
   ]
  },
  {
   "cell_type": "markdown",
   "id": "2697d13b",
   "metadata": {
    "execution": {
     "iopub.execute_input": "2022-11-08T19:37:43.768518Z",
     "iopub.status.busy": "2022-11-08T19:37:43.766121Z",
     "iopub.status.idle": "2022-11-08T19:37:43.781854Z",
     "shell.execute_reply": "2022-11-08T19:37:43.780078Z",
     "shell.execute_reply.started": "2022-11-08T19:37:43.768436Z"
    },
    "papermill": {
     "duration": 0.019077,
     "end_time": "2022-11-09T11:35:05.930326",
     "exception": false,
     "start_time": "2022-11-09T11:35:05.911249",
     "status": "completed"
    },
    "tags": []
   },
   "source": [
    "### Ridge Regression"
   ]
  },
  {
   "cell_type": "code",
   "execution_count": 30,
   "id": "e8226a5d",
   "metadata": {
    "execution": {
     "iopub.execute_input": "2022-11-09T11:35:05.971142Z",
     "iopub.status.busy": "2022-11-09T11:35:05.970457Z",
     "iopub.status.idle": "2022-11-09T11:35:09.765226Z",
     "shell.execute_reply": "2022-11-09T11:35:09.764431Z"
    },
    "papermill": {
     "duration": 3.817722,
     "end_time": "2022-11-09T11:35:09.767245",
     "exception": false,
     "start_time": "2022-11-09T11:35:05.949523",
     "status": "completed"
    },
    "tags": []
   },
   "outputs": [
    {
     "data": {
      "text/plain": [
       "GridSearchCV(cv=KFold(n_splits=5, random_state=11, shuffle=True),\n",
       "             estimator=Pipeline(steps=[('scaler', 'passthrough'),\n",
       "                                       ('polynomial_features',\n",
       "                                        PolynomialFeatures()),\n",
       "                                       ('ridge_regression', Ridge())]),\n",
       "             n_jobs=-1,\n",
       "             param_grid={'polynomial_features__degree': [1, 2, 3],\n",
       "                         'ridge_regression__alpha': array([ 0.1       ,  0.13216207,  0.17466814,  0.23084503,  0.30508957,\n",
       "        0.40321271,  0.53289427,  0.70428412,  0.93079649,  1.23015993,\n",
       "        1.62580486,  2.14869741,  2.83976304,  3.7530897 ,  4.96016115,\n",
       "        6.55545179,  8.66382098, 11.45028541, 15.13293455, 20.        ]),\n",
       "                         'scaler': [MinMaxScaler(), MaxAbsScaler(),\n",
       "                                    RobustScaler(), StandardScaler()]},\n",
       "             scoring='neg_median_absolute_error')"
      ]
     },
     "execution_count": 30,
     "metadata": {},
     "output_type": "execute_result"
    }
   ],
   "source": [
    "# Estimator \n",
    "estimator_rr = Pipeline([(\"scaler\", 'passthrough'),\n",
    "               (\"polynomial_features\", PolynomialFeatures()),\n",
    "               (\"ridge_regression\", Ridge())])\n",
    "\n",
    "# Parameters for Grid Search\n",
    "params_rr = {\n",
    "    'polynomial_features__degree': [1, 2, 3],\n",
    "    'ridge_regression__alpha': np.geomspace(0.1, 20, 20),\n",
    "    'scaler': [MinMaxScaler(), MaxAbsScaler(), RobustScaler(), StandardScaler()]\n",
    "}\n",
    "\n",
    "\n",
    "# Grid Search\n",
    "grid_rr = GridSearchCV(estimator_rr, params_rr, cv=kf, scoring='neg_median_absolute_error', n_jobs = -1)\n",
    "grid_rr.fit(X_train, y_train)"
   ]
  },
  {
   "cell_type": "code",
   "execution_count": 31,
   "id": "4ff227fd",
   "metadata": {
    "execution": {
     "iopub.execute_input": "2022-11-09T11:35:09.864649Z",
     "iopub.status.busy": "2022-11-09T11:35:09.863423Z",
     "iopub.status.idle": "2022-11-09T11:35:09.870852Z",
     "shell.execute_reply": "2022-11-09T11:35:09.870054Z"
    },
    "papermill": {
     "duration": 0.05772,
     "end_time": "2022-11-09T11:35:09.872602",
     "exception": false,
     "start_time": "2022-11-09T11:35:09.814882",
     "status": "completed"
    },
    "tags": []
   },
   "outputs": [
    {
     "data": {
      "text/plain": [
       "(-2.8438950722502576,\n",
       " {'polynomial_features__degree': 3,\n",
       "  'ridge_regression__alpha': 0.30508957470615816,\n",
       "  'scaler': StandardScaler()})"
      ]
     },
     "execution_count": 31,
     "metadata": {},
     "output_type": "execute_result"
    }
   ],
   "source": [
    "# Tuned model\n",
    "grid_rr.best_score_, grid_rr.best_params_"
   ]
  },
  {
   "cell_type": "code",
   "execution_count": 32,
   "id": "5b2a0d3f",
   "metadata": {
    "execution": {
     "iopub.execute_input": "2022-11-09T11:35:09.916281Z",
     "iopub.status.busy": "2022-11-09T11:35:09.915632Z",
     "iopub.status.idle": "2022-11-09T11:35:09.921305Z",
     "shell.execute_reply": "2022-11-09T11:35:09.920112Z"
    },
    "papermill": {
     "duration": 0.029062,
     "end_time": "2022-11-09T11:35:09.923632",
     "exception": false,
     "start_time": "2022-11-09T11:35:09.894570",
     "status": "completed"
    },
    "tags": []
   },
   "outputs": [],
   "source": [
    "# Save best parameters to use in model stability evaluation\n",
    "rr_best_pf = grid_rr.best_params_['polynomial_features__degree']\n",
    "rr_best_sc = grid_rr.best_params_['scaler']\n",
    "rr_best_alfa = grid_rr.best_params_['ridge_regression__alpha']"
   ]
  },
  {
   "cell_type": "code",
   "execution_count": 33,
   "id": "5fda0a43",
   "metadata": {
    "execution": {
     "iopub.execute_input": "2022-11-09T11:35:09.966018Z",
     "iopub.status.busy": "2022-11-09T11:35:09.965607Z",
     "iopub.status.idle": "2022-11-09T11:35:09.984869Z",
     "shell.execute_reply": "2022-11-09T11:35:09.984077Z"
    },
    "papermill": {
     "duration": 0.042877,
     "end_time": "2022-11-09T11:35:09.986978",
     "exception": false,
     "start_time": "2022-11-09T11:35:09.944101",
     "status": "completed"
    },
    "tags": []
   },
   "outputs": [
    {
     "data": {
      "text/html": [
       "<div>\n",
       "<style scoped>\n",
       "    .dataframe tbody tr th:only-of-type {\n",
       "        vertical-align: middle;\n",
       "    }\n",
       "\n",
       "    .dataframe tbody tr th {\n",
       "        vertical-align: top;\n",
       "    }\n",
       "\n",
       "    .dataframe thead th {\n",
       "        text-align: right;\n",
       "    }\n",
       "</style>\n",
       "<table border=\"1\" class=\"dataframe\">\n",
       "  <thead>\n",
       "    <tr style=\"text-align: right;\">\n",
       "      <th></th>\n",
       "      <th>model</th>\n",
       "      <th>mae_train</th>\n",
       "      <th>mae_test</th>\n",
       "      <th>r2_test</th>\n",
       "    </tr>\n",
       "  </thead>\n",
       "  <tbody>\n",
       "    <tr>\n",
       "      <th>0</th>\n",
       "      <td>linear_regression</td>\n",
       "      <td>2.936454</td>\n",
       "      <td>3.911838</td>\n",
       "      <td>0.883287</td>\n",
       "    </tr>\n",
       "    <tr>\n",
       "      <th>1</th>\n",
       "      <td>ridge_regression</td>\n",
       "      <td>2.843895</td>\n",
       "      <td>3.775305</td>\n",
       "      <td>0.899977</td>\n",
       "    </tr>\n",
       "  </tbody>\n",
       "</table>\n",
       "</div>"
      ],
      "text/plain": [
       "               model  mae_train  mae_test   r2_test\n",
       "0  linear_regression   2.936454  3.911838  0.883287\n",
       "1   ridge_regression   2.843895  3.775305  0.899977"
      ]
     },
     "execution_count": 33,
     "metadata": {},
     "output_type": "execute_result"
    }
   ],
   "source": [
    "# Predict target values for test set using Ridge Regression model\n",
    "y_predict_rr = grid_rr.predict(X_test)\n",
    "\n",
    "# Calculate R2 score\n",
    "rr_r2 = r2_score(y_test, y_predict_rr)\n",
    "\n",
    "# Calculate mean absolute error\n",
    "rr_mae = mean_absolute_error(y_test, y_predict_rr)\n",
    "\n",
    "scores = scores.append({'model' : 'ridge_regression', \n",
    "                       'mae_train' : -grid_rr.best_score_,\n",
    "                       'mae_test' : rr_mae,\n",
    "                       'r2_test' : rr_r2},\n",
    "                       ignore_index = True)\n",
    "\n",
    "scores"
   ]
  },
  {
   "cell_type": "code",
   "execution_count": 34,
   "id": "4df7cf60",
   "metadata": {
    "execution": {
     "iopub.execute_input": "2022-11-09T11:35:10.044693Z",
     "iopub.status.busy": "2022-11-09T11:35:10.044317Z",
     "iopub.status.idle": "2022-11-09T11:35:10.242068Z",
     "shell.execute_reply": "2022-11-09T11:35:10.240880Z"
    },
    "papermill": {
     "duration": 0.229429,
     "end_time": "2022-11-09T11:35:10.244331",
     "exception": false,
     "start_time": "2022-11-09T11:35:10.014902",
     "status": "completed"
    },
    "tags": []
   },
   "outputs": [
    {
     "data": {
      "text/plain": [
       "Text(0, 0.5, 'Predicted Strength')"
      ]
     },
     "execution_count": 34,
     "metadata": {},
     "output_type": "execute_result"
    },
    {
     "data": {
      "image/png": "[encoded data removed]",
      "text/plain": [
       "<Figure size 432x432 with 1 Axes>"
      ]
     },
     "metadata": {
      "needs_background": "light"
     },
     "output_type": "display_data"
    }
   ],
   "source": [
    "# Visualize predicted vs actual target values\n",
    "plt.figure(figsize=(6, 6))\n",
    "plt.scatter(x = y_test, \n",
    "            y = y_predict_rr)\n",
    "z = np.polyfit(y_test, y_predict_rr, 1)\n",
    "p = np.poly1d(z)\n",
    "plt.plot(y_test,p(y_test),\"r-\")\n",
    "plt.title(\"Strength: Actual vs Predicted by Ridge Regression\")\n",
    "plt.xlabel(\"Actual Strength\")\n",
    "plt.ylabel(\"Predicted Strength\")"
   ]
  },
  {
   "cell_type": "code",
   "execution_count": 35,
   "id": "6ec28a45",
   "metadata": {
    "execution": {
     "iopub.execute_input": "2022-11-09T11:35:10.288636Z",
     "iopub.status.busy": "2022-11-09T11:35:10.287685Z",
     "iopub.status.idle": "2022-11-09T11:35:10.434309Z",
     "shell.execute_reply": "2022-11-09T11:35:10.433579Z"
    },
    "papermill": {
     "duration": 0.17078,
     "end_time": "2022-11-09T11:35:10.436239",
     "exception": false,
     "start_time": "2022-11-09T11:35:10.265459",
     "status": "completed"
    },
    "tags": []
   },
   "outputs": [
    {
     "data": {
      "text/html": [
       "<div>\n",
       "<style scoped>\n",
       "    .dataframe tbody tr th:only-of-type {\n",
       "        vertical-align: middle;\n",
       "    }\n",
       "\n",
       "    .dataframe tbody tr th {\n",
       "        vertical-align: top;\n",
       "    }\n",
       "\n",
       "    .dataframe thead th {\n",
       "        text-align: right;\n",
       "    }\n",
       "</style>\n",
       "<table border=\"1\" class=\"dataframe\">\n",
       "  <thead>\n",
       "    <tr style=\"text-align: right;\">\n",
       "      <th></th>\n",
       "      <th>model</th>\n",
       "      <th>age_log_transform</th>\n",
       "      <th>cement_log_transform</th>\n",
       "      <th>slag_log_transform</th>\n",
       "      <th>ash_log_transform</th>\n",
       "      <th>water_no_transform</th>\n",
       "      <th>coarse_agg_no_transform</th>\n",
       "      <th>superplastcizer_log_transform</th>\n",
       "      <th>fine_agg_no_transform</th>\n",
       "    </tr>\n",
       "  </thead>\n",
       "  <tbody>\n",
       "    <tr>\n",
       "      <th>0</th>\n",
       "      <td>Ridge Regression</td>\n",
       "      <td>7.9460  ± 0.8451</td>\n",
       "      <td>7.4501  ± 1.3666</td>\n",
       "      <td>7.1705  ± 1.9287</td>\n",
       "      <td>4.7097  ± 0.9630</td>\n",
       "      <td>4.1343  ± 0.9843</td>\n",
       "      <td>3.0216  ± 0.6328</td>\n",
       "      <td>2.6037  ± 0.1319</td>\n",
       "      <td>2.3776  ± 0.1433</td>\n",
       "    </tr>\n",
       "  </tbody>\n",
       "</table>\n",
       "</div>"
      ],
      "text/plain": [
       "              model age_log_transform cement_log_transform slag_log_transform  \\\n",
       "0  Ridge Regression  7.9460  ± 0.8451     7.4501  ± 1.3666   7.1705  ± 1.9287   \n",
       "\n",
       "  ash_log_transform water_no_transform coarse_agg_no_transform  \\\n",
       "0  4.7097  ± 0.9630   4.1343  ± 0.9843        3.0216  ± 0.6328   \n",
       "\n",
       "  superplastcizer_log_transform fine_agg_no_transform  \n",
       "0              2.6037  ± 0.1319      2.3776  ± 0.1433  "
      ]
     },
     "execution_count": 35,
     "metadata": {},
     "output_type": "execute_result"
    }
   ],
   "source": [
    "# Use eli5 to find feature influence\n",
    "perm_rr = PermutationImportance(grid_rr, scoring='neg_median_absolute_error', random_state=101).fit(X_test, y_test)\n",
    "explainer_rr = eli5.show_weights(perm_rr, feature_names = X_test.columns.tolist())\n",
    "result_rr = pd.read_html(explainer_rr.data)[0] # read data from HTML provided by eli5.show_weights\n",
    "result_rr=result_rr.T\n",
    "result_rr.columns = result_rr.iloc[1] # second row to column names\n",
    "result_rr = result_rr.drop(result_rr.index[1]).reset_index().rename(columns={\"index\": \"model\"}).replace('Weight', 'Ridge Regression')# drop second row \n",
    "result_rr = result_rr.rename_axis(None, axis=1)\n",
    "result_rr\n"
   ]
  },
  {
   "cell_type": "markdown",
   "id": "0bb40359",
   "metadata": {
    "execution": {
     "iopub.execute_input": "2022-11-08T19:37:50.541791Z",
     "iopub.status.busy": "2022-11-08T19:37:50.540727Z",
     "iopub.status.idle": "2022-11-08T19:37:50.546513Z",
     "shell.execute_reply": "2022-11-08T19:37:50.545286Z",
     "shell.execute_reply.started": "2022-11-08T19:37:50.541745Z"
    },
    "papermill": {
     "duration": 0.041111,
     "end_time": "2022-11-09T11:35:10.523761",
     "exception": false,
     "start_time": "2022-11-09T11:35:10.482650",
     "status": "completed"
    },
    "tags": []
   },
   "source": [
    "### Lasso Regression"
   ]
  },
  {
   "cell_type": "code",
   "execution_count": 36,
   "id": "972c9460",
   "metadata": {
    "execution": {
     "iopub.execute_input": "2022-11-09T11:35:10.569921Z",
     "iopub.status.busy": "2022-11-09T11:35:10.568752Z",
     "iopub.status.idle": "2022-11-09T11:35:18.124367Z",
     "shell.execute_reply": "2022-11-09T11:35:18.123483Z"
    },
    "papermill": {
     "duration": 7.579184,
     "end_time": "2022-11-09T11:35:18.126436",
     "exception": false,
     "start_time": "2022-11-09T11:35:10.547252",
     "status": "completed"
    },
    "tags": []
   },
   "outputs": [
    {
     "data": {
      "text/plain": [
       "GridSearchCV(cv=KFold(n_splits=5, random_state=11, shuffle=True),\n",
       "             estimator=Pipeline(steps=[('scaler', 'passthrough'),\n",
       "                                       ('polynomial_features',\n",
       "                                        PolynomialFeatures()),\n",
       "                                       ('lasso_regression',\n",
       "                                        Lasso(max_iter=100000))]),\n",
       "             n_jobs=-1,\n",
       "             param_grid={'lasso_regression__alpha': array([0.01      , 0.01274275, 0.01623777, 0.02069138, 0.02636651,\n",
       "       0.03359818, 0.04281332, 0.05455595, 0.06951928, 0.08858668,\n",
       "       0.11288379, 0.14384499, 0.18329807, 0.23357215, 0.29763514,\n",
       "       0.37926902, 0.48329302, 0.61584821, 0.78475997, 1.        ]),\n",
       "                         'polynomial_features__degree': [1, 2, 3],\n",
       "                         'scaler': [MinMaxScaler(), MaxAbsScaler(),\n",
       "                                    RobustScaler(), StandardScaler()]},\n",
       "             scoring='neg_median_absolute_error')"
      ]
     },
     "execution_count": 36,
     "metadata": {},
     "output_type": "execute_result"
    }
   ],
   "source": [
    "# Estimator \n",
    "estimator_lsr = Pipeline([(\"scaler\", 'passthrough'),\n",
    "                        (\"polynomial_features\", PolynomialFeatures()),\n",
    "                        (\"lasso_regression\", Lasso(max_iter = 100000))])\n",
    "\n",
    "# Parameters for Grid Search\n",
    "params_lsr = {\n",
    "    'polynomial_features__degree': [1, 2, 3],\n",
    "    'lasso_regression__alpha': np.geomspace(0.01, 1, 20),\n",
    "#     'max_iter': [100000], I don't understand why it should be in the \"estimator\"\n",
    "    'scaler': [MinMaxScaler(), MaxAbsScaler(), RobustScaler(), StandardScaler()]}\n",
    "\n",
    "\n",
    "# Grid Search\n",
    "grid_lsr = GridSearchCV(estimator_lsr, params_lsr, cv=kf, scoring='neg_median_absolute_error', n_jobs = -1)\n",
    "grid_lsr.fit(X_train, y_train)"
   ]
  },
  {
   "cell_type": "code",
   "execution_count": 37,
   "id": "0c245f18",
   "metadata": {
    "execution": {
     "iopub.execute_input": "2022-11-09T11:35:18.184642Z",
     "iopub.status.busy": "2022-11-09T11:35:18.184212Z",
     "iopub.status.idle": "2022-11-09T11:35:18.193592Z",
     "shell.execute_reply": "2022-11-09T11:35:18.192711Z"
    },
    "papermill": {
     "duration": 0.041156,
     "end_time": "2022-11-09T11:35:18.196013",
     "exception": false,
     "start_time": "2022-11-09T11:35:18.154857",
     "status": "completed"
    },
    "tags": []
   },
   "outputs": [
    {
     "data": {
      "text/plain": [
       "(-2.846408782990258,\n",
       " {'lasso_regression__alpha': 0.012742749857031334,\n",
       "  'polynomial_features__degree': 3,\n",
       "  'scaler': StandardScaler()})"
      ]
     },
     "execution_count": 37,
     "metadata": {},
     "output_type": "execute_result"
    }
   ],
   "source": [
    "# Tuned model\n",
    "grid_lsr.best_score_, grid_lsr.best_params_"
   ]
  },
  {
   "cell_type": "code",
   "execution_count": 38,
   "id": "76847197",
   "metadata": {
    "execution": {
     "iopub.execute_input": "2022-11-09T11:35:18.247680Z",
     "iopub.status.busy": "2022-11-09T11:35:18.247347Z",
     "iopub.status.idle": "2022-11-09T11:35:18.252490Z",
     "shell.execute_reply": "2022-11-09T11:35:18.250990Z"
    },
    "papermill": {
     "duration": 0.029944,
     "end_time": "2022-11-09T11:35:18.254359",
     "exception": false,
     "start_time": "2022-11-09T11:35:18.224415",
     "status": "completed"
    },
    "tags": []
   },
   "outputs": [],
   "source": [
    "# Save best parameters to use in model stability evaluation\n",
    "lsr_best_pf = grid_lsr.best_params_['polynomial_features__degree']\n",
    "lsr_best_sc = grid_lsr.best_params_['scaler']\n",
    "lsr_best_alfa = grid_lsr.best_params_['lasso_regression__alpha']"
   ]
  },
  {
   "cell_type": "code",
   "execution_count": 39,
   "id": "27fad9c8",
   "metadata": {
    "execution": {
     "iopub.execute_input": "2022-11-09T11:35:18.299049Z",
     "iopub.status.busy": "2022-11-09T11:35:18.298428Z",
     "iopub.status.idle": "2022-11-09T11:35:18.319079Z",
     "shell.execute_reply": "2022-11-09T11:35:18.318353Z"
    },
    "papermill": {
     "duration": 0.045523,
     "end_time": "2022-11-09T11:35:18.321059",
     "exception": false,
     "start_time": "2022-11-09T11:35:18.275536",
     "status": "completed"
    },
    "tags": []
   },
   "outputs": [
    {
     "data": {
      "text/html": [
       "<div>\n",
       "<style scoped>\n",
       "    .dataframe tbody tr th:only-of-type {\n",
       "        vertical-align: middle;\n",
       "    }\n",
       "\n",
       "    .dataframe tbody tr th {\n",
       "        vertical-align: top;\n",
       "    }\n",
       "\n",
       "    .dataframe thead th {\n",
       "        text-align: right;\n",
       "    }\n",
       "</style>\n",
       "<table border=\"1\" class=\"dataframe\">\n",
       "  <thead>\n",
       "    <tr style=\"text-align: right;\">\n",
       "      <th></th>\n",
       "      <th>model</th>\n",
       "      <th>mae_train</th>\n",
       "      <th>mae_test</th>\n",
       "      <th>r2_test</th>\n",
       "    </tr>\n",
       "  </thead>\n",
       "  <tbody>\n",
       "    <tr>\n",
       "      <th>0</th>\n",
       "      <td>linear_regression</td>\n",
       "      <td>2.936454</td>\n",
       "      <td>3.911838</td>\n",
       "      <td>0.883287</td>\n",
       "    </tr>\n",
       "    <tr>\n",
       "      <th>1</th>\n",
       "      <td>ridge_regression</td>\n",
       "      <td>2.843895</td>\n",
       "      <td>3.775305</td>\n",
       "      <td>0.899977</td>\n",
       "    </tr>\n",
       "    <tr>\n",
       "      <th>2</th>\n",
       "      <td>lasso_regression</td>\n",
       "      <td>2.846409</td>\n",
       "      <td>3.631780</td>\n",
       "      <td>0.903310</td>\n",
       "    </tr>\n",
       "  </tbody>\n",
       "</table>\n",
       "</div>"
      ],
      "text/plain": [
       "               model  mae_train  mae_test   r2_test\n",
       "0  linear_regression   2.936454  3.911838  0.883287\n",
       "1   ridge_regression   2.843895  3.775305  0.899977\n",
       "2   lasso_regression   2.846409  3.631780  0.903310"
      ]
     },
     "execution_count": 39,
     "metadata": {},
     "output_type": "execute_result"
    }
   ],
   "source": [
    "# Predict target values for test set using Lasso Regression model\n",
    "y_predict_lsr = grid_lsr.predict(X_test)\n",
    "\n",
    "# calculate R2 score\n",
    "lsr_r2 = r2_score(y_test, y_predict_lsr)\n",
    "\n",
    "# calculate mean absolute error\n",
    "lsr_mae = mean_absolute_error(y_test, y_predict_lsr)\n",
    "\n",
    "scores = scores.append({'model' : 'lasso_regression', \n",
    "                       'mae_train' : -grid_lsr.best_score_,\n",
    "                       'mae_test' : lsr_mae,\n",
    "                       'r2_test' : lsr_r2},\n",
    "                       ignore_index = True)\n",
    "\n",
    "scores"
   ]
  },
  {
   "cell_type": "code",
   "execution_count": 40,
   "id": "62d2ceca",
   "metadata": {
    "execution": {
     "iopub.execute_input": "2022-11-09T11:35:18.379423Z",
     "iopub.status.busy": "2022-11-09T11:35:18.379020Z",
     "iopub.status.idle": "2022-11-09T11:35:18.567015Z",
     "shell.execute_reply": "2022-11-09T11:35:18.565529Z"
    },
    "papermill": {
     "duration": 0.220779,
     "end_time": "2022-11-09T11:35:18.569997",
     "exception": false,
     "start_time": "2022-11-09T11:35:18.349218",
     "status": "completed"
    },
    "tags": []
   },
   "outputs": [
    {
     "data": {
      "text/plain": [
       "Text(0, 0.5, 'Predicted Strength')"
      ]
     },
     "execution_count": 40,
     "metadata": {},
     "output_type": "execute_result"
    },
    {
     "data": {
      "image/png": "[encoded data removed]",
      "text/plain": [
       "<Figure size 432x432 with 1 Axes>"
      ]
     },
     "metadata": {
      "needs_background": "light"
     },
     "output_type": "display_data"
    }
   ],
   "source": [
    "# Visualize predicted vs actual target values\n",
    "plt.figure(figsize=(6, 6))\n",
    "plt.scatter(x = y_test, \n",
    "            y = y_predict_lsr)\n",
    "z = np.polyfit(y_test, y_predict_lsr, 1)\n",
    "p = np.poly1d(z)\n",
    "plt.plot(y_test,p(y_test),\"r-\")\n",
    "plt.title(\"Strength: Actual vs Predicted by Lasso Regression\")\n",
    "plt.xlabel(\"Actual Strength\")\n",
    "plt.ylabel(\"Predicted Strength\")"
   ]
  },
  {
   "cell_type": "code",
   "execution_count": 41,
   "id": "a0708c21",
   "metadata": {
    "execution": {
     "iopub.execute_input": "2022-11-09T11:35:18.615512Z",
     "iopub.status.busy": "2022-11-09T11:35:18.615114Z",
     "iopub.status.idle": "2022-11-09T11:35:18.768853Z",
     "shell.execute_reply": "2022-11-09T11:35:18.768081Z"
    },
    "papermill": {
     "duration": 0.178978,
     "end_time": "2022-11-09T11:35:18.770843",
     "exception": false,
     "start_time": "2022-11-09T11:35:18.591865",
     "status": "completed"
    },
    "tags": []
   },
   "outputs": [
    {
     "data": {
      "text/html": [
       "<div>\n",
       "<style scoped>\n",
       "    .dataframe tbody tr th:only-of-type {\n",
       "        vertical-align: middle;\n",
       "    }\n",
       "\n",
       "    .dataframe tbody tr th {\n",
       "        vertical-align: top;\n",
       "    }\n",
       "\n",
       "    .dataframe thead th {\n",
       "        text-align: right;\n",
       "    }\n",
       "</style>\n",
       "<table border=\"1\" class=\"dataframe\">\n",
       "  <thead>\n",
       "    <tr style=\"text-align: right;\">\n",
       "      <th></th>\n",
       "      <th>model</th>\n",
       "      <th>cement_log_transform</th>\n",
       "      <th>age_log_transform</th>\n",
       "      <th>slag_log_transform</th>\n",
       "      <th>water_no_transform</th>\n",
       "      <th>ash_log_transform</th>\n",
       "      <th>coarse_agg_no_transform</th>\n",
       "      <th>superplastcizer_log_transform</th>\n",
       "      <th>fine_agg_no_transform</th>\n",
       "    </tr>\n",
       "  </thead>\n",
       "  <tbody>\n",
       "    <tr>\n",
       "      <th>0</th>\n",
       "      <td>Lasso Regression</td>\n",
       "      <td>8.4578  ± 0.5784</td>\n",
       "      <td>7.8069  ± 1.1512</td>\n",
       "      <td>6.1161  ± 1.1838</td>\n",
       "      <td>3.6170  ± 1.0092</td>\n",
       "      <td>2.2391  ± 0.6614</td>\n",
       "      <td>1.7849  ± 0.6364</td>\n",
       "      <td>1.5879  ± 0.1519</td>\n",
       "      <td>1.5742  ± 0.3681</td>\n",
       "    </tr>\n",
       "  </tbody>\n",
       "</table>\n",
       "</div>"
      ],
      "text/plain": [
       "              model cement_log_transform age_log_transform slag_log_transform  \\\n",
       "0  Lasso Regression     8.4578  ± 0.5784  7.8069  ± 1.1512   6.1161  ± 1.1838   \n",
       "\n",
       "  water_no_transform ash_log_transform coarse_agg_no_transform  \\\n",
       "0   3.6170  ± 1.0092  2.2391  ± 0.6614        1.7849  ± 0.6364   \n",
       "\n",
       "  superplastcizer_log_transform fine_agg_no_transform  \n",
       "0              1.5879  ± 0.1519      1.5742  ± 0.3681  "
      ]
     },
     "execution_count": 41,
     "metadata": {},
     "output_type": "execute_result"
    }
   ],
   "source": [
    "# Use eli5 to find feature influence\n",
    "perm_lsr = PermutationImportance(grid_lsr, scoring='neg_median_absolute_error', random_state=101).fit(X_test, y_test)\n",
    "explainer_lsr = eli5.show_weights(perm_lsr, feature_names = X_test.columns.tolist())\n",
    "result_lsr = pd.read_html(explainer_lsr.data)[0] # read data from HTML provided by eli5.show_weights\n",
    "result_lsr=result_lsr.T\n",
    "result_lsr.columns = result_lsr.iloc[1] # second row to column names\n",
    "result_lsr = result_lsr.drop(result_lsr.index[1]).reset_index().rename(columns={\"index\": \"model\"}).replace('Weight', 'Lasso Regression')# drop second row \n",
    "result_lsr = result_lsr.rename_axis(None, axis=1)\n",
    "result_lsr"
   ]
  },
  {
   "cell_type": "code",
   "execution_count": 42,
   "id": "bf4ac98e",
   "metadata": {
    "execution": {
     "iopub.execute_input": "2022-11-09T11:35:18.832157Z",
     "iopub.status.busy": "2022-11-09T11:35:18.831715Z",
     "iopub.status.idle": "2022-11-09T11:35:18.868157Z",
     "shell.execute_reply": "2022-11-09T11:35:18.867162Z"
    },
    "papermill": {
     "duration": 0.069633,
     "end_time": "2022-11-09T11:35:18.870031",
     "exception": false,
     "start_time": "2022-11-09T11:35:18.800398",
     "status": "completed"
    },
    "tags": []
   },
   "outputs": [
    {
     "data": {
      "text/html": [
       "<div>\n",
       "<style scoped>\n",
       "    .dataframe tbody tr th:only-of-type {\n",
       "        vertical-align: middle;\n",
       "    }\n",
       "\n",
       "    .dataframe tbody tr th {\n",
       "        vertical-align: top;\n",
       "    }\n",
       "\n",
       "    .dataframe thead th {\n",
       "        text-align: right;\n",
       "    }\n",
       "</style>\n",
       "<table border=\"1\" class=\"dataframe\">\n",
       "  <thead>\n",
       "    <tr style=\"text-align: right;\">\n",
       "      <th></th>\n",
       "      <th>model</th>\n",
       "      <th>age_log_transform</th>\n",
       "      <th>age_log_transform_error</th>\n",
       "      <th>slag_log_transform</th>\n",
       "      <th>slag_log_transform_error</th>\n",
       "      <th>cement_log_transform</th>\n",
       "      <th>cement_log_transform_error</th>\n",
       "      <th>ash_log_transform</th>\n",
       "      <th>ash_log_transform_error</th>\n",
       "      <th>water_no_transform</th>\n",
       "      <th>water_no_transform_error</th>\n",
       "      <th>fine_agg_no_transform</th>\n",
       "      <th>fine_agg_no_transform_error</th>\n",
       "      <th>coarse_agg_no_transform</th>\n",
       "      <th>coarse_agg_no_transform_error</th>\n",
       "      <th>superplastcizer_log_transform</th>\n",
       "      <th>superplastcizer_log_transform_error</th>\n",
       "    </tr>\n",
       "  </thead>\n",
       "  <tbody>\n",
       "    <tr>\n",
       "      <th>0</th>\n",
       "      <td>Linear Regression</td>\n",
       "      <td>8.0525</td>\n",
       "      <td>0.4965</td>\n",
       "      <td>7.0832</td>\n",
       "      <td>1.7456</td>\n",
       "      <td>6.5077</td>\n",
       "      <td>0.4864</td>\n",
       "      <td>5.2680</td>\n",
       "      <td>0.1914</td>\n",
       "      <td>5.1426</td>\n",
       "      <td>1.6952</td>\n",
       "      <td>3.5949</td>\n",
       "      <td>0.5136</td>\n",
       "      <td>3.3294</td>\n",
       "      <td>0.3686</td>\n",
       "      <td>2.9738</td>\n",
       "      <td>0.3382</td>\n",
       "    </tr>\n",
       "    <tr>\n",
       "      <th>1</th>\n",
       "      <td>Ridge Regression</td>\n",
       "      <td>7.9460</td>\n",
       "      <td>0.8451</td>\n",
       "      <td>7.1705</td>\n",
       "      <td>1.9287</td>\n",
       "      <td>7.4501</td>\n",
       "      <td>1.3666</td>\n",
       "      <td>4.7097</td>\n",
       "      <td>0.9630</td>\n",
       "      <td>4.1343</td>\n",
       "      <td>0.9843</td>\n",
       "      <td>2.3776</td>\n",
       "      <td>0.1433</td>\n",
       "      <td>3.0216</td>\n",
       "      <td>0.6328</td>\n",
       "      <td>2.6037</td>\n",
       "      <td>0.1319</td>\n",
       "    </tr>\n",
       "    <tr>\n",
       "      <th>2</th>\n",
       "      <td>Lasso Regression</td>\n",
       "      <td>7.8069</td>\n",
       "      <td>1.1512</td>\n",
       "      <td>6.1161</td>\n",
       "      <td>1.1838</td>\n",
       "      <td>8.4578</td>\n",
       "      <td>0.5784</td>\n",
       "      <td>2.2391</td>\n",
       "      <td>0.6614</td>\n",
       "      <td>3.6170</td>\n",
       "      <td>1.0092</td>\n",
       "      <td>1.5742</td>\n",
       "      <td>0.3681</td>\n",
       "      <td>1.7849</td>\n",
       "      <td>0.6364</td>\n",
       "      <td>1.5879</td>\n",
       "      <td>0.1519</td>\n",
       "    </tr>\n",
       "  </tbody>\n",
       "</table>\n",
       "</div>"
      ],
      "text/plain": [
       "               model age_log_transform age_log_transform_error  \\\n",
       "0  Linear Regression            8.0525                  0.4965   \n",
       "1   Ridge Regression            7.9460                  0.8451   \n",
       "2   Lasso Regression            7.8069                  1.1512   \n",
       "\n",
       "  slag_log_transform slag_log_transform_error cement_log_transform  \\\n",
       "0             7.0832                   1.7456               6.5077   \n",
       "1             7.1705                   1.9287               7.4501   \n",
       "2             6.1161                   1.1838               8.4578   \n",
       "\n",
       "  cement_log_transform_error ash_log_transform ash_log_transform_error  \\\n",
       "0                     0.4864            5.2680                  0.1914   \n",
       "1                     1.3666            4.7097                  0.9630   \n",
       "2                     0.5784            2.2391                  0.6614   \n",
       "\n",
       "  water_no_transform water_no_transform_error fine_agg_no_transform  \\\n",
       "0             5.1426                   1.6952                3.5949   \n",
       "1             4.1343                   0.9843                2.3776   \n",
       "2             3.6170                   1.0092                1.5742   \n",
       "\n",
       "  fine_agg_no_transform_error coarse_agg_no_transform  \\\n",
       "0                      0.5136                  3.3294   \n",
       "1                      0.1433                  3.0216   \n",
       "2                      0.3681                  1.7849   \n",
       "\n",
       "  coarse_agg_no_transform_error superplastcizer_log_transform  \\\n",
       "0                        0.3686                        2.9738   \n",
       "1                        0.6328                        2.6037   \n",
       "2                        0.6364                        1.5879   \n",
       "\n",
       "  superplastcizer_log_transform_error  \n",
       "0                              0.3382  \n",
       "1                              0.1319  \n",
       "2                              0.1519  "
      ]
     },
     "execution_count": 42,
     "metadata": {},
     "output_type": "execute_result"
    }
   ],
   "source": [
    "# Merge all result's df\n",
    "result = pd.concat([result_lr, result_rr, result_lsr], join=\"outer\", ignore_index=True)\n",
    "\n",
    "columns = [i for i in result.columns if i not in [\"model\"]]\n",
    "for col in columns:\n",
    "    result[col] = result[col].str.replace(' ', '') # Delet spases in sells\n",
    "    # Split columns to value and error\n",
    "    new_columns = result[col].str.split(\"±\", n = 1, expand = True)\n",
    "    result[col]= new_columns[0]\n",
    "    result[col+'_error']=new_columns[1]\n",
    "# Reorder columns\n",
    "result = result[['model', 'age_log_transform', 'age_log_transform_error', 'slag_log_transform', 'slag_log_transform_error',\n",
    "                 'cement_log_transform', 'cement_log_transform_error', 'ash_log_transform', 'ash_log_transform_error',\n",
    "                 'water_no_transform', 'water_no_transform_error', 'fine_agg_no_transform', 'fine_agg_no_transform_error',\n",
    "                 'coarse_agg_no_transform', 'coarse_agg_no_transform_error', 'superplastcizer_log_transform', 'superplastcizer_log_transform_error']]\n",
    "\n",
    "result"
   ]
  },
  {
   "cell_type": "code",
   "execution_count": 43,
   "id": "ada8d9cf",
   "metadata": {
    "execution": {
     "iopub.execute_input": "2022-11-09T11:35:18.916534Z",
     "iopub.status.busy": "2022-11-09T11:35:18.916200Z",
     "iopub.status.idle": "2022-11-09T11:35:18.924719Z",
     "shell.execute_reply": "2022-11-09T11:35:18.923663Z"
    },
    "papermill": {
     "duration": 0.033925,
     "end_time": "2022-11-09T11:35:18.926613",
     "exception": false,
     "start_time": "2022-11-09T11:35:18.892688",
     "status": "completed"
    },
    "tags": []
   },
   "outputs": [],
   "source": [
    "# Create new table \n",
    "result=result.T\n",
    "result.columns = result.iloc[0] # first row to column names\n",
    "result = result.drop(result.index[0]).reset_index().rename(columns={\"index\": \"feature\"})\n",
    "result = result.rename_axis(None, axis=1)\n",
    "columns = [i for i in result.columns if i not in [\"feature\"]]\n"
   ]
  },
  {
   "cell_type": "code",
   "execution_count": 44,
   "id": "240bac69",
   "metadata": {
    "execution": {
     "iopub.execute_input": "2022-11-09T11:35:18.972362Z",
     "iopub.status.busy": "2022-11-09T11:35:18.971775Z",
     "iopub.status.idle": "2022-11-09T11:35:18.977032Z",
     "shell.execute_reply": "2022-11-09T11:35:18.976371Z"
    },
    "papermill": {
     "duration": 0.030145,
     "end_time": "2022-11-09T11:35:18.978767",
     "exception": false,
     "start_time": "2022-11-09T11:35:18.948622",
     "status": "completed"
    },
    "tags": []
   },
   "outputs": [],
   "source": [
    "# Change all possible column types to 'int/float'\n",
    "for col in columns:    \n",
    "    result[col] = pd.to_numeric(result[col], errors='ignore')  "
   ]
  },
  {
   "cell_type": "code",
   "execution_count": 45,
   "id": "897204f6",
   "metadata": {
    "execution": {
     "iopub.execute_input": "2022-11-09T11:35:19.025397Z",
     "iopub.status.busy": "2022-11-09T11:35:19.024766Z",
     "iopub.status.idle": "2022-11-09T11:35:19.031763Z",
     "shell.execute_reply": "2022-11-09T11:35:19.030858Z"
    },
    "papermill": {
     "duration": 0.033112,
     "end_time": "2022-11-09T11:35:19.034160",
     "exception": false,
     "start_time": "2022-11-09T11:35:19.001048",
     "status": "completed"
    },
    "tags": []
   },
   "outputs": [
    {
     "name": "stdout",
     "output_type": "stream",
     "text": [
      "Linear Regression\n",
      "age_log_transform 8.0525\n",
      "slag_log_transform 7.0832\n",
      "cement_log_transform 6.5077\n",
      "----------------------------------------\n",
      "Ridge Regression\n",
      "age_log_transform 7.946\n",
      "cement_log_transform 7.4501\n",
      "slag_log_transform 7.1705\n",
      "----------------------------------------\n",
      "Lasso Regression\n",
      "cement_log_transform 8.4578\n",
      "age_log_transform 7.8069\n",
      "slag_log_transform 6.1161\n",
      "----------------------------------------\n"
     ]
    }
   ],
   "source": [
    "# Find three most influential features of each model\n",
    "for col in columns:\n",
    "    print(col)\n",
    "    tmp = result[col].nlargest(3)\n",
    "    for i,v in zip(tmp.index.tolist(),tmp):\n",
    "        print(result['feature'][i], v)\n",
    "    print('-'*40)"
   ]
  },
  {
   "cell_type": "markdown",
   "id": "f8674d0b",
   "metadata": {
    "execution": {
     "iopub.execute_input": "2022-11-08T19:38:02.481011Z",
     "iopub.status.busy": "2022-11-08T19:38:02.479939Z",
     "iopub.status.idle": "2022-11-08T19:38:02.492883Z",
     "shell.execute_reply": "2022-11-08T19:38:02.491729Z",
     "shell.execute_reply.started": "2022-11-08T19:38:02.480974Z"
    },
    "papermill": {
     "duration": 0.021801,
     "end_time": "2022-11-09T11:35:19.078942",
     "exception": false,
     "start_time": "2022-11-09T11:35:19.057141",
     "status": "completed"
    },
    "tags": []
   },
   "source": [
    "Above there are the three most influential features of each model. </br>\n",
    "All of them are identical but have a slightly different levels of impact. </br>\n",
    "Age_log_transform is the most impactful feature. \n",
    "\n",
    "-------\n",
    "The best model is Lasso Regresiion with r^2 0.9\n",
    "\n",
    "--------------\n",
    "\n",
    "A possible next steps are: \n",
    "1. collecting more data to improve Adj. R-squared up to 0.99 for better prediction.\n",
    "2. use feature importance to find the influence of ^2 and more power parameters."
   ]
  },
  {
   "cell_type": "markdown",
   "id": "f9624e01",
   "metadata": {
    "execution": {
     "iopub.status.busy": "2022-11-08T19:38:02.493855Z",
     "iopub.status.idle": "2022-11-08T19:38:02.494646Z",
     "shell.execute_reply": "2022-11-08T19:38:02.494420Z",
     "shell.execute_reply.started": "2022-11-08T19:38:02.494398Z"
    },
    "papermill": {
     "duration": 0.021445,
     "end_time": "2022-11-09T11:35:19.122437",
     "exception": false,
     "start_time": "2022-11-09T11:35:19.100992",
     "status": "completed"
    },
    "tags": []
   },
   "source": [
    "## No normalization"
   ]
  },
  {
   "cell_type": "markdown",
   "id": "babd0b90",
   "metadata": {
    "execution": {
     "iopub.status.busy": "2022-11-08T19:38:02.496711Z",
     "iopub.status.idle": "2022-11-08T19:38:02.497178Z",
     "shell.execute_reply": "2022-11-08T19:38:02.496977Z",
     "shell.execute_reply.started": "2022-11-08T19:38:02.496957Z"
    },
    "papermill": {
     "duration": 0.021789,
     "end_time": "2022-11-09T11:35:19.165888",
     "exception": false,
     "start_time": "2022-11-09T11:35:19.144099",
     "status": "completed"
    },
    "tags": []
   },
   "source": [
    "I found VIF for no normalised data less than for the normalised data. Just to check how normalization influences on the result of linear regression models I performed calculations for standard Linear Regression and Lasso Regression. "
   ]
  },
  {
   "cell_type": "code",
   "execution_count": 46,
   "id": "a61e41e6",
   "metadata": {
    "execution": {
     "iopub.execute_input": "2022-11-09T11:35:19.212159Z",
     "iopub.status.busy": "2022-11-09T11:35:19.211743Z",
     "iopub.status.idle": "2022-11-09T11:35:19.239304Z",
     "shell.execute_reply": "2022-11-09T11:35:19.238150Z"
    },
    "papermill": {
     "duration": 0.054173,
     "end_time": "2022-11-09T11:35:19.242107",
     "exception": false,
     "start_time": "2022-11-09T11:35:19.187934",
     "status": "completed"
    },
    "tags": []
   },
   "outputs": [
    {
     "data": {
      "text/html": [
       "<div>\n",
       "<style scoped>\n",
       "    .dataframe tbody tr th:only-of-type {\n",
       "        vertical-align: middle;\n",
       "    }\n",
       "\n",
       "    .dataframe tbody tr th {\n",
       "        vertical-align: top;\n",
       "    }\n",
       "\n",
       "    .dataframe thead th {\n",
       "        text-align: right;\n",
       "    }\n",
       "</style>\n",
       "<table border=\"1\" class=\"dataframe\">\n",
       "  <thead>\n",
       "    <tr style=\"text-align: right;\">\n",
       "      <th></th>\n",
       "      <th>feature</th>\n",
       "      <th>VIF</th>\n",
       "    </tr>\n",
       "  </thead>\n",
       "  <tbody>\n",
       "    <tr>\n",
       "      <th>5</th>\n",
       "      <td>coarse_agg</td>\n",
       "      <td>84.959460</td>\n",
       "    </tr>\n",
       "    <tr>\n",
       "      <th>3</th>\n",
       "      <td>water</td>\n",
       "      <td>82.150840</td>\n",
       "    </tr>\n",
       "    <tr>\n",
       "      <th>6</th>\n",
       "      <td>fine_agg</td>\n",
       "      <td>72.795397</td>\n",
       "    </tr>\n",
       "    <tr>\n",
       "      <th>0</th>\n",
       "      <td>cement</td>\n",
       "      <td>15.468620</td>\n",
       "    </tr>\n",
       "    <tr>\n",
       "      <th>4</th>\n",
       "      <td>superplastcizer</td>\n",
       "      <td>5.472391</td>\n",
       "    </tr>\n",
       "    <tr>\n",
       "      <th>2</th>\n",
       "      <td>ash</td>\n",
       "      <td>4.148893</td>\n",
       "    </tr>\n",
       "    <tr>\n",
       "      <th>1</th>\n",
       "      <td>slag</td>\n",
       "      <td>3.330359</td>\n",
       "    </tr>\n",
       "    <tr>\n",
       "      <th>7</th>\n",
       "      <td>age</td>\n",
       "      <td>1.699430</td>\n",
       "    </tr>\n",
       "  </tbody>\n",
       "</table>\n",
       "</div>"
      ],
      "text/plain": [
       "           feature        VIF\n",
       "5       coarse_agg  84.959460\n",
       "3            water  82.150840\n",
       "6         fine_agg  72.795397\n",
       "0           cement  15.468620\n",
       "4  superplastcizer   5.472391\n",
       "2              ash   4.148893\n",
       "1             slag   3.330359\n",
       "7              age   1.699430"
      ]
     },
     "execution_count": 46,
     "metadata": {},
     "output_type": "execute_result"
    }
   ],
   "source": [
    "# Multicollinearity analysis if data was not normalized\n",
    "num_cols = data.select_dtypes(include=np.number).columns.tolist()\n",
    "target = 'strength'\n",
    "features = [x for x in num_cols if x != target]\n",
    "\n",
    "# VIF dataframe\n",
    "vif_data = pd.DataFrame()\n",
    "vif_data[\"feature\"] = features\n",
    "  \n",
    "# Calculating VIF for each feature\n",
    "vif_data[\"VIF\"] = [variance_inflation_factor(data[features].values, i)\n",
    "                          for i in range(len(features))]\n",
    "\n",
    "vif_data.sort_values('VIF', ascending = False)"
   ]
  },
  {
   "cell_type": "code",
   "execution_count": 47,
   "id": "4cb5e5eb",
   "metadata": {
    "execution": {
     "iopub.execute_input": "2022-11-09T11:35:19.290133Z",
     "iopub.status.busy": "2022-11-09T11:35:19.288536Z",
     "iopub.status.idle": "2022-11-09T11:35:19.305415Z",
     "shell.execute_reply": "2022-11-09T11:35:19.304686Z"
    },
    "papermill": {
     "duration": 0.043019,
     "end_time": "2022-11-09T11:35:19.307707",
     "exception": false,
     "start_time": "2022-11-09T11:35:19.264688",
     "status": "completed"
    },
    "tags": []
   },
   "outputs": [
    {
     "data": {
      "text/html": [
       "<div>\n",
       "<style scoped>\n",
       "    .dataframe tbody tr th:only-of-type {\n",
       "        vertical-align: middle;\n",
       "    }\n",
       "\n",
       "    .dataframe tbody tr th {\n",
       "        vertical-align: top;\n",
       "    }\n",
       "\n",
       "    .dataframe thead th {\n",
       "        text-align: right;\n",
       "    }\n",
       "</style>\n",
       "<table border=\"1\" class=\"dataframe\">\n",
       "  <thead>\n",
       "    <tr style=\"text-align: right;\">\n",
       "      <th></th>\n",
       "      <th>feature</th>\n",
       "      <th>VIF</th>\n",
       "      <th>corr_with_target</th>\n",
       "    </tr>\n",
       "  </thead>\n",
       "  <tbody>\n",
       "    <tr>\n",
       "      <th>0</th>\n",
       "      <td>cement</td>\n",
       "      <td>15.468620</td>\n",
       "      <td>0.497833</td>\n",
       "    </tr>\n",
       "    <tr>\n",
       "      <th>1</th>\n",
       "      <td>slag</td>\n",
       "      <td>3.330359</td>\n",
       "      <td>0.134824</td>\n",
       "    </tr>\n",
       "    <tr>\n",
       "      <th>2</th>\n",
       "      <td>ash</td>\n",
       "      <td>4.148893</td>\n",
       "      <td>-0.105753</td>\n",
       "    </tr>\n",
       "    <tr>\n",
       "      <th>3</th>\n",
       "      <td>water</td>\n",
       "      <td>82.150840</td>\n",
       "      <td>-0.289613</td>\n",
       "    </tr>\n",
       "    <tr>\n",
       "      <th>4</th>\n",
       "      <td>superplastcizer</td>\n",
       "      <td>5.472391</td>\n",
       "      <td>0.366102</td>\n",
       "    </tr>\n",
       "    <tr>\n",
       "      <th>5</th>\n",
       "      <td>coarse_agg</td>\n",
       "      <td>84.959460</td>\n",
       "      <td>-0.164928</td>\n",
       "    </tr>\n",
       "    <tr>\n",
       "      <th>6</th>\n",
       "      <td>fine_agg</td>\n",
       "      <td>72.795397</td>\n",
       "      <td>-0.167249</td>\n",
       "    </tr>\n",
       "    <tr>\n",
       "      <th>7</th>\n",
       "      <td>age</td>\n",
       "      <td>1.699430</td>\n",
       "      <td>0.328877</td>\n",
       "    </tr>\n",
       "  </tbody>\n",
       "</table>\n",
       "</div>"
      ],
      "text/plain": [
       "           feature        VIF  corr_with_target\n",
       "0           cement  15.468620          0.497833\n",
       "1             slag   3.330359          0.134824\n",
       "2              ash   4.148893         -0.105753\n",
       "3            water  82.150840         -0.289613\n",
       "4  superplastcizer   5.472391          0.366102\n",
       "5       coarse_agg  84.959460         -0.164928\n",
       "6         fine_agg  72.795397         -0.167249\n",
       "7              age   1.699430          0.328877"
      ]
     },
     "execution_count": 47,
     "metadata": {},
     "output_type": "execute_result"
    }
   ],
   "source": [
    "# Combine data on VIF and correlation with the target to decide if we should remove some of the highly correlated predicting features\n",
    "corr = data[num_cols].corr()\n",
    "corr['feature'] = corr.index\n",
    "VIF_and_target_corr = pd.merge(vif_data, corr[['strength', 'feature']], on = 'feature')\n",
    "VIF_and_target_corr.rename(columns={\"strength\": \"corr_with_target\"}, inplace=True)\n",
    "VIF_and_target_corr"
   ]
  },
  {
   "cell_type": "code",
   "execution_count": 48,
   "id": "d4b8558a",
   "metadata": {
    "execution": {
     "iopub.execute_input": "2022-11-09T11:35:19.355580Z",
     "iopub.status.busy": "2022-11-09T11:35:19.354509Z",
     "iopub.status.idle": "2022-11-09T11:35:19.412234Z",
     "shell.execute_reply": "2022-11-09T11:35:19.410767Z"
    },
    "papermill": {
     "duration": 0.083941,
     "end_time": "2022-11-09T11:35:19.414538",
     "exception": false,
     "start_time": "2022-11-09T11:35:19.330597",
     "status": "completed"
    },
    "tags": []
   },
   "outputs": [
    {
     "data": {
      "text/html": [
       "<div>                            <div id=\"f52f4f47-59d7-4127-b6bd-27764e05fe4d\" class=\"plotly-graph-div\" style=\"height:500px; width:800px;\"></div>            <script type=\"text/javascript\">                require([\"plotly\"], function(Plotly) {                    window.PLOTLYENV=window.PLOTLYENV || {};                                    if (document.getElementById(\"f52f4f47-59d7-4127-b6bd-27764e05fe4d\")) {                    Plotly.newPlot(                        \"f52f4f47-59d7-4127-b6bd-27764e05fe4d\",                        [{\"customdata\":[[\"cement\"],[\"slag\"],[\"ash\"],[\"water\"],[\"superplastcizer\"],[\"coarse_agg\"],[\"fine_agg\"],[\"age\"]],\"hovertemplate\":\"Variance Inflation Factor=%{x}<br>Correlation with target=%{y}<br>feature=%{customdata[0]}<extra></extra>\",\"legendgroup\":\"\",\"marker\":{\"color\":\"#636efa\",\"symbol\":\"circle\",\"line\":{\"color\":\"DarkSlateGrey\",\"width\":2},\"size\":12},\"mode\":\"markers\",\"name\":\"\",\"orientation\":\"v\",\"showlegend\":false,\"x\":[15.468619680575578,3.3303586765549733,4.148893107198278,82.15084032162994,5.4723908520111095,84.95945975968061,72.79539742485362,1.699429856530737],\"xaxis\":\"x\",\"y\":[0.49783272227484304,0.13482444514334285,-0.10575334763608248,-0.2896134756904165,0.36610229768322483,-0.16492782105733575,-0.1672489619816908,0.3288769755102854],\"yaxis\":\"y\",\"type\":\"scatter\"}],                        {\"template\":{\"data\":{\"histogram2dcontour\":[{\"type\":\"histogram2dcontour\",\"colorbar\":{\"outlinewidth\":0,\"ticks\":\"\"},\"colorscale\":[[0.0,\"#0d0887\"],[0.1111111111111111,\"#46039f\"],[0.2222222222222222,\"#7201a8\"],[0.3333333333333333,\"#9c179e\"],[0.4444444444444444,\"#bd3786\"],[0.5555555555555556,\"#d8576b\"],[0.6666666666666666,\"#ed7953\"],[0.7777777777777778,\"#fb9f3a\"],[0.8888888888888888,\"#fdca26\"],[1.0,\"#f0f921\"]]}],\"choropleth\":[{\"type\":\"choropleth\",\"colorbar\":{\"outlinewidth\":0,\"ticks\":\"\"}}],\"histogram2d\":[{\"type\":\"histogram2d\",\"colorbar\":{\"outlinewidth\":0,\"ticks\":\"\"},\"colorscale\":[[0.0,\"#0d0887\"],[0.1111111111111111,\"#46039f\"],[0.2222222222222222,\"#7201a8\"],[0.3333333333333333,\"#9c179e\"],[0.4444444444444444,\"#bd3786\"],[0.5555555555555556,\"#d8576b\"],[0.6666666666666666,\"#ed7953\"],[0.7777777777777778,\"#fb9f3a\"],[0.8888888888888888,\"#fdca26\"],[1.0,\"#f0f921\"]]}],\"heatmap\":[{\"type\":\"heatmap\",\"colorbar\":{\"outlinewidth\":0,\"ticks\":\"\"},\"colorscale\":[[0.0,\"#0d0887\"],[0.1111111111111111,\"#46039f\"],[0.2222222222222222,\"#7201a8\"],[0.3333333333333333,\"#9c179e\"],[0.4444444444444444,\"#bd3786\"],[0.5555555555555556,\"#d8576b\"],[0.6666666666666666,\"#ed7953\"],[0.7777777777777778,\"#fb9f3a\"],[0.8888888888888888,\"#fdca26\"],[1.0,\"#f0f921\"]]}],\"heatmapgl\":[{\"type\":\"heatmapgl\",\"colorbar\":{\"outlinewidth\":0,\"ticks\":\"\"},\"colorscale\":[[0.0,\"#0d0887\"],[0.1111111111111111,\"#46039f\"],[0.2222222222222222,\"#7201a8\"],[0.3333333333333333,\"#9c179e\"],[0.4444444444444444,\"#bd3786\"],[0.5555555555555556,\"#d8576b\"],[0.6666666666666666,\"#ed7953\"],[0.7777777777777778,\"#fb9f3a\"],[0.8888888888888888,\"#fdca26\"],[1.0,\"#f0f921\"]]}],\"contourcarpet\":[{\"type\":\"contourcarpet\",\"colorbar\":{\"outlinewidth\":0,\"ticks\":\"\"}}],\"contour\":[{\"type\":\"contour\",\"colorbar\":{\"outlinewidth\":0,\"ticks\":\"\"},\"colorscale\":[[0.0,\"#0d0887\"],[0.1111111111111111,\"#46039f\"],[0.2222222222222222,\"#7201a8\"],[0.3333333333333333,\"#9c179e\"],[0.4444444444444444,\"#bd3786\"],[0.5555555555555556,\"#d8576b\"],[0.6666666666666666,\"#ed7953\"],[0.7777777777777778,\"#fb9f3a\"],[0.8888888888888888,\"#fdca26\"],[1.0,\"#f0f921\"]]}],\"surface\":[{\"type\":\"surface\",\"colorbar\":{\"outlinewidth\":0,\"ticks\":\"\"},\"colorscale\":[[0.0,\"#0d0887\"],[0.1111111111111111,\"#46039f\"],[0.2222222222222222,\"#7201a8\"],[0.3333333333333333,\"#9c179e\"],[0.4444444444444444,\"#bd3786\"],[0.5555555555555556,\"#d8576b\"],[0.6666666666666666,\"#ed7953\"],[0.7777777777777778,\"#fb9f3a\"],[0.8888888888888888,\"#fdca26\"],[1.0,\"#f0f921\"]]}],\"mesh3d\":[{\"type\":\"mesh3d\",\"colorbar\":{\"outlinewidth\":0,\"ticks\":\"\"}}],\"scatter\":[{\"fillpattern\":{\"fillmode\":\"overlay\",\"size\":10,\"solidity\":0.2},\"type\":\"scatter\"}],\"parcoords\":[{\"type\":\"parcoords\",\"line\":{\"colorbar\":{\"outlinewidth\":0,\"ticks\":\"\"}}}],\"scatterpolargl\":[{\"type\":\"scatterpolargl\",\"marker\":{\"colorbar\":{\"outlinewidth\":0,\"ticks\":\"\"}}}],\"bar\":[{\"error_x\":{\"color\":\"#2a3f5f\"},\"error_y\":{\"color\":\"#2a3f5f\"},\"marker\":{\"line\":{\"color\":\"#E5ECF6\",\"width\":0.5},\"pattern\":{\"fillmode\":\"overlay\",\"size\":10,\"solidity\":0.2}},\"type\":\"bar\"}],\"scattergeo\":[{\"type\":\"scattergeo\",\"marker\":{\"colorbar\":{\"outlinewidth\":0,\"ticks\":\"\"}}}],\"scatterpolar\":[{\"type\":\"scatterpolar\",\"marker\":{\"colorbar\":{\"outlinewidth\":0,\"ticks\":\"\"}}}],\"histogram\":[{\"marker\":{\"pattern\":{\"fillmode\":\"overlay\",\"size\":10,\"solidity\":0.2}},\"type\":\"histogram\"}],\"scattergl\":[{\"type\":\"scattergl\",\"marker\":{\"colorbar\":{\"outlinewidth\":0,\"ticks\":\"\"}}}],\"scatter3d\":[{\"type\":\"scatter3d\",\"line\":{\"colorbar\":{\"outlinewidth\":0,\"ticks\":\"\"}},\"marker\":{\"colorbar\":{\"outlinewidth\":0,\"ticks\":\"\"}}}],\"scattermapbox\":[{\"type\":\"scattermapbox\",\"marker\":{\"colorbar\":{\"outlinewidth\":0,\"ticks\":\"\"}}}],\"scatterternary\":[{\"type\":\"scatterternary\",\"marker\":{\"colorbar\":{\"outlinewidth\":0,\"ticks\":\"\"}}}],\"scattercarpet\":[{\"type\":\"scattercarpet\",\"marker\":{\"colorbar\":{\"outlinewidth\":0,\"ticks\":\"\"}}}],\"carpet\":[{\"aaxis\":{\"endlinecolor\":\"#2a3f5f\",\"gridcolor\":\"white\",\"linecolor\":\"white\",\"minorgridcolor\":\"white\",\"startlinecolor\":\"#2a3f5f\"},\"baxis\":{\"endlinecolor\":\"#2a3f5f\",\"gridcolor\":\"white\",\"linecolor\":\"white\",\"minorgridcolor\":\"white\",\"startlinecolor\":\"#2a3f5f\"},\"type\":\"carpet\"}],\"table\":[{\"cells\":{\"fill\":{\"color\":\"#EBF0F8\"},\"line\":{\"color\":\"white\"}},\"header\":{\"fill\":{\"color\":\"#C8D4E3\"},\"line\":{\"color\":\"white\"}},\"type\":\"table\"}],\"barpolar\":[{\"marker\":{\"line\":{\"color\":\"#E5ECF6\",\"width\":0.5},\"pattern\":{\"fillmode\":\"overlay\",\"size\":10,\"solidity\":0.2}},\"type\":\"barpolar\"}],\"pie\":[{\"automargin\":true,\"type\":\"pie\"}]},\"layout\":{\"autotypenumbers\":\"strict\",\"colorway\":[\"#636efa\",\"#EF553B\",\"#00cc96\",\"#ab63fa\",\"#FFA15A\",\"#19d3f3\",\"#FF6692\",\"#B6E880\",\"#FF97FF\",\"#FECB52\"],\"font\":{\"color\":\"#2a3f5f\"},\"hovermode\":\"closest\",\"hoverlabel\":{\"align\":\"left\"},\"paper_bgcolor\":\"white\",\"plot_bgcolor\":\"#E5ECF6\",\"polar\":{\"bgcolor\":\"#E5ECF6\",\"angularaxis\":{\"gridcolor\":\"white\",\"linecolor\":\"white\",\"ticks\":\"\"},\"radialaxis\":{\"gridcolor\":\"white\",\"linecolor\":\"white\",\"ticks\":\"\"}},\"ternary\":{\"bgcolor\":\"#E5ECF6\",\"aaxis\":{\"gridcolor\":\"white\",\"linecolor\":\"white\",\"ticks\":\"\"},\"baxis\":{\"gridcolor\":\"white\",\"linecolor\":\"white\",\"ticks\":\"\"},\"caxis\":{\"gridcolor\":\"white\",\"linecolor\":\"white\",\"ticks\":\"\"}},\"coloraxis\":{\"colorbar\":{\"outlinewidth\":0,\"ticks\":\"\"}},\"colorscale\":{\"sequential\":[[0.0,\"#0d0887\"],[0.1111111111111111,\"#46039f\"],[0.2222222222222222,\"#7201a8\"],[0.3333333333333333,\"#9c179e\"],[0.4444444444444444,\"#bd3786\"],[0.5555555555555556,\"#d8576b\"],[0.6666666666666666,\"#ed7953\"],[0.7777777777777778,\"#fb9f3a\"],[0.8888888888888888,\"#fdca26\"],[1.0,\"#f0f921\"]],\"sequentialminus\":[[0.0,\"#0d0887\"],[0.1111111111111111,\"#46039f\"],[0.2222222222222222,\"#7201a8\"],[0.3333333333333333,\"#9c179e\"],[0.4444444444444444,\"#bd3786\"],[0.5555555555555556,\"#d8576b\"],[0.6666666666666666,\"#ed7953\"],[0.7777777777777778,\"#fb9f3a\"],[0.8888888888888888,\"#fdca26\"],[1.0,\"#f0f921\"]],\"diverging\":[[0,\"#8e0152\"],[0.1,\"#c51b7d\"],[0.2,\"#de77ae\"],[0.3,\"#f1b6da\"],[0.4,\"#fde0ef\"],[0.5,\"#f7f7f7\"],[0.6,\"#e6f5d0\"],[0.7,\"#b8e186\"],[0.8,\"#7fbc41\"],[0.9,\"#4d9221\"],[1,\"#276419\"]]},\"xaxis\":{\"gridcolor\":\"white\",\"linecolor\":\"white\",\"ticks\":\"\",\"title\":{\"standoff\":15},\"zerolinecolor\":\"white\",\"automargin\":true,\"zerolinewidth\":2},\"yaxis\":{\"gridcolor\":\"white\",\"linecolor\":\"white\",\"ticks\":\"\",\"title\":{\"standoff\":15},\"zerolinecolor\":\"white\",\"automargin\":true,\"zerolinewidth\":2},\"scene\":{\"xaxis\":{\"backgroundcolor\":\"#E5ECF6\",\"gridcolor\":\"white\",\"linecolor\":\"white\",\"showbackground\":true,\"ticks\":\"\",\"zerolinecolor\":\"white\",\"gridwidth\":2},\"yaxis\":{\"backgroundcolor\":\"#E5ECF6\",\"gridcolor\":\"white\",\"linecolor\":\"white\",\"showbackground\":true,\"ticks\":\"\",\"zerolinecolor\":\"white\",\"gridwidth\":2},\"zaxis\":{\"backgroundcolor\":\"#E5ECF6\",\"gridcolor\":\"white\",\"linecolor\":\"white\",\"showbackground\":true,\"ticks\":\"\",\"zerolinecolor\":\"white\",\"gridwidth\":2}},\"shapedefaults\":{\"line\":{\"color\":\"#2a3f5f\"}},\"annotationdefaults\":{\"arrowcolor\":\"#2a3f5f\",\"arrowhead\":0,\"arrowwidth\":1},\"geo\":{\"bgcolor\":\"white\",\"landcolor\":\"#E5ECF6\",\"subunitcolor\":\"white\",\"showland\":true,\"showlakes\":true,\"lakecolor\":\"white\"},\"title\":{\"x\":0.05},\"mapbox\":{\"style\":\"light\"}}},\"xaxis\":{\"anchor\":\"y\",\"domain\":[0.0,1.0],\"title\":{\"text\":\"Variance Inflation Factor\"}},\"yaxis\":{\"anchor\":\"x\",\"domain\":[0.0,1.0],\"title\":{\"text\":\"Correlation with target\"}},\"legend\":{\"tracegroupgap\":0},\"title\":{\"text\":\"Feature usefulness: Variance Inflation Factor vs Correlation with target\"},\"height\":500,\"width\":800},                        {\"responsive\": true}                    ).then(function(){\n",
       "                            \n",
       "var gd = document.getElementById('f52f4f47-59d7-4127-b6bd-27764e05fe4d');\n",
       "var x = new MutationObserver(function (mutations, observer) {{\n",
       "        var display = window.getComputedStyle(gd).display;\n",
       "        if (!display || display === 'none') {{\n",
       "            console.log([gd, 'removed!']);\n",
       "            Plotly.purge(gd);\n",
       "            observer.disconnect();\n",
       "        }}\n",
       "}});\n",
       "\n",
       "// Listen for the removal of the full notebook cells\n",
       "var notebookContainer = gd.closest('#notebook-container');\n",
       "if (notebookContainer) {{\n",
       "    x.observe(notebookContainer, {childList: true});\n",
       "}}\n",
       "\n",
       "// Listen for the clearing of the current output cell\n",
       "var outputEl = gd.closest('.output');\n",
       "if (outputEl) {{\n",
       "    x.observe(outputEl, {childList: true});\n",
       "}}\n",
       "\n",
       "                        })                };                });            </script>        </div>"
      ]
     },
     "metadata": {},
     "output_type": "display_data"
    }
   ],
   "source": [
    "# Create a scatter plot for Variance Inflation Factor vs Correlation with target\n",
    "fig = px.scatter(VIF_and_target_corr, x=\"VIF\", y=\"corr_with_target\",\n",
    "                 width=800, height=500,\n",
    "                 hover_data = VIF_and_target_corr[['feature']],\n",
    "                 labels={\n",
    "                     \"VIF\": \"Variance Inflation Factor\",\n",
    "                     \"corr_with_target\": \"Correlation with target\"\n",
    "                 },\n",
    "                 title='Feature usefulness: Variance Inflation Factor vs Correlation with target',\n",
    "                 trendline_color_override=\"black\")\n",
    "fig.update_traces(marker=dict(size=12,\n",
    "                              line=dict(width=2,\n",
    "                                        color='DarkSlateGrey')),\n",
    "                  selector=dict(mode='markers'))\n",
    "fig.show()"
   ]
  },
  {
   "cell_type": "code",
   "execution_count": 49,
   "id": "79890d02",
   "metadata": {
    "execution": {
     "iopub.execute_input": "2022-11-09T11:35:19.461997Z",
     "iopub.status.busy": "2022-11-09T11:35:19.460946Z",
     "iopub.status.idle": "2022-11-09T11:35:19.500881Z",
     "shell.execute_reply": "2022-11-09T11:35:19.499517Z"
    },
    "papermill": {
     "duration": 0.066153,
     "end_time": "2022-11-09T11:35:19.503307",
     "exception": false,
     "start_time": "2022-11-09T11:35:19.437154",
     "status": "completed"
    },
    "tags": []
   },
   "outputs": [
    {
     "data": {
      "text/html": [
       "<div>\n",
       "<style scoped>\n",
       "    .dataframe tbody tr th:only-of-type {\n",
       "        vertical-align: middle;\n",
       "    }\n",
       "\n",
       "    .dataframe tbody tr th {\n",
       "        vertical-align: top;\n",
       "    }\n",
       "\n",
       "    .dataframe thead th {\n",
       "        text-align: right;\n",
       "    }\n",
       "</style>\n",
       "<table border=\"1\" class=\"dataframe\">\n",
       "  <thead>\n",
       "    <tr style=\"text-align: right;\">\n",
       "      <th></th>\n",
       "      <th>count</th>\n",
       "      <th>mean</th>\n",
       "      <th>std</th>\n",
       "      <th>min</th>\n",
       "      <th>25%</th>\n",
       "      <th>50%</th>\n",
       "      <th>75%</th>\n",
       "      <th>max</th>\n",
       "    </tr>\n",
       "  </thead>\n",
       "  <tbody>\n",
       "    <tr>\n",
       "      <th>strength</th>\n",
       "      <td>1030.0</td>\n",
       "      <td>35.817836</td>\n",
       "      <td>16.705679</td>\n",
       "      <td>2.331808</td>\n",
       "      <td>23.707115</td>\n",
       "      <td>34.442774</td>\n",
       "      <td>46.136287</td>\n",
       "      <td>82.599225</td>\n",
       "    </tr>\n",
       "    <tr>\n",
       "      <th>cement</th>\n",
       "      <td>1030.0</td>\n",
       "      <td>0.409054</td>\n",
       "      <td>0.238601</td>\n",
       "      <td>0.000000</td>\n",
       "      <td>0.206336</td>\n",
       "      <td>0.390183</td>\n",
       "      <td>0.566210</td>\n",
       "      <td>1.000000</td>\n",
       "    </tr>\n",
       "    <tr>\n",
       "      <th>slag</th>\n",
       "      <td>1030.0</td>\n",
       "      <td>0.205608</td>\n",
       "      <td>0.240064</td>\n",
       "      <td>0.000000</td>\n",
       "      <td>0.000000</td>\n",
       "      <td>0.061213</td>\n",
       "      <td>0.397746</td>\n",
       "      <td>1.000000</td>\n",
       "    </tr>\n",
       "    <tr>\n",
       "      <th>ash</th>\n",
       "      <td>1030.0</td>\n",
       "      <td>0.270800</td>\n",
       "      <td>0.319822</td>\n",
       "      <td>0.000000</td>\n",
       "      <td>0.000000</td>\n",
       "      <td>0.000000</td>\n",
       "      <td>0.591054</td>\n",
       "      <td>1.000000</td>\n",
       "    </tr>\n",
       "    <tr>\n",
       "      <th>water</th>\n",
       "      <td>1030.0</td>\n",
       "      <td>0.477576</td>\n",
       "      <td>0.170504</td>\n",
       "      <td>0.000000</td>\n",
       "      <td>0.344511</td>\n",
       "      <td>0.504990</td>\n",
       "      <td>0.560878</td>\n",
       "      <td>1.000000</td>\n",
       "    </tr>\n",
       "    <tr>\n",
       "      <th>superplastcizer</th>\n",
       "      <td>1030.0</td>\n",
       "      <td>0.192643</td>\n",
       "      <td>0.185512</td>\n",
       "      <td>0.000000</td>\n",
       "      <td>0.000000</td>\n",
       "      <td>0.197205</td>\n",
       "      <td>0.315528</td>\n",
       "      <td>1.000000</td>\n",
       "    </tr>\n",
       "    <tr>\n",
       "      <th>coarse_agg</th>\n",
       "      <td>1030.0</td>\n",
       "      <td>0.499763</td>\n",
       "      <td>0.226029</td>\n",
       "      <td>0.000000</td>\n",
       "      <td>0.380814</td>\n",
       "      <td>0.485465</td>\n",
       "      <td>0.663953</td>\n",
       "      <td>1.000000</td>\n",
       "    </tr>\n",
       "    <tr>\n",
       "      <th>fine_agg</th>\n",
       "      <td>1030.0</td>\n",
       "      <td>0.450524</td>\n",
       "      <td>0.201143</td>\n",
       "      <td>0.000000</td>\n",
       "      <td>0.343578</td>\n",
       "      <td>0.465404</td>\n",
       "      <td>0.577020</td>\n",
       "      <td>1.000000</td>\n",
       "    </tr>\n",
       "    <tr>\n",
       "      <th>age</th>\n",
       "      <td>1030.0</td>\n",
       "      <td>0.122698</td>\n",
       "      <td>0.173544</td>\n",
       "      <td>0.000000</td>\n",
       "      <td>0.016484</td>\n",
       "      <td>0.074176</td>\n",
       "      <td>0.151099</td>\n",
       "      <td>1.000000</td>\n",
       "    </tr>\n",
       "  </tbody>\n",
       "</table>\n",
       "</div>"
      ],
      "text/plain": [
       "                  count       mean        std       min        25%        50%  \\\n",
       "strength         1030.0  35.817836  16.705679  2.331808  23.707115  34.442774   \n",
       "cement           1030.0   0.409054   0.238601  0.000000   0.206336   0.390183   \n",
       "slag             1030.0   0.205608   0.240064  0.000000   0.000000   0.061213   \n",
       "ash              1030.0   0.270800   0.319822  0.000000   0.000000   0.000000   \n",
       "water            1030.0   0.477576   0.170504  0.000000   0.344511   0.504990   \n",
       "superplastcizer  1030.0   0.192643   0.185512  0.000000   0.000000   0.197205   \n",
       "coarse_agg       1030.0   0.499763   0.226029  0.000000   0.380814   0.485465   \n",
       "fine_agg         1030.0   0.450524   0.201143  0.000000   0.343578   0.465404   \n",
       "age              1030.0   0.122698   0.173544  0.000000   0.016484   0.074176   \n",
       "\n",
       "                       75%        max  \n",
       "strength         46.136287  82.599225  \n",
       "cement            0.566210   1.000000  \n",
       "slag              0.397746   1.000000  \n",
       "ash               0.591054   1.000000  \n",
       "water             0.560878   1.000000  \n",
       "superplastcizer   0.315528   1.000000  \n",
       "coarse_agg        0.663953   1.000000  \n",
       "fine_agg          0.577020   1.000000  \n",
       "age               0.151099   1.000000  "
      ]
     },
     "execution_count": 49,
     "metadata": {},
     "output_type": "execute_result"
    }
   ],
   "source": [
    "# Scale features for OLS Regression\n",
    "df_scaled = data.copy()\n",
    "s = MinMaxScaler()\n",
    "df_scaled[features] = s.fit_transform(df_scaled[features])\n",
    "\n",
    "# Look at scaled variables\n",
    "df_scaled.describe().T"
   ]
  },
  {
   "cell_type": "code",
   "execution_count": 50,
   "id": "9712aa8e",
   "metadata": {
    "execution": {
     "iopub.execute_input": "2022-11-09T11:35:19.552274Z",
     "iopub.status.busy": "2022-11-09T11:35:19.551874Z",
     "iopub.status.idle": "2022-11-09T11:35:19.577384Z",
     "shell.execute_reply": "2022-11-09T11:35:19.576502Z"
    },
    "papermill": {
     "duration": 0.052851,
     "end_time": "2022-11-09T11:35:19.579434",
     "exception": false,
     "start_time": "2022-11-09T11:35:19.526583",
     "status": "completed"
    },
    "tags": []
   },
   "outputs": [
    {
     "name": "stdout",
     "output_type": "stream",
     "text": [
      "                            OLS Regression Results                            \n",
      "==============================================================================\n",
      "Dep. Variable:               strength   R-squared:                       0.615\n",
      "Model:                            OLS   Adj. R-squared:                  0.612\n",
      "Method:                 Least Squares   F-statistic:                     204.3\n",
      "Date:                Wed, 09 Nov 2022   Prob (F-statistic):          6.76e-206\n",
      "Time:                        11:35:19   Log-Likelihood:                -3869.0\n",
      "No. Observations:                1030   AIC:                             7756.\n",
      "Df Residuals:                    1021   BIC:                             7800.\n",
      "Df Model:                           8                                         \n",
      "Covariance Type:            nonrobust                                         \n",
      "===================================================================================\n",
      "                      coef    std err          t      P>|t|      [0.025      0.975]\n",
      "-----------------------------------------------------------------------------------\n",
      "const              -2.7163      8.284     -0.328      0.743     -18.973      13.540\n",
      "cement             52.4659      3.718     14.110      0.000      45.169      59.762\n",
      "slag               37.3227      3.643     10.245      0.000      30.174      44.471\n",
      "ash                17.5974      2.518      6.988      0.000      12.656      22.539\n",
      "water             -18.8248      5.032     -3.741      0.000     -28.700      -8.950\n",
      "superplastcizer     9.3601      3.009      3.110      0.002       3.455      15.265\n",
      "coarse_agg          6.2024      3.232      1.919      0.055      -0.139      12.544\n",
      "fine_agg            8.0336      4.266      1.883      0.060      -0.338      16.405\n",
      "age                41.5781      1.976     21.046      0.000      37.701      45.455\n",
      "==============================================================================\n",
      "Omnibus:                        5.379   Durbin-Watson:                   1.281\n",
      "Prob(Omnibus):                  0.068   Jarque-Bera (JB):                5.305\n",
      "Skew:                          -0.174   Prob(JB):                       0.0705\n",
      "Kurtosis:                       3.045   Cond. No.                         52.1\n",
      "==============================================================================\n",
      "\n",
      "Notes:\n",
      "[1] Standard Errors assume that the covariance matrix of the errors is correctly specified.\n"
     ]
    }
   ],
   "source": [
    "# Get features and target\n",
    "X = df_scaled[features]\n",
    "Y = df_scaled[target]\n",
    "\n",
    "# Add constant for OLS Regression\n",
    "X = sm.add_constant(X)\n",
    "\n",
    "# Build OLS Regression model\n",
    "model_n = sm.OLS(Y, X).fit()\n",
    "predictions_n = model.predict(X) \n",
    "\n",
    "# Look at summary\n",
    "print_model = model_n.summary()\n",
    "print(print_model)"
   ]
  },
  {
   "cell_type": "markdown",
   "id": "e6ba71dd",
   "metadata": {
    "execution": {
     "iopub.status.busy": "2022-11-08T19:38:02.510018Z",
     "iopub.status.idle": "2022-11-08T19:38:02.510429Z",
     "shell.execute_reply": "2022-11-08T19:38:02.510252Z",
     "shell.execute_reply.started": "2022-11-08T19:38:02.510233Z"
    },
    "papermill": {
     "duration": 0.03048,
     "end_time": "2022-11-09T11:35:19.641325",
     "exception": false,
     "start_time": "2022-11-09T11:35:19.610845",
     "status": "completed"
    },
    "tags": []
   },
   "source": [
    "Adj. R-squared for no normalised data (0.612) smaller than for the normalised data (0.805). </br>\n"
   ]
  },
  {
   "cell_type": "markdown",
   "id": "1a7bb006",
   "metadata": {
    "execution": {
     "iopub.status.busy": "2022-11-08T19:38:02.512569Z",
     "iopub.status.idle": "2022-11-08T19:38:02.513018Z",
     "shell.execute_reply": "2022-11-08T19:38:02.512837Z",
     "shell.execute_reply.started": "2022-11-08T19:38:02.512817Z"
    },
    "papermill": {
     "duration": 0.026019,
     "end_time": "2022-11-09T11:35:19.698793",
     "exception": false,
     "start_time": "2022-11-09T11:35:19.672774",
     "status": "completed"
    },
    "tags": []
   },
   "source": [
    "### Linear Regression"
   ]
  },
  {
   "cell_type": "code",
   "execution_count": 51,
   "id": "f2768b1e",
   "metadata": {
    "execution": {
     "iopub.execute_input": "2022-11-09T11:35:19.747267Z",
     "iopub.status.busy": "2022-11-09T11:35:19.746657Z",
     "iopub.status.idle": "2022-11-09T11:35:20.108245Z",
     "shell.execute_reply": "2022-11-09T11:35:20.107551Z"
    },
    "papermill": {
     "duration": 0.387984,
     "end_time": "2022-11-09T11:35:20.110090",
     "exception": false,
     "start_time": "2022-11-09T11:35:19.722106",
     "status": "completed"
    },
    "tags": []
   },
   "outputs": [
    {
     "data": {
      "text/plain": [
       "GridSearchCV(cv=KFold(n_splits=5, random_state=11, shuffle=True),\n",
       "             estimator=Pipeline(steps=[('scaler', 'passthrough'),\n",
       "                                       ('polynomial_features',\n",
       "                                        PolynomialFeatures()),\n",
       "                                       ('linear_regression',\n",
       "                                        LinearRegression())]),\n",
       "             n_jobs=-1,\n",
       "             param_grid={'polynomial_features__degree': [1, 2, 3],\n",
       "                         'scaler': [MinMaxScaler(), MaxAbsScaler(),\n",
       "                                    RobustScaler(), StandardScaler()]},\n",
       "             scoring='neg_median_absolute_error')"
      ]
     },
     "execution_count": 51,
     "metadata": {},
     "output_type": "execute_result"
    }
   ],
   "source": [
    "# Get features and target for sklearn regression models\n",
    "X_data_nn = data[features]\n",
    "y_data_nn = data[target]\n",
    "\n",
    "# Split data into train and test sets\n",
    "# I will do cross validation and model tuning on the train set and then calculate scores for tuned models on the test set\n",
    "X_train, X_test, y_train, y_test = train_test_split(X_data_nn, y_data_nn, test_size=0.3, random_state=2)\n",
    "\n",
    "# Estimator \n",
    "estimator_lr_nn = Pipeline([(\"scaler\", 'passthrough'),\n",
    "                          (\"polynomial_features\", PolynomialFeatures()),\n",
    "                          (\"linear_regression\", LinearRegression())])\n",
    "\n",
    "# Parameters for Grid Search\n",
    "params_lr_nn = {'polynomial_features__degree': [1, 2, 3],\n",
    "                'scaler': [MinMaxScaler(), MaxAbsScaler(), RobustScaler(), StandardScaler()]}\n",
    "\n",
    "# Grid Search\n",
    "grid_lr_nn = GridSearchCV(estimator_lr_nn, params_lr_nn, cv=kf, scoring='neg_median_absolute_error', n_jobs = -1)\n",
    "grid_lr_nn.fit(X_train, y_train)"
   ]
  },
  {
   "cell_type": "code",
   "execution_count": 52,
   "id": "bb96cbf1",
   "metadata": {
    "execution": {
     "iopub.execute_input": "2022-11-09T11:35:20.174741Z",
     "iopub.status.busy": "2022-11-09T11:35:20.174347Z",
     "iopub.status.idle": "2022-11-09T11:35:20.180779Z",
     "shell.execute_reply": "2022-11-09T11:35:20.179857Z"
    },
    "papermill": {
     "duration": 0.042978,
     "end_time": "2022-11-09T11:35:20.184929",
     "exception": false,
     "start_time": "2022-11-09T11:35:20.141951",
     "status": "completed"
    },
    "tags": []
   },
   "outputs": [
    {
     "data": {
      "text/plain": [
       "(-3.837690709275047,\n",
       " {'polynomial_features__degree': 3, 'scaler': StandardScaler()})"
      ]
     },
     "execution_count": 52,
     "metadata": {},
     "output_type": "execute_result"
    }
   ],
   "source": [
    "# Tuned model\n",
    "grid_lr_nn.best_score_, grid_lr_nn.best_params_"
   ]
  },
  {
   "cell_type": "code",
   "execution_count": 53,
   "id": "a5130273",
   "metadata": {
    "execution": {
     "iopub.execute_input": "2022-11-09T11:35:20.240837Z",
     "iopub.status.busy": "2022-11-09T11:35:20.240046Z",
     "iopub.status.idle": "2022-11-09T11:35:20.261347Z",
     "shell.execute_reply": "2022-11-09T11:35:20.260605Z"
    },
    "papermill": {
     "duration": 0.048016,
     "end_time": "2022-11-09T11:35:20.263288",
     "exception": false,
     "start_time": "2022-11-09T11:35:20.215272",
     "status": "completed"
    },
    "tags": []
   },
   "outputs": [
    {
     "data": {
      "text/html": [
       "<div>\n",
       "<style scoped>\n",
       "    .dataframe tbody tr th:only-of-type {\n",
       "        vertical-align: middle;\n",
       "    }\n",
       "\n",
       "    .dataframe tbody tr th {\n",
       "        vertical-align: top;\n",
       "    }\n",
       "\n",
       "    .dataframe thead th {\n",
       "        text-align: right;\n",
       "    }\n",
       "</style>\n",
       "<table border=\"1\" class=\"dataframe\">\n",
       "  <thead>\n",
       "    <tr style=\"text-align: right;\">\n",
       "      <th></th>\n",
       "      <th>model</th>\n",
       "      <th>mae_train</th>\n",
       "      <th>mae_test</th>\n",
       "      <th>r2_test</th>\n",
       "    </tr>\n",
       "  </thead>\n",
       "  <tbody>\n",
       "    <tr>\n",
       "      <th>0</th>\n",
       "      <td>linear_regression</td>\n",
       "      <td>2.936454</td>\n",
       "      <td>3.911838</td>\n",
       "      <td>0.883287</td>\n",
       "    </tr>\n",
       "    <tr>\n",
       "      <th>1</th>\n",
       "      <td>ridge_regression</td>\n",
       "      <td>2.843895</td>\n",
       "      <td>3.775305</td>\n",
       "      <td>0.899977</td>\n",
       "    </tr>\n",
       "    <tr>\n",
       "      <th>2</th>\n",
       "      <td>lasso_regression</td>\n",
       "      <td>2.846409</td>\n",
       "      <td>3.631780</td>\n",
       "      <td>0.903310</td>\n",
       "    </tr>\n",
       "    <tr>\n",
       "      <th>3</th>\n",
       "      <td>linear_regression_nn</td>\n",
       "      <td>3.837691</td>\n",
       "      <td>5.009742</td>\n",
       "      <td>0.799127</td>\n",
       "    </tr>\n",
       "  </tbody>\n",
       "</table>\n",
       "</div>"
      ],
      "text/plain": [
       "                  model  mae_train  mae_test   r2_test\n",
       "0     linear_regression   2.936454  3.911838  0.883287\n",
       "1      ridge_regression   2.843895  3.775305  0.899977\n",
       "2      lasso_regression   2.846409  3.631780  0.903310\n",
       "3  linear_regression_nn   3.837691  5.009742  0.799127"
      ]
     },
     "execution_count": 53,
     "metadata": {},
     "output_type": "execute_result"
    }
   ],
   "source": [
    "# Predict target values for test set using Linear Regression model\n",
    "y_predict_lr_nn = grid_lr_nn.predict(X_test)\n",
    "\n",
    "# calculate R2 score\n",
    "lr_nn_r2 = r2_score(y_test, y_predict_lr_nn)\n",
    "\n",
    "# calculate mean absolute error\n",
    "lr_nn_mae = mean_absolute_error(y_test, y_predict_lr_nn)\n",
    "\n",
    "# create data frame for scores and add scores for Linear Regression model\n",
    "scores = scores.append({'model' : 'linear_regression_nn',  \n",
    "                        'mae_train' : -grid_lr_nn.best_score_,\n",
    "                        'mae_test' : lr_nn_mae,\n",
    "                        'r2_test' : lr_nn_r2},\n",
    "                        ignore_index = True)\n",
    "scores"
   ]
  },
  {
   "cell_type": "code",
   "execution_count": 54,
   "id": "5a2f9c38",
   "metadata": {
    "execution": {
     "iopub.execute_input": "2022-11-09T11:35:20.328133Z",
     "iopub.status.busy": "2022-11-09T11:35:20.327693Z",
     "iopub.status.idle": "2022-11-09T11:35:20.517182Z",
     "shell.execute_reply": "2022-11-09T11:35:20.516205Z"
    },
    "papermill": {
     "duration": 0.22449,
     "end_time": "2022-11-09T11:35:20.519084",
     "exception": false,
     "start_time": "2022-11-09T11:35:20.294594",
     "status": "completed"
    },
    "tags": []
   },
   "outputs": [
    {
     "data": {
      "text/plain": [
       "Text(0, 0.5, 'Predicted Strength')"
      ]
     },
     "execution_count": 54,
     "metadata": {},
     "output_type": "execute_result"
    },
    {
     "data": {
      "image/png": "[encoded data removed]",
      "text/plain": [
       "<Figure size 432x432 with 1 Axes>"
      ]
     },
     "metadata": {
      "needs_background": "light"
     },
     "output_type": "display_data"
    }
   ],
   "source": [
    "# Visualize predicted vs actual target values\n",
    "plt.figure(figsize=(6, 6))\n",
    "plt.scatter(x = y_test, \n",
    "            y = y_predict_lr_nn)\n",
    "z = np.polyfit(y_test, y_predict_lr_nn, 1)\n",
    "p = np.poly1d(z)\n",
    "plt.plot(y_test,p(y_test),\"r-\")\n",
    "plt.title(\"Strength: Actual vs Predicted by Linear Regression without normalisation\")\n",
    "plt.xlabel(\"Actual Strength\")\n",
    "plt.ylabel(\"Predicted Strength\")"
   ]
  },
  {
   "cell_type": "markdown",
   "id": "5fb563ef",
   "metadata": {
    "execution": {
     "iopub.status.busy": "2022-11-08T19:38:02.524664Z",
     "iopub.status.idle": "2022-11-08T19:38:02.525505Z",
     "shell.execute_reply": "2022-11-08T19:38:02.525315Z",
     "shell.execute_reply.started": "2022-11-08T19:38:02.525292Z"
    },
    "papermill": {
     "duration": 0.024826,
     "end_time": "2022-11-09T11:35:20.568434",
     "exception": false,
     "start_time": "2022-11-09T11:35:20.543608",
     "status": "completed"
    },
    "tags": []
   },
   "source": [
    "### Lasso Regresion"
   ]
  },
  {
   "cell_type": "code",
   "execution_count": 55,
   "id": "e97d3698",
   "metadata": {
    "execution": {
     "iopub.execute_input": "2022-11-09T11:35:20.620045Z",
     "iopub.status.busy": "2022-11-09T11:35:20.619471Z",
     "iopub.status.idle": "2022-11-09T11:35:38.617568Z",
     "shell.execute_reply": "2022-11-09T11:35:38.616857Z"
    },
    "papermill": {
     "duration": 18.026544,
     "end_time": "2022-11-09T11:35:38.619666",
     "exception": false,
     "start_time": "2022-11-09T11:35:20.593122",
     "status": "completed"
    },
    "tags": []
   },
   "outputs": [
    {
     "data": {
      "text/plain": [
       "GridSearchCV(cv=KFold(n_splits=5, random_state=11, shuffle=True),\n",
       "             estimator=Pipeline(steps=[('scaler', 'passthrough'),\n",
       "                                       ('polynomial_features',\n",
       "                                        PolynomialFeatures()),\n",
       "                                       ('lasso_regression',\n",
       "                                        Lasso(max_iter=100000))]),\n",
       "             n_jobs=-1,\n",
       "             param_grid={'lasso_regression__alpha': array([0.01      , 0.01274275, 0.01623777, 0.02069138, 0.02636651,\n",
       "       0.03359818, 0.04281332, 0.05455595, 0.06951928, 0.08858668,\n",
       "       0.11288379, 0.14384499, 0.18329807, 0.23357215, 0.29763514,\n",
       "       0.37926902, 0.48329302, 0.61584821, 0.78475997, 1.        ]),\n",
       "                         'polynomial_features__degree': [1, 2, 3],\n",
       "                         'scaler': [MinMaxScaler(), MaxAbsScaler(),\n",
       "                                    RobustScaler(), StandardScaler()]},\n",
       "             scoring='neg_median_absolute_error')"
      ]
     },
     "execution_count": 55,
     "metadata": {},
     "output_type": "execute_result"
    }
   ],
   "source": [
    "# Estimator \n",
    "estimator_lsr_nn = Pipeline([(\"scaler\", 'passthrough'),\n",
    "                            (\"polynomial_features\", PolynomialFeatures()),\n",
    "                            (\"lasso_regression\", Lasso(max_iter = 100000))])\n",
    "\n",
    "# Parameters for Grid Search\n",
    "params_lsr_nn = {'polynomial_features__degree': [1, 2, 3],\n",
    "                 'lasso_regression__alpha': np.geomspace(0.01, 1, 20),\n",
    "              # 'max_iter': [100000], I don't understand why it should be in the \"estimator\"\n",
    "                'scaler': [MinMaxScaler(), MaxAbsScaler(), RobustScaler(), StandardScaler()]}\n",
    "\n",
    "\n",
    "# Grid Search\n",
    "grid_lsr_nn = GridSearchCV(estimator_lsr_nn, params_lsr_nn, cv=kf, scoring='neg_median_absolute_error', n_jobs = -1)\n",
    "grid_lsr_nn.fit(X_train, y_train)"
   ]
  },
  {
   "cell_type": "code",
   "execution_count": 56,
   "id": "180872fe",
   "metadata": {
    "execution": {
     "iopub.execute_input": "2022-11-09T11:35:38.685197Z",
     "iopub.status.busy": "2022-11-09T11:35:38.684425Z",
     "iopub.status.idle": "2022-11-09T11:35:38.690464Z",
     "shell.execute_reply": "2022-11-09T11:35:38.689647Z"
    },
    "papermill": {
     "duration": 0.042723,
     "end_time": "2022-11-09T11:35:38.694194",
     "exception": false,
     "start_time": "2022-11-09T11:35:38.651471",
     "status": "completed"
    },
    "tags": []
   },
   "outputs": [
    {
     "data": {
      "text/plain": [
       "(-3.5039136115944145,\n",
       " {'lasso_regression__alpha': 0.0206913808111479,\n",
       "  'polynomial_features__degree': 3,\n",
       "  'scaler': StandardScaler()})"
      ]
     },
     "execution_count": 56,
     "metadata": {},
     "output_type": "execute_result"
    }
   ],
   "source": [
    "# Tuned model\n",
    "grid_lsr_nn.best_score_, grid_lsr_nn.best_params_"
   ]
  },
  {
   "cell_type": "code",
   "execution_count": 57,
   "id": "c01e40b8",
   "metadata": {
    "execution": {
     "iopub.execute_input": "2022-11-09T11:35:38.751474Z",
     "iopub.status.busy": "2022-11-09T11:35:38.751073Z",
     "iopub.status.idle": "2022-11-09T11:35:38.755395Z",
     "shell.execute_reply": "2022-11-09T11:35:38.754736Z"
    },
    "papermill": {
     "duration": 0.031875,
     "end_time": "2022-11-09T11:35:38.756910",
     "exception": false,
     "start_time": "2022-11-09T11:35:38.725035",
     "status": "completed"
    },
    "tags": []
   },
   "outputs": [],
   "source": [
    "# Save best parameters to use in model stability evaluation\n",
    "lsr_nn_best_pf = grid_lsr_nn.best_params_['polynomial_features__degree']\n",
    "lsr_nn_best_sc = grid_lsr_nn.best_params_['scaler']\n",
    "lsr_nn_best_alfa = grid_lsr_nn.best_params_['lasso_regression__alpha']"
   ]
  },
  {
   "cell_type": "code",
   "execution_count": 58,
   "id": "7837d9c4",
   "metadata": {
    "execution": {
     "iopub.execute_input": "2022-11-09T11:35:38.808905Z",
     "iopub.status.busy": "2022-11-09T11:35:38.808311Z",
     "iopub.status.idle": "2022-11-09T11:35:38.829126Z",
     "shell.execute_reply": "2022-11-09T11:35:38.828445Z"
    },
    "papermill": {
     "duration": 0.050221,
     "end_time": "2022-11-09T11:35:38.831133",
     "exception": false,
     "start_time": "2022-11-09T11:35:38.780912",
     "status": "completed"
    },
    "tags": []
   },
   "outputs": [
    {
     "data": {
      "text/html": [
       "<div>\n",
       "<style scoped>\n",
       "    .dataframe tbody tr th:only-of-type {\n",
       "        vertical-align: middle;\n",
       "    }\n",
       "\n",
       "    .dataframe tbody tr th {\n",
       "        vertical-align: top;\n",
       "    }\n",
       "\n",
       "    .dataframe thead th {\n",
       "        text-align: right;\n",
       "    }\n",
       "</style>\n",
       "<table border=\"1\" class=\"dataframe\">\n",
       "  <thead>\n",
       "    <tr style=\"text-align: right;\">\n",
       "      <th></th>\n",
       "      <th>model</th>\n",
       "      <th>mae_train</th>\n",
       "      <th>mae_test</th>\n",
       "      <th>r2_test</th>\n",
       "    </tr>\n",
       "  </thead>\n",
       "  <tbody>\n",
       "    <tr>\n",
       "      <th>0</th>\n",
       "      <td>linear_regression</td>\n",
       "      <td>2.936454</td>\n",
       "      <td>3.911838</td>\n",
       "      <td>0.883287</td>\n",
       "    </tr>\n",
       "    <tr>\n",
       "      <th>1</th>\n",
       "      <td>ridge_regression</td>\n",
       "      <td>2.843895</td>\n",
       "      <td>3.775305</td>\n",
       "      <td>0.899977</td>\n",
       "    </tr>\n",
       "    <tr>\n",
       "      <th>2</th>\n",
       "      <td>lasso_regression</td>\n",
       "      <td>2.846409</td>\n",
       "      <td>3.631780</td>\n",
       "      <td>0.903310</td>\n",
       "    </tr>\n",
       "    <tr>\n",
       "      <th>3</th>\n",
       "      <td>linear_regression_nn</td>\n",
       "      <td>3.837691</td>\n",
       "      <td>5.009742</td>\n",
       "      <td>0.799127</td>\n",
       "    </tr>\n",
       "    <tr>\n",
       "      <th>4</th>\n",
       "      <td>lasso_regression_nn</td>\n",
       "      <td>3.503914</td>\n",
       "      <td>4.396636</td>\n",
       "      <td>0.869155</td>\n",
       "    </tr>\n",
       "  </tbody>\n",
       "</table>\n",
       "</div>"
      ],
      "text/plain": [
       "                  model  mae_train  mae_test   r2_test\n",
       "0     linear_regression   2.936454  3.911838  0.883287\n",
       "1      ridge_regression   2.843895  3.775305  0.899977\n",
       "2      lasso_regression   2.846409  3.631780  0.903310\n",
       "3  linear_regression_nn   3.837691  5.009742  0.799127\n",
       "4   lasso_regression_nn   3.503914  4.396636  0.869155"
      ]
     },
     "execution_count": 58,
     "metadata": {},
     "output_type": "execute_result"
    }
   ],
   "source": [
    "# Predict target values for test set using Lasso Regression model\n",
    "y_predict_lsr_nn = grid_lsr_nn.predict(X_test)\n",
    "\n",
    "# calculate R2 score\n",
    "lsr_nn_r2 = r2_score(y_test, y_predict_lsr_nn)\n",
    "\n",
    "# calculate mean absolute error\n",
    "lsr_nn_mae = mean_absolute_error(y_test, y_predict_lsr_nn)\n",
    "\n",
    "scores = scores.append({'model' : 'lasso_regression_nn', \n",
    "                       'mae_train' : -grid_lsr_nn.best_score_,\n",
    "                       'mae_test' : lsr_nn_mae,\n",
    "                       'r2_test' : lsr_nn_r2},\n",
    "                       ignore_index = True)\n",
    "\n",
    "scores"
   ]
  },
  {
   "cell_type": "markdown",
   "id": "1d12949d",
   "metadata": {
    "execution": {
     "iopub.execute_input": "2022-11-08T19:43:35.489876Z",
     "iopub.status.busy": "2022-11-08T19:43:35.488721Z",
     "iopub.status.idle": "2022-11-08T19:43:35.503009Z",
     "shell.execute_reply": "2022-11-08T19:43:35.500940Z",
     "shell.execute_reply.started": "2022-11-08T19:43:35.489810Z"
    },
    "papermill": {
     "duration": 0.033992,
     "end_time": "2022-11-09T11:35:38.898024",
     "exception": false,
     "start_time": "2022-11-09T11:35:38.864032",
     "status": "completed"
    },
    "tags": []
   },
   "source": [
    "It is clear to see the best r2_test score for non-normilised data (Lasso Regression 0.87) is worse than the worst result for normalised data (Linear regresion 0.88).</br>\n",
    "This means we should use normalised data even if they have bigger VIF. "
   ]
  },
  {
   "cell_type": "code",
   "execution_count": 59,
   "id": "f43999b5",
   "metadata": {
    "execution": {
     "iopub.execute_input": "2022-11-09T11:35:38.958158Z",
     "iopub.status.busy": "2022-11-09T11:35:38.957839Z",
     "iopub.status.idle": "2022-11-09T11:35:39.152928Z",
     "shell.execute_reply": "2022-11-09T11:35:39.151351Z"
    },
    "papermill": {
     "duration": 0.224348,
     "end_time": "2022-11-09T11:35:39.155423",
     "exception": false,
     "start_time": "2022-11-09T11:35:38.931075",
     "status": "completed"
    },
    "tags": []
   },
   "outputs": [
    {
     "data": {
      "text/plain": [
       "Text(0, 0.5, 'Predicted Strength')"
      ]
     },
     "execution_count": 59,
     "metadata": {},
     "output_type": "execute_result"
    },
    {
     "data": {
      "image/png": "[encoded data removed]",
      "text/plain": [
       "<Figure size 432x432 with 1 Axes>"
      ]
     },
     "metadata": {
      "needs_background": "light"
     },
     "output_type": "display_data"
    }
   ],
   "source": [
    "# Visualize predicted vs actual target values\n",
    "plt.figure(figsize=(6, 6))\n",
    "plt.scatter(x = y_test, \n",
    "            y = y_predict_lsr_nn)\n",
    "z = np.polyfit(y_test, y_predict_lsr_nn, 1)\n",
    "p = np.poly1d(z)\n",
    "plt.plot(y_test,p(y_test),\"r-\")\n",
    "plt.title(\"Strength: Actual vs Predicted by Lasso Regression without normalisation\")\n",
    "plt.xlabel(\"Actual Strength\")\n",
    "plt.ylabel(\"Predicted Strength\")"
   ]
  },
  {
   "cell_type": "markdown",
   "id": "86a9f1b6",
   "metadata": {
    "papermill": {
     "duration": 0.024169,
     "end_time": "2022-11-09T11:35:39.204104",
     "exception": false,
     "start_time": "2022-11-09T11:35:39.179935",
     "status": "completed"
    },
    "tags": []
   },
   "source": [
    "<p style=\"text-align: center; font-weight: 700;\"> \n",
    "Thank you for reading!<br />\n",
    "Since I am only at the beginning of my Data Science studying,<br /> \n",
    "any kind of feedback (positive or negative) is greatly appreciated.\n",
    "\n",
    "</p>"
   ]
  }
 ],
 "metadata": {
  "kernelspec": {
   "display_name": "Python 3",
   "language": "python",
   "name": "python3"
  },
  "language_info": {
   "codemirror_mode": {
    "name": "ipython",
    "version": 3
   },
   "file_extension": ".py",
   "mimetype": "text/x-python",
   "name": "python",
   "nbconvert_exporter": "python",
   "pygments_lexer": "ipython3",
   "version": "3.7.12"
  },
  "papermill": {
   "default_parameters": {},
   "duration": 62.119689,
   "end_time": "2022-11-09T11:35:41.849894",
   "environment_variables": {},
   "exception": null,
   "input_path": "__notebook__.ipynb",
   "output_path": "__notebook__.ipynb",
   "parameters": {},
   "start_time": "2022-11-09T11:34:39.730205",
   "version": "2.3.4"
  }
 },
 "nbformat": 4,
 "nbformat_minor": 5
}
