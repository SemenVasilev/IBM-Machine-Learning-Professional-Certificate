{
 "cells": [
  {
   "cell_type": "markdown",
   "id": "c09e6ce9",
   "metadata": {
    "papermill": {
     "duration": 0.009558,
     "end_time": "2023-01-11T15:03:25.105153",
     "exception": false,
     "start_time": "2023-01-11T15:03:25.095595",
     "status": "completed"
    },
    "tags": []
   },
   "source": [
    "# Introduction\n",
    "\n",
    "### Main goal¶\n",
    "The main goal of this project is to explore CNN architecture, compare it with Fully Connected NN and estimate their accuracy and efficiency for the standard MNIST dataset. The secondary goal is to take part in the competition.\n",
    "It is part of my studying of Machine learning through the [IBM Machine Learning Professional Certificate](https://www.coursera.org/professional-certificates/ibm-machine-learning).\n",
    "\n",
    "## Data\n",
    "From [Digit Recognizer Dataset](https://www.kaggle.com/c/digit-recognizer/data) Description:\n",
    ">The data files train.csv and test.csv contain gray-scale images of hand-drawn digits, from zero through nine.\n",
    ">Each image is 28 pixels in height and 28 pixels in width, for a total of 784 pixels in total. Each pixel has a single pixel-value associated with it, indicating the lightness or darkness of that pixel, with higher numbers meaning darker. This pixel-value is an integer between 0 and 255, inclusive.\n",
    ">The training data set, (train.csv), has 785 columns. The first column, called \"label\", is the digit that was drawn by the user. The rest of the columns contain the pixel-values of the associated image.\n",
    ">Each pixel column in the training set has a name like pixelx, where x is an integer between 0 and 783, inclusive. To locate this pixel on the image, suppose that we have decomposed x as x = i * 28 + j, where i and j are integers between 0 and 27, inclusive. Then pixelx is located on row i and column j of a 28 x 28 matrix, (indexing by zero).\n",
    "\n",
    "### Plan\n",
    "1. Load and explore data and needed libs\n",
    "2. Data preparation\n",
    "    * Scale\n",
    "    * Reshape\n",
    "    * Encode labels\n",
    "    * Split into training and validation set\n",
    "    * Add Data Augmentation to avoid overfitting\n",
    "3. Work\n",
    "    * Fully Connected NN\n",
    "    * Convolutional NN (experiment with 2 different architectures)\n",
    "4. Conclusions\n",
    "    * Key Findings\n",
    "    * Suggestions for next steps\n",
    "    \n",
    "### References\n",
    "1. [Introduction to CNN Keras - 0.997 (top 6%)](https://www.kaggle.com/yassineghouzam/introduction-to-cnn-keras-0-997-top-6) by YASSINE GHOUZAM\n",
    "2. [MNIST with Keras for Beginners(.99457)](https://www.kaggle.com/adityaecdrid/mnist-with-keras-for-beginners-99457) by ADITYA SONI\n",
    "3. [Digit recognizer with Keras](https://www.kaggle.com/code/dariasvasileva/digit-recognizer-with-keras) by DARIA VASILEVA\n",
    "4. [Convolutional Neural Network (CNN) Tutorial](https://www.kaggle.com/kanncaa1/convolutional-neural-network-cnn-tutorial) by DATAI"
   ]
  },
  {
   "cell_type": "code",
   "execution_count": 1,
   "id": "1c545573",
   "metadata": {
    "_cell_guid": "b1076dfc-b9ad-4769-8c92-a6c4dae69d19",
    "_uuid": "8f2839f25d086af736a60e9eeb907d3b93b6e0e5",
    "execution": {
     "iopub.execute_input": "2023-01-11T15:03:25.123549Z",
     "iopub.status.busy": "2023-01-11T15:03:25.122990Z",
     "iopub.status.idle": "2023-01-11T15:03:30.878363Z",
     "shell.execute_reply": "2023-01-11T15:03:30.877309Z"
    },
    "papermill": {
     "duration": 5.767618,
     "end_time": "2023-01-11T15:03:30.881070",
     "exception": false,
     "start_time": "2023-01-11T15:03:25.113452",
     "status": "completed"
    },
    "tags": []
   },
   "outputs": [],
   "source": [
    "# core libs\n",
    "import numpy as np # linear algebra\n",
    "import pandas as pd # data processing\n",
    "import matplotlib.pyplot as plt\n",
    "# import matplotlib.image as mpimg\n",
    "import seaborn as sns\n",
    "# %matplotlib inline\n",
    "\n",
    "# sklearn\n",
    "from sklearn.model_selection import train_test_split\n",
    "from sklearn.metrics import confusion_matrix\n",
    "\n",
    "# keras\n",
    "from keras.utils.np_utils import to_categorical\n",
    "from keras.utils.layer_utils import count_params\n",
    "from keras.preprocessing.image import ImageDataGenerator\n",
    "from keras.callbacks import ReduceLROnPlateau, Callback\n",
    "\n",
    "#tensorflow.keras\n",
    "from tensorflow.keras.models import Sequential\n",
    "from tensorflow.keras.layers import Dense, Dropout, Activation, Flatten\n",
    "from tensorflow.keras.layers import Conv2D, MaxPooling2D\n",
    "from tensorflow.keras.optimizers import Adam"
   ]
  },
  {
   "cell_type": "code",
   "execution_count": 2,
   "id": "f6e948eb",
   "metadata": {
    "execution": {
     "iopub.execute_input": "2023-01-11T15:03:30.900336Z",
     "iopub.status.busy": "2023-01-11T15:03:30.899787Z",
     "iopub.status.idle": "2023-01-11T15:03:30.906135Z",
     "shell.execute_reply": "2023-01-11T15:03:30.905016Z"
    },
    "papermill": {
     "duration": 0.018353,
     "end_time": "2023-01-11T15:03:30.908176",
     "exception": false,
     "start_time": "2023-01-11T15:03:30.889823",
     "status": "completed"
    },
    "tags": []
   },
   "outputs": [],
   "source": [
    "# to compare the computation time between models\n",
    "import time\n",
    "\n",
    "class TimeHistory(Callback):\n",
    "    def on_train_begin(self, logs={}):\n",
    "        self.times = []\n",
    "\n",
    "    def on_epoch_begin(self, epoch, logs={}):\n",
    "        self.epoch_time_start = time.time()\n",
    "\n",
    "    def on_epoch_end(self, epoch, logs={}):\n",
    "        self.times.append(time.time() - self.epoch_time_start)\n",
    "        \n",
    "# reference https://www.kaggle.com/code/dariasvasileva/digit-recognizer-with-keras"
   ]
  },
  {
   "cell_type": "code",
   "execution_count": 3,
   "id": "4469026d",
   "metadata": {
    "execution": {
     "iopub.execute_input": "2023-01-11T15:03:30.928185Z",
     "iopub.status.busy": "2023-01-11T15:03:30.926732Z",
     "iopub.status.idle": "2023-01-11T15:03:36.306851Z",
     "shell.execute_reply": "2023-01-11T15:03:36.305860Z"
    },
    "papermill": {
     "duration": 5.391583,
     "end_time": "2023-01-11T15:03:36.309364",
     "exception": false,
     "start_time": "2023-01-11T15:03:30.917781",
     "status": "completed"
    },
    "tags": []
   },
   "outputs": [],
   "source": [
    "# loading data sets\n",
    "df_train = pd.read_csv(\"../input/digit-recognizer/train.csv\")\n",
    "df_test = pd.read_csv(\"../input/digit-recognizer/test.csv\")"
   ]
  },
  {
   "cell_type": "code",
   "execution_count": 4,
   "id": "ad2cd509",
   "metadata": {
    "execution": {
     "iopub.execute_input": "2023-01-11T15:03:36.328531Z",
     "iopub.status.busy": "2023-01-11T15:03:36.328146Z",
     "iopub.status.idle": "2023-01-11T15:03:36.420710Z",
     "shell.execute_reply": "2023-01-11T15:03:36.419602Z"
    },
    "papermill": {
     "duration": 0.107898,
     "end_time": "2023-01-11T15:03:36.426106",
     "exception": false,
     "start_time": "2023-01-11T15:03:36.318208",
     "status": "completed"
    },
    "tags": []
   },
   "outputs": [
    {
     "name": "stdout",
     "output_type": "stream",
     "text": [
      "Train data size:  (42000, 785)\n",
      "Test data size:  (28000, 784)\n",
      "------------------------------------------------------------\n",
      "NAs in train set:  0\n",
      "NAs in test set:  0\n",
      "------------------------------------------------------------\n"
     ]
    },
    {
     "data": {
      "text/html": [
       "<div>\n",
       "<style scoped>\n",
       "    .dataframe tbody tr th:only-of-type {\n",
       "        vertical-align: middle;\n",
       "    }\n",
       "\n",
       "    .dataframe tbody tr th {\n",
       "        vertical-align: top;\n",
       "    }\n",
       "\n",
       "    .dataframe thead th {\n",
       "        text-align: right;\n",
       "    }\n",
       "</style>\n",
       "<table border=\"1\" class=\"dataframe\">\n",
       "  <thead>\n",
       "    <tr style=\"text-align: right;\">\n",
       "      <th></th>\n",
       "      <th>label</th>\n",
       "      <th>pixel0</th>\n",
       "      <th>pixel1</th>\n",
       "      <th>pixel2</th>\n",
       "      <th>pixel3</th>\n",
       "      <th>pixel4</th>\n",
       "      <th>pixel5</th>\n",
       "      <th>pixel6</th>\n",
       "      <th>pixel7</th>\n",
       "      <th>pixel8</th>\n",
       "      <th>...</th>\n",
       "      <th>pixel774</th>\n",
       "      <th>pixel775</th>\n",
       "      <th>pixel776</th>\n",
       "      <th>pixel777</th>\n",
       "      <th>pixel778</th>\n",
       "      <th>pixel779</th>\n",
       "      <th>pixel780</th>\n",
       "      <th>pixel781</th>\n",
       "      <th>pixel782</th>\n",
       "      <th>pixel783</th>\n",
       "    </tr>\n",
       "  </thead>\n",
       "  <tbody>\n",
       "    <tr>\n",
       "      <th>0</th>\n",
       "      <td>1</td>\n",
       "      <td>0</td>\n",
       "      <td>0</td>\n",
       "      <td>0</td>\n",
       "      <td>0</td>\n",
       "      <td>0</td>\n",
       "      <td>0</td>\n",
       "      <td>0</td>\n",
       "      <td>0</td>\n",
       "      <td>0</td>\n",
       "      <td>...</td>\n",
       "      <td>0</td>\n",
       "      <td>0</td>\n",
       "      <td>0</td>\n",
       "      <td>0</td>\n",
       "      <td>0</td>\n",
       "      <td>0</td>\n",
       "      <td>0</td>\n",
       "      <td>0</td>\n",
       "      <td>0</td>\n",
       "      <td>0</td>\n",
       "    </tr>\n",
       "    <tr>\n",
       "      <th>1</th>\n",
       "      <td>0</td>\n",
       "      <td>0</td>\n",
       "      <td>0</td>\n",
       "      <td>0</td>\n",
       "      <td>0</td>\n",
       "      <td>0</td>\n",
       "      <td>0</td>\n",
       "      <td>0</td>\n",
       "      <td>0</td>\n",
       "      <td>0</td>\n",
       "      <td>...</td>\n",
       "      <td>0</td>\n",
       "      <td>0</td>\n",
       "      <td>0</td>\n",
       "      <td>0</td>\n",
       "      <td>0</td>\n",
       "      <td>0</td>\n",
       "      <td>0</td>\n",
       "      <td>0</td>\n",
       "      <td>0</td>\n",
       "      <td>0</td>\n",
       "    </tr>\n",
       "    <tr>\n",
       "      <th>2</th>\n",
       "      <td>1</td>\n",
       "      <td>0</td>\n",
       "      <td>0</td>\n",
       "      <td>0</td>\n",
       "      <td>0</td>\n",
       "      <td>0</td>\n",
       "      <td>0</td>\n",
       "      <td>0</td>\n",
       "      <td>0</td>\n",
       "      <td>0</td>\n",
       "      <td>...</td>\n",
       "      <td>0</td>\n",
       "      <td>0</td>\n",
       "      <td>0</td>\n",
       "      <td>0</td>\n",
       "      <td>0</td>\n",
       "      <td>0</td>\n",
       "      <td>0</td>\n",
       "      <td>0</td>\n",
       "      <td>0</td>\n",
       "      <td>0</td>\n",
       "    </tr>\n",
       "    <tr>\n",
       "      <th>3</th>\n",
       "      <td>4</td>\n",
       "      <td>0</td>\n",
       "      <td>0</td>\n",
       "      <td>0</td>\n",
       "      <td>0</td>\n",
       "      <td>0</td>\n",
       "      <td>0</td>\n",
       "      <td>0</td>\n",
       "      <td>0</td>\n",
       "      <td>0</td>\n",
       "      <td>...</td>\n",
       "      <td>0</td>\n",
       "      <td>0</td>\n",
       "      <td>0</td>\n",
       "      <td>0</td>\n",
       "      <td>0</td>\n",
       "      <td>0</td>\n",
       "      <td>0</td>\n",
       "      <td>0</td>\n",
       "      <td>0</td>\n",
       "      <td>0</td>\n",
       "    </tr>\n",
       "    <tr>\n",
       "      <th>4</th>\n",
       "      <td>0</td>\n",
       "      <td>0</td>\n",
       "      <td>0</td>\n",
       "      <td>0</td>\n",
       "      <td>0</td>\n",
       "      <td>0</td>\n",
       "      <td>0</td>\n",
       "      <td>0</td>\n",
       "      <td>0</td>\n",
       "      <td>0</td>\n",
       "      <td>...</td>\n",
       "      <td>0</td>\n",
       "      <td>0</td>\n",
       "      <td>0</td>\n",
       "      <td>0</td>\n",
       "      <td>0</td>\n",
       "      <td>0</td>\n",
       "      <td>0</td>\n",
       "      <td>0</td>\n",
       "      <td>0</td>\n",
       "      <td>0</td>\n",
       "    </tr>\n",
       "  </tbody>\n",
       "</table>\n",
       "<p>5 rows × 785 columns</p>\n",
       "</div>"
      ],
      "text/plain": [
       "   label  pixel0  pixel1  pixel2  pixel3  pixel4  pixel5  pixel6  pixel7  \\\n",
       "0      1       0       0       0       0       0       0       0       0   \n",
       "1      0       0       0       0       0       0       0       0       0   \n",
       "2      1       0       0       0       0       0       0       0       0   \n",
       "3      4       0       0       0       0       0       0       0       0   \n",
       "4      0       0       0       0       0       0       0       0       0   \n",
       "\n",
       "   pixel8  ...  pixel774  pixel775  pixel776  pixel777  pixel778  pixel779  \\\n",
       "0       0  ...         0         0         0         0         0         0   \n",
       "1       0  ...         0         0         0         0         0         0   \n",
       "2       0  ...         0         0         0         0         0         0   \n",
       "3       0  ...         0         0         0         0         0         0   \n",
       "4       0  ...         0         0         0         0         0         0   \n",
       "\n",
       "   pixel780  pixel781  pixel782  pixel783  \n",
       "0         0         0         0         0  \n",
       "1         0         0         0         0  \n",
       "2         0         0         0         0  \n",
       "3         0         0         0         0  \n",
       "4         0         0         0         0  \n",
       "\n",
       "[5 rows x 785 columns]"
      ]
     },
     "execution_count": 4,
     "metadata": {},
     "output_type": "execute_result"
    }
   ],
   "source": [
    "# data shape\n",
    "print(\"Train data size: \", df_train.shape)\n",
    "print(\"Test data size: \", df_test.shape)\n",
    "print('-'*60)\n",
    "\n",
    "# check for NAs\n",
    "print('NAs in train set: ', df_train.isnull().sum().sum())\n",
    "print('NAs in test set: ', df_test.isnull().sum().sum())\n",
    "print('-'*60)\n",
    "\n",
    "df_train.head()"
   ]
  },
  {
   "cell_type": "code",
   "execution_count": 5,
   "id": "8c6e10ef",
   "metadata": {
    "execution": {
     "iopub.execute_input": "2023-01-11T15:03:36.452146Z",
     "iopub.status.busy": "2023-01-11T15:03:36.451755Z",
     "iopub.status.idle": "2023-01-11T15:03:36.698828Z",
     "shell.execute_reply": "2023-01-11T15:03:36.697446Z"
    },
    "papermill": {
     "duration": 0.265107,
     "end_time": "2023-01-11T15:03:36.701124",
     "exception": false,
     "start_time": "2023-01-11T15:03:36.436017",
     "status": "completed"
    },
    "tags": []
   },
   "outputs": [
    {
     "name": "stdout",
     "output_type": "stream",
     "text": [
      "X_train shape:  (42000, 784)\n",
      "X_test shape:  (28000, 784)\n",
      "y_train shape:  (42000,)\n"
     ]
    }
   ],
   "source": [
    "# define target and features\n",
    "y_train = df_train['label'].copy()\n",
    "\n",
    "X_train = df_train.drop(columns = 'label').copy()\n",
    "X_test = df_test.copy() # no labels here\n",
    "\n",
    "print('X_train shape: ', X_train.shape)\n",
    "print('X_test shape: ', X_test.shape)\n",
    "print('y_train shape: ', y_train.shape)"
   ]
  },
  {
   "cell_type": "code",
   "execution_count": 6,
   "id": "38ddf730",
   "metadata": {
    "execution": {
     "iopub.execute_input": "2023-01-11T15:03:36.720880Z",
     "iopub.status.busy": "2023-01-11T15:03:36.720569Z",
     "iopub.status.idle": "2023-01-11T15:03:36.730759Z",
     "shell.execute_reply": "2023-01-11T15:03:36.729719Z"
    },
    "papermill": {
     "duration": 0.022418,
     "end_time": "2023-01-11T15:03:36.732991",
     "exception": false,
     "start_time": "2023-01-11T15:03:36.710573",
     "status": "completed"
    },
    "tags": []
   },
   "outputs": [
    {
     "data": {
      "text/plain": [
       "1    0.111524\n",
       "7    0.104786\n",
       "3    0.103595\n",
       "9    0.099714\n",
       "2    0.099452\n",
       "6    0.098500\n",
       "0    0.098381\n",
       "4    0.096952\n",
       "8    0.096738\n",
       "5    0.090357\n",
       "Name: label, dtype: float64"
      ]
     },
     "execution_count": 6,
     "metadata": {},
     "output_type": "execute_result"
    }
   ],
   "source": [
    "# look at the distribution of labels in the train dataset\n",
    "y_train.value_counts(normalize=True)"
   ]
  },
  {
   "cell_type": "code",
   "execution_count": 7,
   "id": "0e09d92d",
   "metadata": {
    "execution": {
     "iopub.execute_input": "2023-01-11T15:03:36.753774Z",
     "iopub.status.busy": "2023-01-11T15:03:36.753455Z",
     "iopub.status.idle": "2023-01-11T15:03:37.020349Z",
     "shell.execute_reply": "2023-01-11T15:03:37.019470Z"
    },
    "papermill": {
     "duration": 0.280016,
     "end_time": "2023-01-11T15:03:37.022961",
     "exception": false,
     "start_time": "2023-01-11T15:03:36.742945",
     "status": "completed"
    },
    "tags": []
   },
   "outputs": [
    {
     "data": {
      "image/png": "[encoded data removed]",
      "text/plain": [
       "<Figure size 432x288 with 1 Axes>"
      ]
     },
     "metadata": {
      "needs_background": "light"
     },
     "output_type": "display_data"
    }
   ],
   "source": [
    "sns.barplot(x=y_train.value_counts().index, y=y_train.value_counts())\n",
    "plt.title('Distribution of classes in the Train df')\n",
    "plt.show()"
   ]
  },
  {
   "cell_type": "markdown",
   "id": "6c93875c",
   "metadata": {
    "papermill": {
     "duration": 0.008983,
     "end_time": "2023-01-11T15:03:37.041010",
     "exception": false,
     "start_time": "2023-01-11T15:03:37.032027",
     "status": "completed"
    },
    "tags": []
   },
   "source": [
    "All 10 classes are represented in the train dataset approx. equally: about 10% or 4000 enteries of each."
   ]
  },
  {
   "cell_type": "code",
   "execution_count": 8,
   "id": "c64eb24e",
   "metadata": {
    "execution": {
     "iopub.execute_input": "2023-01-11T15:03:37.060952Z",
     "iopub.status.busy": "2023-01-11T15:03:37.060010Z",
     "iopub.status.idle": "2023-01-11T15:03:37.313679Z",
     "shell.execute_reply": "2023-01-11T15:03:37.311261Z"
    },
    "papermill": {
     "duration": 0.266474,
     "end_time": "2023-01-11T15:03:37.316494",
     "exception": false,
     "start_time": "2023-01-11T15:03:37.050020",
     "status": "completed"
    },
    "tags": []
   },
   "outputs": [
    {
     "name": "stdout",
     "output_type": "stream",
     "text": [
      "X_train maximum value:  1.0\n",
      "X_train minimum value:  0.0\n",
      "------------------------------------------------------------\n",
      "X_test maximum value:  1.0\n",
      "X_test minimum value:  0.0\n",
      "------------------------------------------------------------\n",
      "------------------------------------------------------------\n",
      "X_train shape:  (42000, 28, 28, 1)\n",
      "X_test shape:  (28000, 28, 28, 1)\n"
     ]
    }
   ],
   "source": [
    "# scale values\n",
    "X_train = X_train / 255.0\n",
    "X_test = X_test / 255.0\n",
    "\n",
    "# check scaling\n",
    "print('X_train maximum value: ', X_train.values.max())\n",
    "print('X_train minimum value: ', X_train.values.min())\n",
    "print('-' * 60)\n",
    "print('X_test maximum value: ', X_test.values.max())\n",
    "print('X_test minimum value: ', X_test.values.min())\n",
    "print('-' * 60)\n",
    "print('-' * 60)\n",
    "\n",
    "# reshape\n",
    "X_train = X_train.values.reshape((X_train.shape[0],) + (28, 28, 1))\n",
    "X_test = X_test.values.reshape((X_test.shape[0],) + (28, 28, 1))\n",
    "\n",
    "# check new shapes\n",
    "print('X_train shape: ', X_train.shape)\n",
    "print('X_test shape: ', X_test.shape)"
   ]
  },
  {
   "cell_type": "code",
   "execution_count": 9,
   "id": "07603898",
   "metadata": {
    "execution": {
     "iopub.execute_input": "2023-01-11T15:03:37.337184Z",
     "iopub.status.busy": "2023-01-11T15:03:37.336837Z",
     "iopub.status.idle": "2023-01-11T15:03:37.347909Z",
     "shell.execute_reply": "2023-01-11T15:03:37.346892Z"
    },
    "papermill": {
     "duration": 0.023733,
     "end_time": "2023-01-11T15:03:37.350033",
     "exception": false,
     "start_time": "2023-01-11T15:03:37.326300",
     "status": "completed"
    },
    "tags": []
   },
   "outputs": [
    {
     "name": "stdout",
     "output_type": "stream",
     "text": [
      "y_train shape:  (42000, 10)\n"
     ]
    },
    {
     "data": {
      "text/plain": [
       "array([[0., 1., 0., 0., 0., 0., 0., 0., 0., 0.],\n",
       "       [1., 0., 0., 0., 0., 0., 0., 0., 0., 0.],\n",
       "       [0., 1., 0., 0., 0., 0., 0., 0., 0., 0.],\n",
       "       [0., 0., 0., 0., 1., 0., 0., 0., 0., 0.],\n",
       "       [1., 0., 0., 0., 0., 0., 0., 0., 0., 0.]], dtype=float32)"
      ]
     },
     "execution_count": 9,
     "metadata": {},
     "output_type": "execute_result"
    }
   ],
   "source": [
    "# one-hot encoding\n",
    "y_train = to_categorical(y_train, num_classes = 10)\n",
    "print('y_train shape: ', y_train.shape)\n",
    "y_train[0:5]"
   ]
  },
  {
   "cell_type": "code",
   "execution_count": 10,
   "id": "32903b7c",
   "metadata": {
    "execution": {
     "iopub.execute_input": "2023-01-11T15:03:37.370477Z",
     "iopub.status.busy": "2023-01-11T15:03:37.370173Z",
     "iopub.status.idle": "2023-01-11T15:03:39.657685Z",
     "shell.execute_reply": "2023-01-11T15:03:39.656712Z"
    },
    "papermill": {
     "duration": 2.30024,
     "end_time": "2023-01-11T15:03:39.660020",
     "exception": false,
     "start_time": "2023-01-11T15:03:37.359780",
     "status": "completed"
    },
    "tags": []
   },
   "outputs": [
    {
     "data": {
      "image/png": "[encoded data removed]",
      "text/plain": [
       "<Figure size 720x720 with 25 Axes>"
      ]
     },
     "metadata": {
      "needs_background": "light"
     },
     "output_type": "display_data"
    }
   ],
   "source": [
    "# visualize images with labels\n",
    "fig, axList = plt.subplots(5, 5, sharex=False, sharey=False)\n",
    "axList = axList.flatten()\n",
    "fig.set_size_inches(10, 10)\n",
    "\n",
    "for i,ax in enumerate(axList):\n",
    "    ax.imshow(X_train[i], cmap=plt.get_cmap('gray'))\n",
    "    ax.set_title(np.argmax(y_train[i]))\n",
    "            \n",
    "fig.tight_layout()\n",
    "fig.show()"
   ]
  },
  {
   "cell_type": "code",
   "execution_count": 11,
   "id": "4b42a4e1",
   "metadata": {
    "execution": {
     "iopub.execute_input": "2023-01-11T15:03:39.682840Z",
     "iopub.status.busy": "2023-01-11T15:03:39.681576Z",
     "iopub.status.idle": "2023-01-11T15:03:40.117402Z",
     "shell.execute_reply": "2023-01-11T15:03:40.116453Z"
    },
    "papermill": {
     "duration": 0.449901,
     "end_time": "2023-01-11T15:03:40.120165",
     "exception": false,
     "start_time": "2023-01-11T15:03:39.670264",
     "status": "completed"
    },
    "tags": []
   },
   "outputs": [
    {
     "name": "stdout",
     "output_type": "stream",
     "text": [
      "X_train shape:  (37800, 28, 28, 1)\n",
      "X_val shape:  (4200, 28, 28, 1)\n",
      "y_train shape:  (37800, 10)\n",
      "y_val shape:  (4200, 10)\n"
     ]
    }
   ],
   "source": [
    "# split train data into the train and the validation set for the fitting\n",
    "X_train, X_validation, y_train, y_validation = train_test_split(X_train, y_train, test_size = 0.1, random_state = 43)\n",
    "\n",
    "print('X_train shape: ', X_train.shape)\n",
    "print('X_val shape: ', X_validation.shape)\n",
    "print('y_train shape: ', y_train.shape)\n",
    "print('y_val shape: ', y_validation.shape)"
   ]
  },
  {
   "cell_type": "code",
   "execution_count": 12,
   "id": "5bd687df",
   "metadata": {
    "execution": {
     "iopub.execute_input": "2023-01-11T15:03:40.152835Z",
     "iopub.status.busy": "2023-01-11T15:03:40.152280Z",
     "iopub.status.idle": "2023-01-11T15:03:40.261946Z",
     "shell.execute_reply": "2023-01-11T15:03:40.260730Z"
    },
    "papermill": {
     "duration": 0.12944,
     "end_time": "2023-01-11T15:03:40.265133",
     "exception": false,
     "start_time": "2023-01-11T15:03:40.135693",
     "status": "completed"
    },
    "tags": []
   },
   "outputs": [],
   "source": [
    "# data augmentation\n",
    "datagen = ImageDataGenerator(\n",
    "        featurewise_center=False,  # set input mean to 0 over the dataset\n",
    "        samplewise_center=False,  # set each sample mean to 0\n",
    "        featurewise_std_normalization=False,  # divide inputs by std of the dataset\n",
    "        samplewise_std_normalization=False,  # divide each input by its std\n",
    "        zca_whitening=False,  # dimesion reduction\n",
    "        rotation_range=5,  # randomly rotate images in the range 5 degrees\n",
    "        zoom_range = 0.1, # Randomly zoom image 10%\n",
    "        width_shift_range=0.1,  # randomly shift images horizontally 10%\n",
    "        height_shift_range=0.1,  # randomly shift images vertically 10%\n",
    "        horizontal_flip=False,  # randomly flip images horizontally\n",
    "        vertical_flip=False)  # randomly flip images vertically\n",
    "\n",
    "datagen.fit(X_train)\n",
    "\n",
    "# source: https://www.kaggle.com/kanncaa1/convolutional-neural-network-cnn-tutorial"
   ]
  },
  {
   "cell_type": "markdown",
   "id": "6f6f6c28",
   "metadata": {
    "papermill": {
     "duration": 0.014784,
     "end_time": "2023-01-11T15:03:40.295309",
     "exception": false,
     "start_time": "2023-01-11T15:03:40.280525",
     "status": "completed"
    },
    "tags": []
   },
   "source": [
    "# Work\n",
    "## Fully Connected Neural Network\n",
    "\n",
    "Ordinary Fully Connected NN\n",
    "    \n",
    "Architecture:\n",
    "* Flatten\n",
    "* Dense 1 (512 units, 'relu')\n",
    "* Dropout (0.4)\n",
    "* Dense 2 (256 units, 'relu')\n",
    "* Dropout (0.5)\n",
    "* Dense - output (10 units, 'softmax')"
   ]
  },
  {
   "cell_type": "code",
   "execution_count": 13,
   "id": "540f62a3",
   "metadata": {
    "execution": {
     "iopub.execute_input": "2023-01-11T15:03:40.326846Z",
     "iopub.status.busy": "2023-01-11T15:03:40.326310Z",
     "iopub.status.idle": "2023-01-11T15:03:42.781403Z",
     "shell.execute_reply": "2023-01-11T15:03:42.780360Z"
    },
    "papermill": {
     "duration": 2.473778,
     "end_time": "2023-01-11T15:03:42.784380",
     "exception": false,
     "start_time": "2023-01-11T15:03:40.310602",
     "status": "completed"
    },
    "tags": []
   },
   "outputs": [
    {
     "name": "stderr",
     "output_type": "stream",
     "text": [
      "2023-01-11 15:03:40.430782: I tensorflow/stream_executor/cuda/cuda_gpu_executor.cc:937] successful NUMA node read from SysFS had negative value (-1), but there must be at least one NUMA node, so returning NUMA node zero\n",
      "2023-01-11 15:03:40.519861: I tensorflow/stream_executor/cuda/cuda_gpu_executor.cc:937] successful NUMA node read from SysFS had negative value (-1), but there must be at least one NUMA node, so returning NUMA node zero\n",
      "2023-01-11 15:03:40.521694: I tensorflow/stream_executor/cuda/cuda_gpu_executor.cc:937] successful NUMA node read from SysFS had negative value (-1), but there must be at least one NUMA node, so returning NUMA node zero\n",
      "2023-01-11 15:03:40.523794: I tensorflow/core/platform/cpu_feature_guard.cc:142] This TensorFlow binary is optimized with oneAPI Deep Neural Network Library (oneDNN) to use the following CPU instructions in performance-critical operations:  AVX2 AVX512F FMA\n",
      "To enable them in other operations, rebuild TensorFlow with the appropriate compiler flags.\n",
      "2023-01-11 15:03:40.524077: I tensorflow/stream_executor/cuda/cuda_gpu_executor.cc:937] successful NUMA node read from SysFS had negative value (-1), but there must be at least one NUMA node, so returning NUMA node zero\n",
      "2023-01-11 15:03:40.524800: I tensorflow/stream_executor/cuda/cuda_gpu_executor.cc:937] successful NUMA node read from SysFS had negative value (-1), but there must be at least one NUMA node, so returning NUMA node zero\n",
      "2023-01-11 15:03:40.525436: I tensorflow/stream_executor/cuda/cuda_gpu_executor.cc:937] successful NUMA node read from SysFS had negative value (-1), but there must be at least one NUMA node, so returning NUMA node zero\n",
      "2023-01-11 15:03:42.343257: I tensorflow/stream_executor/cuda/cuda_gpu_executor.cc:937] successful NUMA node read from SysFS had negative value (-1), but there must be at least one NUMA node, so returning NUMA node zero\n",
      "2023-01-11 15:03:42.344122: I tensorflow/stream_executor/cuda/cuda_gpu_executor.cc:937] successful NUMA node read from SysFS had negative value (-1), but there must be at least one NUMA node, so returning NUMA node zero\n",
      "2023-01-11 15:03:42.344810: I tensorflow/stream_executor/cuda/cuda_gpu_executor.cc:937] successful NUMA node read from SysFS had negative value (-1), but there must be at least one NUMA node, so returning NUMA node zero\n",
      "2023-01-11 15:03:42.345408: I tensorflow/core/common_runtime/gpu/gpu_device.cc:1510] Created device /job:localhost/replica:0/task:0/device:GPU:0 with 15401 MB memory:  -> device: 0, name: Tesla P100-PCIE-16GB, pci bus id: 0000:00:04.0, compute capability: 6.0\n"
     ]
    }
   ],
   "source": [
    "# build and compile model\n",
    "model_fcnn = Sequential([\n",
    "                        Flatten(input_shape = (28,28,1)),\n",
    "                        Dense(512, activation='relu'),\n",
    "                        Dropout(0.4),\n",
    "                        Dense(256, activation='relu'),\n",
    "                        Dropout(0.5),\n",
    "                        Dense(10, activation='softmax')\n",
    "])\n",
    "\n",
    "model_fcnn.compile(optimizer = 'Adam', loss = 'categorical_crossentropy', metrics = ['accuracy'])"
   ]
  },
  {
   "cell_type": "code",
   "execution_count": 14,
   "id": "0559a2fe",
   "metadata": {
    "execution": {
     "iopub.execute_input": "2023-01-11T15:03:42.807143Z",
     "iopub.status.busy": "2023-01-11T15:03:42.806453Z",
     "iopub.status.idle": "2023-01-11T15:03:42.814778Z",
     "shell.execute_reply": "2023-01-11T15:03:42.813289Z"
    },
    "papermill": {
     "duration": 0.0219,
     "end_time": "2023-01-11T15:03:42.817152",
     "exception": false,
     "start_time": "2023-01-11T15:03:42.795252",
     "status": "completed"
    },
    "tags": []
   },
   "outputs": [
    {
     "name": "stdout",
     "output_type": "stream",
     "text": [
      "Model: \"sequential\"\n",
      "_________________________________________________________________\n",
      "Layer (type)                 Output Shape              Param #   \n",
      "=================================================================\n",
      "flatten (Flatten)            (None, 784)               0         \n",
      "_________________________________________________________________\n",
      "dense (Dense)                (None, 512)               401920    \n",
      "_________________________________________________________________\n",
      "dropout (Dropout)            (None, 512)               0         \n",
      "_________________________________________________________________\n",
      "dense_1 (Dense)              (None, 256)               131328    \n",
      "_________________________________________________________________\n",
      "dropout_1 (Dropout)          (None, 256)               0         \n",
      "_________________________________________________________________\n",
      "dense_2 (Dense)              (None, 10)                2570      \n",
      "=================================================================\n",
      "Total params: 535,818\n",
      "Trainable params: 535,818\n",
      "Non-trainable params: 0\n",
      "_________________________________________________________________\n"
     ]
    }
   ],
   "source": [
    "# model summary\n",
    "model_fcnn.summary()"
   ]
  },
  {
   "cell_type": "code",
   "execution_count": 15,
   "id": "8c279ea5",
   "metadata": {
    "execution": {
     "iopub.execute_input": "2023-01-11T15:03:42.840120Z",
     "iopub.status.busy": "2023-01-11T15:03:42.839822Z",
     "iopub.status.idle": "2023-01-11T15:03:42.845855Z",
     "shell.execute_reply": "2023-01-11T15:03:42.844711Z"
    },
    "papermill": {
     "duration": 0.019867,
     "end_time": "2023-01-11T15:03:42.847965",
     "exception": false,
     "start_time": "2023-01-11T15:03:42.828098",
     "status": "completed"
    },
    "tags": []
   },
   "outputs": [],
   "source": [
    "# set up fitting parameters\n",
    "\n",
    "# optimizer\n",
    "optimizer = Adam(learning_rate = 0.001, beta_1 = 0.9, beta_2 = 0.999)\n",
    "\n",
    "# epochs and batch size\n",
    "epochs = 20 \n",
    "batch_size = 250\n",
    "\n",
    "# define learning rate reduction\n",
    "learning_rate_reduction = ReduceLROnPlateau(monitor = 'val_acc', \n",
    "                                            patience = 3, \n",
    "                                            verbose = 1, \n",
    "                                            factor = 0.5, \n",
    "                                            min_lr = 0.0001)"
   ]
  },
  {
   "cell_type": "code",
   "execution_count": 16,
   "id": "93cc7dd9",
   "metadata": {
    "execution": {
     "iopub.execute_input": "2023-01-11T15:03:42.870853Z",
     "iopub.status.busy": "2023-01-11T15:03:42.869820Z",
     "iopub.status.idle": "2023-01-11T15:06:49.754311Z",
     "shell.execute_reply": "2023-01-11T15:06:49.753353Z"
    },
    "papermill": {
     "duration": 186.897911,
     "end_time": "2023-01-11T15:06:49.756397",
     "exception": false,
     "start_time": "2023-01-11T15:03:42.858486",
     "status": "completed"
    },
    "tags": []
   },
   "outputs": [
    {
     "name": "stderr",
     "output_type": "stream",
     "text": [
      "2023-01-11 15:03:43.230669: I tensorflow/compiler/mlir/mlir_graph_optimization_pass.cc:185] None of the MLIR Optimization Passes are enabled (registered 2)\n"
     ]
    },
    {
     "name": "stdout",
     "output_type": "stream",
     "text": [
      "Epoch 1/20\n",
      "151/151 [==============================] - 11s 63ms/step - loss: 0.9972 - accuracy: 0.6725 - val_loss: 0.2326 - val_accuracy: 0.9343\n",
      "Epoch 2/20\n",
      "151/151 [==============================] - 9s 60ms/step - loss: 0.4436 - accuracy: 0.8658 - val_loss: 0.1424 - val_accuracy: 0.9605\n",
      "Epoch 3/20\n",
      "151/151 [==============================] - 8s 54ms/step - loss: 0.3294 - accuracy: 0.8996 - val_loss: 0.1135 - val_accuracy: 0.9643\n",
      "Epoch 4/20\n",
      "151/151 [==============================] - 10s 65ms/step - loss: 0.2876 - accuracy: 0.9115 - val_loss: 0.0992 - val_accuracy: 0.9698\n",
      "Epoch 5/20\n",
      "151/151 [==============================] - 10s 63ms/step - loss: 0.2555 - accuracy: 0.9227 - val_loss: 0.0863 - val_accuracy: 0.9738\n",
      "Epoch 6/20\n",
      "151/151 [==============================] - 9s 58ms/step - loss: 0.2333 - accuracy: 0.9296 - val_loss: 0.0820 - val_accuracy: 0.9764\n",
      "Epoch 7/20\n",
      "151/151 [==============================] - 9s 57ms/step - loss: 0.2238 - accuracy: 0.9323 - val_loss: 0.0780 - val_accuracy: 0.9767\n",
      "Epoch 8/20\n",
      "151/151 [==============================] - 9s 62ms/step - loss: 0.2062 - accuracy: 0.9386 - val_loss: 0.0687 - val_accuracy: 0.9802\n",
      "Epoch 9/20\n",
      "151/151 [==============================] - 9s 58ms/step - loss: 0.1928 - accuracy: 0.9421 - val_loss: 0.0649 - val_accuracy: 0.9810\n",
      "Epoch 10/20\n",
      "151/151 [==============================] - 9s 59ms/step - loss: 0.1842 - accuracy: 0.9439 - val_loss: 0.0673 - val_accuracy: 0.9790\n",
      "Epoch 11/20\n",
      "151/151 [==============================] - 9s 58ms/step - loss: 0.1829 - accuracy: 0.9431 - val_loss: 0.0618 - val_accuracy: 0.9805\n",
      "Epoch 12/20\n",
      "151/151 [==============================] - 8s 54ms/step - loss: 0.1742 - accuracy: 0.9481 - val_loss: 0.0617 - val_accuracy: 0.9814\n",
      "Epoch 13/20\n",
      "151/151 [==============================] - 8s 56ms/step - loss: 0.1726 - accuracy: 0.9472 - val_loss: 0.0592 - val_accuracy: 0.9807\n",
      "Epoch 14/20\n",
      "151/151 [==============================] - 8s 55ms/step - loss: 0.1616 - accuracy: 0.9512 - val_loss: 0.0547 - val_accuracy: 0.9838\n",
      "Epoch 15/20\n",
      "151/151 [==============================] - 9s 59ms/step - loss: 0.1542 - accuracy: 0.9529 - val_loss: 0.0595 - val_accuracy: 0.9819\n",
      "Epoch 16/20\n",
      "151/151 [==============================] - 8s 53ms/step - loss: 0.1561 - accuracy: 0.9528 - val_loss: 0.0605 - val_accuracy: 0.9826\n",
      "Epoch 17/20\n",
      "151/151 [==============================] - 9s 58ms/step - loss: 0.1571 - accuracy: 0.9522 - val_loss: 0.0577 - val_accuracy: 0.9821\n",
      "Epoch 18/20\n",
      "151/151 [==============================] - 9s 60ms/step - loss: 0.1465 - accuracy: 0.9559 - val_loss: 0.0559 - val_accuracy: 0.9831\n",
      "Epoch 19/20\n",
      "151/151 [==============================] - 9s 56ms/step - loss: 0.1452 - accuracy: 0.9556 - val_loss: 0.0560 - val_accuracy: 0.9831\n",
      "Epoch 20/20\n",
      "151/151 [==============================] - 9s 58ms/step - loss: 0.1441 - accuracy: 0.9553 - val_loss: 0.0582 - val_accuracy: 0.9824\n"
     ]
    }
   ],
   "source": [
    "# fit the model\n",
    "time_callback = TimeHistory()\n",
    "fcnn_history1 = model_fcnn.fit(datagen.flow(X_train, y_train, batch_size = batch_size),\n",
    "                               epochs = epochs, validation_data = (X_validation, y_validation),\n",
    "                               verbose = 1, steps_per_epoch = X_train.shape[0] // batch_size, \n",
    "                               callbacks = [learning_rate_reduction, time_callback]\n",
    "                              )\n",
    "times = time_callback.times"
   ]
  },
  {
   "cell_type": "code",
   "execution_count": 17,
   "id": "a00341c0",
   "metadata": {
    "execution": {
     "iopub.execute_input": "2023-01-11T15:06:50.058066Z",
     "iopub.status.busy": "2023-01-11T15:06:50.057079Z",
     "iopub.status.idle": "2023-01-11T15:06:50.426194Z",
     "shell.execute_reply": "2023-01-11T15:06:50.425197Z"
    },
    "papermill": {
     "duration": 0.521243,
     "end_time": "2023-01-11T15:06:50.428357",
     "exception": false,
     "start_time": "2023-01-11T15:06:49.907114",
     "status": "completed"
    },
    "tags": []
   },
   "outputs": [
    {
     "data": {
      "text/plain": [
       "Text(0.5, 0.98, 'Fully Connected Neural Network')"
      ]
     },
     "execution_count": 17,
     "metadata": {},
     "output_type": "execute_result"
    },
    {
     "data": {
      "image/png": "[encoded data removed]",
      "text/plain": [
       "<Figure size 864x432 with 2 Axes>"
      ]
     },
     "metadata": {
      "needs_background": "light"
     },
     "output_type": "display_data"
    }
   ],
   "source": [
    "# plot Loss and Accuracy\n",
    "n = len(fcnn_history1.history[\"loss\"])\n",
    "\n",
    "fig = plt.figure(figsize=(12, 6))\n",
    "ax = fig.add_subplot(1, 2, 1)\n",
    "ax.plot(range(n), (fcnn_history1.history[\"loss\"]),'r--', label=\"Train Loss\")\n",
    "ax.plot(range(n), (fcnn_history1.history[\"val_loss\"]),'b-', label=\"Validation Loss\")\n",
    "ax.legend()\n",
    "ax.set_title('Loss over iterations')\n",
    "\n",
    "ax = fig.add_subplot(1, 2, 2)\n",
    "ax.plot(range(n), (fcnn_history1.history[\"accuracy\"]),'r--', label=\"Train Acc\")\n",
    "ax.plot(range(n), (fcnn_history1.history[\"val_accuracy\"]),'b-', label=\"Validation Acc\")\n",
    "ax.legend(loc='lower right')\n",
    "ax.set_title('Accuracy over iterations')\n",
    "\n",
    "fig.suptitle('Fully Connected Neural Network')"
   ]
  },
  {
   "cell_type": "code",
   "execution_count": 18,
   "id": "2d47aa2f",
   "metadata": {
    "execution": {
     "iopub.execute_input": "2023-01-11T15:06:50.784199Z",
     "iopub.status.busy": "2023-01-11T15:06:50.783478Z",
     "iopub.status.idle": "2023-01-11T15:06:51.035317Z",
     "shell.execute_reply": "2023-01-11T15:06:51.034139Z"
    },
    "papermill": {
     "duration": 0.462267,
     "end_time": "2023-01-11T15:06:51.037635",
     "exception": false,
     "start_time": "2023-01-11T15:06:50.575368",
     "status": "completed"
    },
    "tags": []
   },
   "outputs": [
    {
     "name": "stdout",
     "output_type": "stream",
     "text": [
      "Test score: 0.0582\n",
      "Test accuracy: 0.9824\n"
     ]
    }
   ],
   "source": [
    "score = model_fcnn.evaluate(X_validation, y_validation, verbose=0)\n",
    "print('Test score:', round(score[0], 4))\n",
    "print('Test accuracy:', round(score[1], 4))"
   ]
  },
  {
   "cell_type": "code",
   "execution_count": 19,
   "id": "ebf77e70",
   "metadata": {
    "execution": {
     "iopub.execute_input": "2023-01-11T15:06:51.337554Z",
     "iopub.status.busy": "2023-01-11T15:06:51.336563Z",
     "iopub.status.idle": "2023-01-11T15:08:23.741054Z",
     "shell.execute_reply": "2023-01-11T15:08:23.740012Z"
    },
    "papermill": {
     "duration": 92.558957,
     "end_time": "2023-01-11T15:08:23.743978",
     "exception": false,
     "start_time": "2023-01-11T15:06:51.185021",
     "status": "completed"
    },
    "tags": []
   },
   "outputs": [
    {
     "name": "stdout",
     "output_type": "stream",
     "text": [
      "Epoch 1/10\n",
      "151/151 [==============================] - 9s 56ms/step - loss: 0.1413 - accuracy: 0.9562 - val_loss: 0.0542 - val_accuracy: 0.9838\n",
      "Epoch 2/10\n",
      "151/151 [==============================] - 9s 58ms/step - loss: 0.1407 - accuracy: 0.9568 - val_loss: 0.0561 - val_accuracy: 0.9819\n",
      "Epoch 3/10\n",
      "151/151 [==============================] - 8s 55ms/step - loss: 0.1402 - accuracy: 0.9574 - val_loss: 0.0532 - val_accuracy: 0.9833\n",
      "Epoch 4/10\n",
      "151/151 [==============================] - 9s 57ms/step - loss: 0.1333 - accuracy: 0.9587 - val_loss: 0.0606 - val_accuracy: 0.9824\n",
      "Epoch 5/10\n",
      "151/151 [==============================] - 9s 60ms/step - loss: 0.1370 - accuracy: 0.9579 - val_loss: 0.0501 - val_accuracy: 0.9850\n",
      "Epoch 6/10\n",
      "151/151 [==============================] - 9s 56ms/step - loss: 0.1347 - accuracy: 0.9589 - val_loss: 0.0575 - val_accuracy: 0.9814\n",
      "Epoch 7/10\n",
      "151/151 [==============================] - 9s 57ms/step - loss: 0.1329 - accuracy: 0.9590 - val_loss: 0.0492 - val_accuracy: 0.9855\n",
      "Epoch 8/10\n",
      "151/151 [==============================] - 9s 58ms/step - loss: 0.1328 - accuracy: 0.9606 - val_loss: 0.0479 - val_accuracy: 0.9852\n",
      "Epoch 9/10\n",
      "151/151 [==============================] - 9s 58ms/step - loss: 0.1303 - accuracy: 0.9597 - val_loss: 0.0478 - val_accuracy: 0.9860\n",
      "Epoch 10/10\n",
      "151/151 [==============================] - 8s 55ms/step - loss: 0.1282 - accuracy: 0.9619 - val_loss: 0.0446 - val_accuracy: 0.9871\n"
     ]
    }
   ],
   "source": [
    "# fit the model again to see if score will improve\n",
    "fcnn_history2 = model_fcnn.fit(datagen.flow(X_train, y_train, batch_size = batch_size),\n",
    "                               epochs = 10, validation_data = (X_validation, y_validation),\n",
    "                               verbose = 1, steps_per_epoch = X_train.shape[0] // batch_size, \n",
    "                               callbacks = [learning_rate_reduction, time_callback])"
   ]
  },
  {
   "cell_type": "code",
   "execution_count": 20,
   "id": "56a1cca0",
   "metadata": {
    "execution": {
     "iopub.execute_input": "2023-01-11T15:08:24.191105Z",
     "iopub.status.busy": "2023-01-11T15:08:24.190732Z",
     "iopub.status.idle": "2023-01-11T15:08:24.455203Z",
     "shell.execute_reply": "2023-01-11T15:08:24.454289Z"
    },
    "papermill": {
     "duration": 0.4872,
     "end_time": "2023-01-11T15:08:24.457357",
     "exception": false,
     "start_time": "2023-01-11T15:08:23.970157",
     "status": "completed"
    },
    "tags": []
   },
   "outputs": [
    {
     "data": {
      "text/plain": [
       "Text(0.5, 1.0, 'Loss Values for Fully Connected Neural Network')"
      ]
     },
     "execution_count": 20,
     "metadata": {},
     "output_type": "execute_result"
    },
    {
     "data": {
      "image/png": "[encoded data removed]",
      "text/plain": [
       "<Figure size 864x432 with 1 Axes>"
      ]
     },
     "metadata": {
      "needs_background": "light"
     },
     "output_type": "display_data"
    }
   ],
   "source": [
    "n = len(fcnn_history1.history[\"loss\"])\n",
    "m = len(fcnn_history2.history['loss'])\n",
    "fig, ax = plt.subplots(figsize=(12, 6))\n",
    "\n",
    "ax.plot(range(n), fcnn_history1.history[\"loss\"],'r', marker='s', label=\"Train Loss - Run 1\")\n",
    "ax.plot(range(n, n+m), fcnn_history2.history[\"loss\"], 'hotpink', marker='s', label=\"Train Loss - Run 2\")\n",
    "\n",
    "ax.plot(range(n), fcnn_history1.history[\"val_loss\"],'b', marker='o', label=\"Validation Loss - Run 1\")\n",
    "ax.plot(range(n, n+m), fcnn_history2.history[\"val_loss\"], 'LightSkyBlue', marker='o',  label=\"Validation Loss - Run 2\")\n",
    "\n",
    "ax.legend()\n",
    "ax.set_title(\"Loss Values for Fully Connected Neural Network\")"
   ]
  },
  {
   "cell_type": "code",
   "execution_count": 21,
   "id": "46f4854b",
   "metadata": {
    "execution": {
     "iopub.execute_input": "2023-01-11T15:08:24.941885Z",
     "iopub.status.busy": "2023-01-11T15:08:24.941471Z",
     "iopub.status.idle": "2023-01-11T15:08:25.204977Z",
     "shell.execute_reply": "2023-01-11T15:08:25.203983Z"
    },
    "papermill": {
     "duration": 0.534601,
     "end_time": "2023-01-11T15:08:25.207016",
     "exception": false,
     "start_time": "2023-01-11T15:08:24.672415",
     "status": "completed"
    },
    "tags": []
   },
   "outputs": [
    {
     "data": {
      "text/html": [
       "<div>\n",
       "<style scoped>\n",
       "    .dataframe tbody tr th:only-of-type {\n",
       "        vertical-align: middle;\n",
       "    }\n",
       "\n",
       "    .dataframe tbody tr th {\n",
       "        vertical-align: top;\n",
       "    }\n",
       "\n",
       "    .dataframe thead th {\n",
       "        text-align: right;\n",
       "    }\n",
       "</style>\n",
       "<table border=\"1\" class=\"dataframe\">\n",
       "  <thead>\n",
       "    <tr style=\"text-align: right;\">\n",
       "      <th></th>\n",
       "      <th>model</th>\n",
       "      <th>test score</th>\n",
       "      <th>test accuracy</th>\n",
       "      <th>sec per epoch</th>\n",
       "      <th>trainable weights</th>\n",
       "    </tr>\n",
       "  </thead>\n",
       "  <tbody>\n",
       "    <tr>\n",
       "      <th>0</th>\n",
       "      <td>Fully Connected NN</td>\n",
       "      <td>0.0446</td>\n",
       "      <td>0.9871</td>\n",
       "      <td>8.89</td>\n",
       "      <td>535818</td>\n",
       "    </tr>\n",
       "  </tbody>\n",
       "</table>\n",
       "</div>"
      ],
      "text/plain": [
       "                model  test score  test accuracy  sec per epoch  \\\n",
       "0  Fully Connected NN      0.0446         0.9871           8.89   \n",
       "\n",
       "   trainable weights  \n",
       "0             535818  "
      ]
     },
     "execution_count": 21,
     "metadata": {},
     "output_type": "execute_result"
    }
   ],
   "source": [
    "score = model_fcnn.evaluate(X_validation, y_validation, verbose=0)\n",
    "scores = pd.DataFrame(data = {'model': ['Fully Connected NN'],  \n",
    "                              'test score': [round(score[0], 4)], \n",
    "                              'test accuracy': [round(score[1], 4)],\n",
    "                              'sec per epoch': [round(sum(times)/len(times), 2)],\n",
    "                              'trainable weights': [count_params(model_fcnn.trainable_weights)]})\n",
    "scores"
   ]
  },
  {
   "cell_type": "code",
   "execution_count": 22,
   "id": "5a2a620a",
   "metadata": {
    "execution": {
     "iopub.execute_input": "2023-01-11T15:08:25.646428Z",
     "iopub.status.busy": "2023-01-11T15:08:25.644380Z",
     "iopub.status.idle": "2023-01-11T15:08:26.681104Z",
     "shell.execute_reply": "2023-01-11T15:08:26.680167Z"
    },
    "papermill": {
     "duration": 1.255556,
     "end_time": "2023-01-11T15:08:26.683254",
     "exception": false,
     "start_time": "2023-01-11T15:08:25.427698",
     "status": "completed"
    },
    "tags": []
   },
   "outputs": [
    {
     "data": {
      "image/png": "[encoded data removed]",
      "text/plain": [
       "<Figure size 576x576 with 2 Axes>"
      ]
     },
     "metadata": {
      "needs_background": "light"
     },
     "output_type": "display_data"
    }
   ],
   "source": [
    "# confusion matrix\n",
    "\n",
    "# predict values (probabilities)\n",
    "y_pred = model_fcnn.predict(X_validation)\n",
    "# predict classes\n",
    "y_pred_classes = np.argmax(y_pred, axis = 1)\n",
    "# convert true classes to one vector with 10 categories\n",
    "y_true = np.argmax(y_validation, axis = 1) \n",
    "\n",
    "# calculate confusion matrix\n",
    "cm = confusion_matrix(y_true, y_pred_classes) \n",
    "\n",
    "# plot confusion matrix\n",
    "fig,ax = plt.subplots(figsize = (8, 8))\n",
    "sns.heatmap(cm, annot = True, linewidths=0.01, cmap=\"Blues\", linecolor=\"gray\", fmt= '.1f', ax=ax)\n",
    "plt.xlabel(\"Predicted Label\")\n",
    "plt.ylabel(\"True Label\")\n",
    "plt.title(\"Confusion Matrix for Fully Connected NN model\")\n",
    "plt.show()"
   ]
  },
  {
   "cell_type": "markdown",
   "id": "36e7d374",
   "metadata": {
    "papermill": {
     "duration": 0.232464,
     "end_time": "2023-01-11T15:08:27.144050",
     "exception": false,
     "start_time": "2023-01-11T15:08:26.911586",
     "status": "completed"
    },
    "tags": []
   },
   "source": [
    "## Convolutional Neural Networks\n",
    "To design CNNs for this project I used the following principles:\n",
    "\n",
    "1. I used only 3x3 convolutions, but applied 2 Convolutional layers in a row. It is a \"cell\".\n",
    "2. Each \"convolutional cell\" consist of:\n",
    "    * 2 convolutional layers with {n} feature maps using 3x3 filter and stride 1 ({n}C3);\n",
    "    * 1 pooling layer using 2x2 filter and stride 2 (P2);\n",
    "    * 1 dropout layer (Dp).\n",
    "3. I experimented with the number of cells in my CNN:\n",
    "    * 1-cell CNN:   \n",
    "    (28x28x1) -> **[32C3 - 32C2 - P2 - Dp]** -> (14x14x32) -> **Flatten** -> **Dense(512, relu)** -> **Dp** -> **Dense(10, softmax)**  \n",
    "    * 2-cell CNN:   \n",
    "    (28x28x1) -> **[32C3 - 32C2 - P2 - Dp]** -> (14x14x32) -> **[64C3 - 64C2 - P2 - Dp]** -> (7x7x64) -> **Flatten** -> **Dense(512, relu)** -> **Dp** -> **Dense(10, softmax)**\n",
    "        \n",
    "### 1-cell  CNN"
   ]
  },
  {
   "cell_type": "code",
   "execution_count": 23,
   "id": "83092734",
   "metadata": {
    "execution": {
     "iopub.execute_input": "2023-01-11T15:08:27.623140Z",
     "iopub.status.busy": "2023-01-11T15:08:27.622782Z",
     "iopub.status.idle": "2023-01-11T15:08:27.678361Z",
     "shell.execute_reply": "2023-01-11T15:08:27.677465Z"
    },
    "papermill": {
     "duration": 0.290592,
     "end_time": "2023-01-11T15:08:27.680483",
     "exception": false,
     "start_time": "2023-01-11T15:08:27.389891",
     "status": "completed"
    },
    "tags": []
   },
   "outputs": [],
   "source": [
    "# build and compile model\n",
    "model_1c_cnn = Sequential([\n",
    "    Conv2D(filters = 32, kernel_size = (3,3),padding = 'Same', \n",
    "                 activation ='relu', input_shape = (28,28,1)),\n",
    "    Conv2D(filters = 32, kernel_size = (3,3),padding = 'Same', \n",
    "                 activation ='relu'),\n",
    "    MaxPooling2D(pool_size = (2,2), strides = (2,2)),\n",
    "    Dropout(0.4),\n",
    "    Flatten(),\n",
    "    Dense(512, activation = 'relu'),\n",
    "    Dropout(0.5),\n",
    "    Dense(10, activation = 'softmax')\n",
    "])\n",
    "\n",
    "model_1c_cnn.compile(optimizer = 'Adam', loss = 'categorical_crossentropy', metrics = ['accuracy'])"
   ]
  },
  {
   "cell_type": "code",
   "execution_count": 24,
   "id": "725a6501",
   "metadata": {
    "execution": {
     "iopub.execute_input": "2023-01-11T15:08:28.167268Z",
     "iopub.status.busy": "2023-01-11T15:08:28.166911Z",
     "iopub.status.idle": "2023-01-11T15:08:28.173198Z",
     "shell.execute_reply": "2023-01-11T15:08:28.172148Z"
    },
    "papermill": {
     "duration": 0.227608,
     "end_time": "2023-01-11T15:08:28.177200",
     "exception": false,
     "start_time": "2023-01-11T15:08:27.949592",
     "status": "completed"
    },
    "tags": []
   },
   "outputs": [
    {
     "name": "stdout",
     "output_type": "stream",
     "text": [
      "Model: \"sequential_1\"\n",
      "_________________________________________________________________\n",
      "Layer (type)                 Output Shape              Param #   \n",
      "=================================================================\n",
      "conv2d (Conv2D)              (None, 28, 28, 32)        320       \n",
      "_________________________________________________________________\n",
      "conv2d_1 (Conv2D)            (None, 28, 28, 32)        9248      \n",
      "_________________________________________________________________\n",
      "max_pooling2d (MaxPooling2D) (None, 14, 14, 32)        0         \n",
      "_________________________________________________________________\n",
      "dropout_2 (Dropout)          (None, 14, 14, 32)        0         \n",
      "_________________________________________________________________\n",
      "flatten_1 (Flatten)          (None, 6272)              0         \n",
      "_________________________________________________________________\n",
      "dense_3 (Dense)              (None, 512)               3211776   \n",
      "_________________________________________________________________\n",
      "dropout_3 (Dropout)          (None, 512)               0         \n",
      "_________________________________________________________________\n",
      "dense_4 (Dense)              (None, 10)                5130      \n",
      "=================================================================\n",
      "Total params: 3,226,474\n",
      "Trainable params: 3,226,474\n",
      "Non-trainable params: 0\n",
      "_________________________________________________________________\n"
     ]
    }
   ],
   "source": [
    "# model summary\n",
    "model_1c_cnn.summary()"
   ]
  },
  {
   "cell_type": "code",
   "execution_count": 25,
   "id": "55ccd34c",
   "metadata": {
    "execution": {
     "iopub.execute_input": "2023-01-11T15:08:28.614973Z",
     "iopub.status.busy": "2023-01-11T15:08:28.614573Z",
     "iopub.status.idle": "2023-01-11T15:11:51.387263Z",
     "shell.execute_reply": "2023-01-11T15:11:51.386220Z"
    },
    "papermill": {
     "duration": 202.992871,
     "end_time": "2023-01-11T15:11:51.389622",
     "exception": false,
     "start_time": "2023-01-11T15:08:28.396751",
     "status": "completed"
    },
    "tags": []
   },
   "outputs": [
    {
     "name": "stdout",
     "output_type": "stream",
     "text": [
      "Epoch 1/20\n"
     ]
    },
    {
     "name": "stderr",
     "output_type": "stream",
     "text": [
      "2023-01-11 15:08:29.868609: I tensorflow/stream_executor/cuda/cuda_dnn.cc:369] Loaded cuDNN version 8005\n"
     ]
    },
    {
     "name": "stdout",
     "output_type": "stream",
     "text": [
      "151/151 [==============================] - 15s 64ms/step - loss: 0.6419 - accuracy: 0.7935 - val_loss: 0.0942 - val_accuracy: 0.9726\n",
      "Epoch 2/20\n",
      "151/151 [==============================] - 9s 59ms/step - loss: 0.2008 - accuracy: 0.9383 - val_loss: 0.0583 - val_accuracy: 0.9838\n",
      "Epoch 3/20\n",
      "151/151 [==============================] - 9s 60ms/step - loss: 0.1464 - accuracy: 0.9561 - val_loss: 0.0481 - val_accuracy: 0.9850\n",
      "Epoch 4/20\n",
      "151/151 [==============================] - 9s 61ms/step - loss: 0.1188 - accuracy: 0.9640 - val_loss: 0.0430 - val_accuracy: 0.9857\n",
      "Epoch 5/20\n",
      "151/151 [==============================] - 9s 59ms/step - loss: 0.1043 - accuracy: 0.9682 - val_loss: 0.0372 - val_accuracy: 0.9876\n",
      "Epoch 6/20\n",
      "151/151 [==============================] - 9s 61ms/step - loss: 0.0958 - accuracy: 0.9696 - val_loss: 0.0355 - val_accuracy: 0.9886\n",
      "Epoch 7/20\n",
      "151/151 [==============================] - 9s 62ms/step - loss: 0.0880 - accuracy: 0.9730 - val_loss: 0.0340 - val_accuracy: 0.9895\n",
      "Epoch 8/20\n",
      "151/151 [==============================] - 9s 57ms/step - loss: 0.0831 - accuracy: 0.9752 - val_loss: 0.0310 - val_accuracy: 0.9907\n",
      "Epoch 9/20\n",
      "151/151 [==============================] - 9s 58ms/step - loss: 0.0783 - accuracy: 0.9753 - val_loss: 0.0308 - val_accuracy: 0.9902\n",
      "Epoch 10/20\n",
      "151/151 [==============================] - 9s 62ms/step - loss: 0.0743 - accuracy: 0.9772 - val_loss: 0.0316 - val_accuracy: 0.9893\n",
      "Epoch 11/20\n",
      "151/151 [==============================] - 9s 58ms/step - loss: 0.0711 - accuracy: 0.9776 - val_loss: 0.0277 - val_accuracy: 0.9917\n",
      "Epoch 12/20\n",
      "151/151 [==============================] - 9s 61ms/step - loss: 0.0700 - accuracy: 0.9778 - val_loss: 0.0346 - val_accuracy: 0.9902\n",
      "Epoch 13/20\n",
      "151/151 [==============================] - 9s 62ms/step - loss: 0.0634 - accuracy: 0.9793 - val_loss: 0.0291 - val_accuracy: 0.9917\n",
      "Epoch 14/20\n",
      "151/151 [==============================] - 9s 61ms/step - loss: 0.0607 - accuracy: 0.9810 - val_loss: 0.0294 - val_accuracy: 0.9912\n",
      "Epoch 15/20\n",
      "151/151 [==============================] - 9s 59ms/step - loss: 0.0628 - accuracy: 0.9804 - val_loss: 0.0267 - val_accuracy: 0.9926\n",
      "Epoch 16/20\n",
      "151/151 [==============================] - 9s 59ms/step - loss: 0.0597 - accuracy: 0.9814 - val_loss: 0.0254 - val_accuracy: 0.9929\n",
      "Epoch 17/20\n",
      "151/151 [==============================] - 9s 62ms/step - loss: 0.0566 - accuracy: 0.9826 - val_loss: 0.0316 - val_accuracy: 0.9919\n",
      "Epoch 18/20\n",
      "151/151 [==============================] - 9s 59ms/step - loss: 0.0579 - accuracy: 0.9821 - val_loss: 0.0243 - val_accuracy: 0.9917\n",
      "Epoch 19/20\n",
      "151/151 [==============================] - 9s 61ms/step - loss: 0.0565 - accuracy: 0.9824 - val_loss: 0.0234 - val_accuracy: 0.9936\n",
      "Epoch 20/20\n",
      "151/151 [==============================] - 10s 63ms/step - loss: 0.0525 - accuracy: 0.9833 - val_loss: 0.0251 - val_accuracy: 0.9919\n"
     ]
    }
   ],
   "source": [
    "# fit the model\n",
    "time_callback = TimeHistory()\n",
    "cnn_1c_history = model_1c_cnn.fit(datagen.flow(X_train, y_train, batch_size = batch_size),\n",
    "                               epochs = epochs, validation_data = (X_validation, y_validation),\n",
    "                               verbose = 1, steps_per_epoch = X_train.shape[0] // batch_size, \n",
    "                               callbacks = [learning_rate_reduction, time_callback])\n",
    "times = time_callback.times"
   ]
  },
  {
   "cell_type": "code",
   "execution_count": 26,
   "id": "6e2a6251",
   "metadata": {
    "execution": {
     "iopub.execute_input": "2023-01-11T15:11:52.175160Z",
     "iopub.status.busy": "2023-01-11T15:11:52.174797Z",
     "iopub.status.idle": "2023-01-11T15:11:52.572514Z",
     "shell.execute_reply": "2023-01-11T15:11:52.571569Z"
    },
    "papermill": {
     "duration": 0.77098,
     "end_time": "2023-01-11T15:11:52.574839",
     "exception": false,
     "start_time": "2023-01-11T15:11:51.803859",
     "status": "completed"
    },
    "tags": []
   },
   "outputs": [
    {
     "data": {
      "text/plain": [
       "Text(0.5, 0.98, 'CNN model with 1 cell')"
      ]
     },
     "execution_count": 26,
     "metadata": {},
     "output_type": "execute_result"
    },
    {
     "data": {
      "image/png": "[encoded data removed]",
      "text/plain": [
       "<Figure size 864x432 with 2 Axes>"
      ]
     },
     "metadata": {
      "needs_background": "light"
     },
     "output_type": "display_data"
    }
   ],
   "source": [
    "# plot Loss and Accuracy\n",
    "n = len(cnn_1c_history.history[\"loss\"])\n",
    "\n",
    "fig = plt.figure(figsize=(12, 6))\n",
    "ax = fig.add_subplot(1, 2, 1)\n",
    "ax.plot(range(n), (cnn_1c_history.history[\"loss\"]),'r--', label=\"Train Loss\")\n",
    "ax.plot(range(n), (cnn_1c_history.history[\"val_loss\"]),'b-', label=\"Validation Loss\")\n",
    "ax.legend()\n",
    "ax.set_title('Loss over iterations')\n",
    "\n",
    "ax = fig.add_subplot(1, 2, 2)\n",
    "ax.plot(range(n), (cnn_1c_history.history[\"accuracy\"]),'r--', label=\"Train Acc\")\n",
    "ax.plot(range(n), (cnn_1c_history.history[\"val_accuracy\"]),'b-', label=\"Validation Acc\")\n",
    "ax.legend(loc='lower right')\n",
    "ax.set_title('Accuracy over iterations')\n",
    "\n",
    "fig.suptitle('CNN model with 1 cell')"
   ]
  },
  {
   "cell_type": "code",
   "execution_count": 27,
   "id": "00e2a4b6",
   "metadata": {
    "execution": {
     "iopub.execute_input": "2023-01-11T15:11:53.327798Z",
     "iopub.status.busy": "2023-01-11T15:11:53.326742Z",
     "iopub.status.idle": "2023-01-11T15:11:53.647115Z",
     "shell.execute_reply": "2023-01-11T15:11:53.646129Z"
    },
    "papermill": {
     "duration": 0.693924,
     "end_time": "2023-01-11T15:11:53.649408",
     "exception": false,
     "start_time": "2023-01-11T15:11:52.955484",
     "status": "completed"
    },
    "tags": []
   },
   "outputs": [
    {
     "data": {
      "text/html": [
       "<div>\n",
       "<style scoped>\n",
       "    .dataframe tbody tr th:only-of-type {\n",
       "        vertical-align: middle;\n",
       "    }\n",
       "\n",
       "    .dataframe tbody tr th {\n",
       "        vertical-align: top;\n",
       "    }\n",
       "\n",
       "    .dataframe thead th {\n",
       "        text-align: right;\n",
       "    }\n",
       "</style>\n",
       "<table border=\"1\" class=\"dataframe\">\n",
       "  <thead>\n",
       "    <tr style=\"text-align: right;\">\n",
       "      <th></th>\n",
       "      <th>model</th>\n",
       "      <th>test score</th>\n",
       "      <th>test accuracy</th>\n",
       "      <th>sec per epoch</th>\n",
       "      <th>trainable weights</th>\n",
       "    </tr>\n",
       "  </thead>\n",
       "  <tbody>\n",
       "    <tr>\n",
       "      <th>0</th>\n",
       "      <td>Fully Connected NN</td>\n",
       "      <td>0.0446</td>\n",
       "      <td>0.9871</td>\n",
       "      <td>8.89</td>\n",
       "      <td>535818</td>\n",
       "    </tr>\n",
       "    <tr>\n",
       "      <th>1</th>\n",
       "      <td>1-cell CNN</td>\n",
       "      <td>0.0251</td>\n",
       "      <td>0.9919</td>\n",
       "      <td>9.43</td>\n",
       "      <td>3226474</td>\n",
       "    </tr>\n",
       "  </tbody>\n",
       "</table>\n",
       "</div>"
      ],
      "text/plain": [
       "                model  test score  test accuracy  sec per epoch  \\\n",
       "0  Fully Connected NN      0.0446         0.9871           8.89   \n",
       "1          1-cell CNN      0.0251         0.9919           9.43   \n",
       "\n",
       "   trainable weights  \n",
       "0             535818  \n",
       "1            3226474  "
      ]
     },
     "execution_count": 27,
     "metadata": {},
     "output_type": "execute_result"
    }
   ],
   "source": [
    "score = model_1c_cnn.evaluate(X_validation, y_validation, verbose=0)\n",
    "scores = scores.append({'model': '1-cell CNN', \n",
    "                        'test score': round(score[0], 4), \n",
    "                        'test accuracy': round(score[1], 4),\n",
    "                        'sec per epoch': round(sum(times)/len(times), 2),\n",
    "                        'trainable weights': count_params(model_1c_cnn.trainable_weights)}, \n",
    "                        ignore_index=True)\n",
    "scores"
   ]
  },
  {
   "cell_type": "code",
   "execution_count": 28,
   "id": "e692c387",
   "metadata": {
    "execution": {
     "iopub.execute_input": "2023-01-11T15:11:54.464661Z",
     "iopub.status.busy": "2023-01-11T15:11:54.464267Z",
     "iopub.status.idle": "2023-01-11T15:11:55.661438Z",
     "shell.execute_reply": "2023-01-11T15:11:55.660550Z"
    },
    "papermill": {
     "duration": 1.570853,
     "end_time": "2023-01-11T15:11:55.663623",
     "exception": false,
     "start_time": "2023-01-11T15:11:54.092770",
     "status": "completed"
    },
    "tags": []
   },
   "outputs": [
    {
     "data": {
      "image/png": "[encoded data removed]",
      "text/plain": [
       "<Figure size 576x576 with 2 Axes>"
      ]
     },
     "metadata": {
      "needs_background": "light"
     },
     "output_type": "display_data"
    }
   ],
   "source": [
    "# confusion matrix\n",
    "\n",
    "# predict values (probabilities)\n",
    "y_pred = model_1c_cnn.predict(X_validation)\n",
    "# predict classes\n",
    "y_pred_classes = np.argmax(y_pred, axis = 1)\n",
    "# convert true classes to one vector with 10 categories\n",
    "y_true = np.argmax(y_validation, axis = 1) \n",
    "\n",
    "# calculate confusion matrix\n",
    "cm = confusion_matrix(y_true, y_pred_classes) \n",
    "\n",
    "# plot confusion matrix\n",
    "fig,ax = plt.subplots(figsize = (8, 8))\n",
    "sns.heatmap(cm, annot = True, linewidths=0.01, cmap=\"Blues\", linecolor=\"gray\", fmt= '.1f', ax=ax)\n",
    "plt.xlabel(\"Predicted Label\")\n",
    "plt.ylabel(\"True Label\")\n",
    "plt.title(\"Confusion Matrix for CNN model with 1 cells\")\n",
    "plt.show()"
   ]
  },
  {
   "cell_type": "markdown",
   "id": "671ec31b",
   "metadata": {
    "papermill": {
     "duration": 0.421383,
     "end_time": "2023-01-11T15:11:56.454116",
     "exception": false,
     "start_time": "2023-01-11T15:11:56.032733",
     "status": "completed"
    },
    "tags": []
   },
   "source": [
    "### 2-cell CNN"
   ]
  },
  {
   "cell_type": "code",
   "execution_count": 29,
   "id": "08b45901",
   "metadata": {
    "execution": {
     "iopub.execute_input": "2023-01-11T15:11:57.204833Z",
     "iopub.status.busy": "2023-01-11T15:11:57.204448Z",
     "iopub.status.idle": "2023-01-11T15:11:57.277220Z",
     "shell.execute_reply": "2023-01-11T15:11:57.276283Z"
    },
    "papermill": {
     "duration": 0.455787,
     "end_time": "2023-01-11T15:11:57.279596",
     "exception": false,
     "start_time": "2023-01-11T15:11:56.823809",
     "status": "completed"
    },
    "tags": []
   },
   "outputs": [],
   "source": [
    "# build and compile model\n",
    "model_2c_cnn = Sequential([\n",
    "    Conv2D(filters = 32, kernel_size = (3,3),padding = 'Same', \n",
    "                 activation ='relu', input_shape = (28,28,1)),\n",
    "    Conv2D(filters = 32, kernel_size = (3,3),padding = 'Same', \n",
    "                 activation ='relu'),\n",
    "    MaxPooling2D(pool_size = (2,2), strides = (2,2)),\n",
    "    Dropout(0.4),\n",
    "    \n",
    "    Conv2D(filters = 64, kernel_size = (3,3),padding = 'Same', \n",
    "                 activation ='relu'),\n",
    "    Conv2D(filters = 64, kernel_size = (3,3),padding = 'Same', \n",
    "                 activation ='relu'),\n",
    "    MaxPooling2D(pool_size = (2,2), strides = (2,2)),\n",
    "    Dropout(0.4),\n",
    "    \n",
    "    Flatten(),\n",
    "    Dense(512, activation = 'relu'),\n",
    "    Dropout(0.5),\n",
    "    Dense(10, activation = 'softmax')\n",
    "])\n",
    "\n",
    "model_2c_cnn.compile(optimizer = 'Adam', loss = 'categorical_crossentropy', metrics = ['accuracy'])"
   ]
  },
  {
   "cell_type": "code",
   "execution_count": 30,
   "id": "a5a344bb",
   "metadata": {
    "execution": {
     "iopub.execute_input": "2023-01-11T15:11:58.076869Z",
     "iopub.status.busy": "2023-01-11T15:11:58.076496Z",
     "iopub.status.idle": "2023-01-11T15:11:58.083154Z",
     "shell.execute_reply": "2023-01-11T15:11:58.082202Z"
    },
    "papermill": {
     "duration": 0.384739,
     "end_time": "2023-01-11T15:11:58.086291",
     "exception": false,
     "start_time": "2023-01-11T15:11:57.701552",
     "status": "completed"
    },
    "tags": []
   },
   "outputs": [
    {
     "name": "stdout",
     "output_type": "stream",
     "text": [
      "Model: \"sequential_2\"\n",
      "_________________________________________________________________\n",
      "Layer (type)                 Output Shape              Param #   \n",
      "=================================================================\n",
      "conv2d_2 (Conv2D)            (None, 28, 28, 32)        320       \n",
      "_________________________________________________________________\n",
      "conv2d_3 (Conv2D)            (None, 28, 28, 32)        9248      \n",
      "_________________________________________________________________\n",
      "max_pooling2d_1 (MaxPooling2 (None, 14, 14, 32)        0         \n",
      "_________________________________________________________________\n",
      "dropout_4 (Dropout)          (None, 14, 14, 32)        0         \n",
      "_________________________________________________________________\n",
      "conv2d_4 (Conv2D)            (None, 14, 14, 64)        18496     \n",
      "_________________________________________________________________\n",
      "conv2d_5 (Conv2D)            (None, 14, 14, 64)        36928     \n",
      "_________________________________________________________________\n",
      "max_pooling2d_2 (MaxPooling2 (None, 7, 7, 64)          0         \n",
      "_________________________________________________________________\n",
      "dropout_5 (Dropout)          (None, 7, 7, 64)          0         \n",
      "_________________________________________________________________\n",
      "flatten_2 (Flatten)          (None, 3136)              0         \n",
      "_________________________________________________________________\n",
      "dense_5 (Dense)              (None, 512)               1606144   \n",
      "_________________________________________________________________\n",
      "dropout_6 (Dropout)          (None, 512)               0         \n",
      "_________________________________________________________________\n",
      "dense_6 (Dense)              (None, 10)                5130      \n",
      "=================================================================\n",
      "Total params: 1,676,266\n",
      "Trainable params: 1,676,266\n",
      "Non-trainable params: 0\n",
      "_________________________________________________________________\n"
     ]
    }
   ],
   "source": [
    "# model summary\n",
    "model_2c_cnn.summary()"
   ]
  },
  {
   "cell_type": "code",
   "execution_count": 31,
   "id": "908f88ef",
   "metadata": {
    "execution": {
     "iopub.execute_input": "2023-01-11T15:11:58.821819Z",
     "iopub.status.busy": "2023-01-11T15:11:58.821404Z",
     "iopub.status.idle": "2023-01-11T15:15:14.391078Z",
     "shell.execute_reply": "2023-01-11T15:15:14.390070Z"
    },
    "papermill": {
     "duration": 195.941932,
     "end_time": "2023-01-11T15:15:14.393614",
     "exception": false,
     "start_time": "2023-01-11T15:11:58.451682",
     "status": "completed"
    },
    "tags": []
   },
   "outputs": [
    {
     "name": "stdout",
     "output_type": "stream",
     "text": [
      "Epoch 1/20\n",
      "151/151 [==============================] - 10s 61ms/step - loss: 0.6002 - accuracy: 0.7999 - val_loss: 0.0774 - val_accuracy: 0.9767\n",
      "Epoch 2/20\n",
      "151/151 [==============================] - 9s 61ms/step - loss: 0.1755 - accuracy: 0.9462 - val_loss: 0.0528 - val_accuracy: 0.9831\n",
      "Epoch 3/20\n",
      "151/151 [==============================] - 10s 66ms/step - loss: 0.1214 - accuracy: 0.9622 - val_loss: 0.0486 - val_accuracy: 0.9848\n",
      "Epoch 4/20\n",
      "151/151 [==============================] - 9s 62ms/step - loss: 0.1002 - accuracy: 0.9691 - val_loss: 0.0328 - val_accuracy: 0.9898\n",
      "Epoch 5/20\n",
      "151/151 [==============================] - 9s 58ms/step - loss: 0.0866 - accuracy: 0.9742 - val_loss: 0.0317 - val_accuracy: 0.9900\n",
      "Epoch 6/20\n",
      "151/151 [==============================] - 10s 63ms/step - loss: 0.0791 - accuracy: 0.9759 - val_loss: 0.0284 - val_accuracy: 0.9917\n",
      "Epoch 7/20\n",
      "151/151 [==============================] - 9s 62ms/step - loss: 0.0678 - accuracy: 0.9794 - val_loss: 0.0277 - val_accuracy: 0.9919\n",
      "Epoch 8/20\n",
      "151/151 [==============================] - 9s 60ms/step - loss: 0.0616 - accuracy: 0.9810 - val_loss: 0.0267 - val_accuracy: 0.9931\n",
      "Epoch 9/20\n",
      "151/151 [==============================] - 10s 63ms/step - loss: 0.0625 - accuracy: 0.9811 - val_loss: 0.0265 - val_accuracy: 0.9926\n",
      "Epoch 10/20\n",
      "151/151 [==============================] - 9s 62ms/step - loss: 0.0587 - accuracy: 0.9819 - val_loss: 0.0307 - val_accuracy: 0.9919\n",
      "Epoch 11/20\n",
      "151/151 [==============================] - 9s 59ms/step - loss: 0.0510 - accuracy: 0.9839 - val_loss: 0.0251 - val_accuracy: 0.9940\n",
      "Epoch 12/20\n",
      "151/151 [==============================] - 9s 58ms/step - loss: 0.0489 - accuracy: 0.9856 - val_loss: 0.0221 - val_accuracy: 0.9948\n",
      "Epoch 13/20\n",
      "151/151 [==============================] - 9s 62ms/step - loss: 0.0486 - accuracy: 0.9844 - val_loss: 0.0235 - val_accuracy: 0.9931\n",
      "Epoch 14/20\n",
      "151/151 [==============================] - 9s 61ms/step - loss: 0.0455 - accuracy: 0.9861 - val_loss: 0.0265 - val_accuracy: 0.9933\n",
      "Epoch 15/20\n",
      "151/151 [==============================] - 9s 60ms/step - loss: 0.0436 - accuracy: 0.9866 - val_loss: 0.0230 - val_accuracy: 0.9945\n",
      "Epoch 16/20\n",
      "151/151 [==============================] - 10s 66ms/step - loss: 0.0417 - accuracy: 0.9871 - val_loss: 0.0236 - val_accuracy: 0.9931\n",
      "Epoch 17/20\n",
      "151/151 [==============================] - 9s 61ms/step - loss: 0.0391 - accuracy: 0.9883 - val_loss: 0.0210 - val_accuracy: 0.9940\n",
      "Epoch 18/20\n",
      "151/151 [==============================] - 9s 59ms/step - loss: 0.0383 - accuracy: 0.9883 - val_loss: 0.0251 - val_accuracy: 0.9926\n",
      "Epoch 19/20\n",
      "151/151 [==============================] - 10s 65ms/step - loss: 0.0396 - accuracy: 0.9874 - val_loss: 0.0225 - val_accuracy: 0.9940\n",
      "Epoch 20/20\n",
      "151/151 [==============================] - 9s 60ms/step - loss: 0.0368 - accuracy: 0.9882 - val_loss: 0.0224 - val_accuracy: 0.9936\n"
     ]
    }
   ],
   "source": [
    "# fit the model\n",
    "time_callback = TimeHistory()\n",
    "cnn_2c_history = model_2c_cnn.fit(datagen.flow(X_train, y_train, batch_size = batch_size),\n",
    "                               epochs = epochs, validation_data = (X_validation, y_validation),\n",
    "                               verbose = 1, steps_per_epoch = X_train.shape[0] // batch_size, \n",
    "                               callbacks = [learning_rate_reduction, time_callback])\n",
    "times = time_callback.times"
   ]
  },
  {
   "cell_type": "code",
   "execution_count": 32,
   "id": "51326a48",
   "metadata": {
    "execution": {
     "iopub.execute_input": "2023-01-11T15:15:15.495248Z",
     "iopub.status.busy": "2023-01-11T15:15:15.494895Z",
     "iopub.status.idle": "2023-01-11T15:15:15.889591Z",
     "shell.execute_reply": "2023-01-11T15:15:15.888603Z"
    },
    "papermill": {
     "duration": 0.920846,
     "end_time": "2023-01-11T15:15:15.891734",
     "exception": false,
     "start_time": "2023-01-11T15:15:14.970888",
     "status": "completed"
    },
    "tags": []
   },
   "outputs": [
    {
     "data": {
      "text/plain": [
       "Text(0.5, 0.98, 'CNN model with 2 cells')"
      ]
     },
     "execution_count": 32,
     "metadata": {},
     "output_type": "execute_result"
    },
    {
     "data": {
      "image/png": "[encoded data removed]",
      "text/plain": [
       "<Figure size 864x432 with 2 Axes>"
      ]
     },
     "metadata": {
      "needs_background": "light"
     },
     "output_type": "display_data"
    }
   ],
   "source": [
    "# plot Loss and Accuracy\n",
    "n = len(cnn_2c_history.history[\"loss\"])\n",
    "\n",
    "fig = plt.figure(figsize=(12, 6))\n",
    "ax = fig.add_subplot(1, 2, 1)\n",
    "ax.plot(range(n), (cnn_2c_history.history[\"loss\"]),'r--', label=\"Train Loss\")\n",
    "ax.plot(range(n), (cnn_2c_history.history[\"val_loss\"]),'b-', label=\"Validation Loss\")\n",
    "ax.legend()\n",
    "ax.set_title('Loss over iterations')\n",
    "\n",
    "ax = fig.add_subplot(1, 2, 2)\n",
    "ax.plot(range(n), (cnn_2c_history.history[\"accuracy\"]),'r--', label=\"Train Acc\")\n",
    "ax.plot(range(n), (cnn_2c_history.history[\"val_accuracy\"]),'b-', label=\"Validation Acc\")\n",
    "ax.legend(loc='lower right')\n",
    "ax.set_title('Accuracy over iterations')\n",
    "\n",
    "fig.suptitle('CNN model with 2 cells')"
   ]
  },
  {
   "cell_type": "code",
   "execution_count": 33,
   "id": "ef45fdfd",
   "metadata": {
    "execution": {
     "iopub.execute_input": "2023-01-11T15:15:17.009103Z",
     "iopub.status.busy": "2023-01-11T15:15:17.008741Z",
     "iopub.status.idle": "2023-01-11T15:15:17.355681Z",
     "shell.execute_reply": "2023-01-11T15:15:17.354789Z"
    },
    "papermill": {
     "duration": 0.899725,
     "end_time": "2023-01-11T15:15:17.357963",
     "exception": false,
     "start_time": "2023-01-11T15:15:16.458238",
     "status": "completed"
    },
    "tags": []
   },
   "outputs": [
    {
     "data": {
      "text/html": [
       "<div>\n",
       "<style scoped>\n",
       "    .dataframe tbody tr th:only-of-type {\n",
       "        vertical-align: middle;\n",
       "    }\n",
       "\n",
       "    .dataframe tbody tr th {\n",
       "        vertical-align: top;\n",
       "    }\n",
       "\n",
       "    .dataframe thead th {\n",
       "        text-align: right;\n",
       "    }\n",
       "</style>\n",
       "<table border=\"1\" class=\"dataframe\">\n",
       "  <thead>\n",
       "    <tr style=\"text-align: right;\">\n",
       "      <th></th>\n",
       "      <th>model</th>\n",
       "      <th>test score</th>\n",
       "      <th>test accuracy</th>\n",
       "      <th>sec per epoch</th>\n",
       "      <th>trainable weights</th>\n",
       "    </tr>\n",
       "  </thead>\n",
       "  <tbody>\n",
       "    <tr>\n",
       "      <th>0</th>\n",
       "      <td>Fully Connected NN</td>\n",
       "      <td>0.0446</td>\n",
       "      <td>0.9871</td>\n",
       "      <td>8.89</td>\n",
       "      <td>535818</td>\n",
       "    </tr>\n",
       "    <tr>\n",
       "      <th>1</th>\n",
       "      <td>1-cell CNN</td>\n",
       "      <td>0.0251</td>\n",
       "      <td>0.9919</td>\n",
       "      <td>9.43</td>\n",
       "      <td>3226474</td>\n",
       "    </tr>\n",
       "    <tr>\n",
       "      <th>2</th>\n",
       "      <td>2-cell CNN</td>\n",
       "      <td>0.0224</td>\n",
       "      <td>0.9936</td>\n",
       "      <td>9.32</td>\n",
       "      <td>1676266</td>\n",
       "    </tr>\n",
       "  </tbody>\n",
       "</table>\n",
       "</div>"
      ],
      "text/plain": [
       "                model  test score  test accuracy  sec per epoch  \\\n",
       "0  Fully Connected NN      0.0446         0.9871           8.89   \n",
       "1          1-cell CNN      0.0251         0.9919           9.43   \n",
       "2          2-cell CNN      0.0224         0.9936           9.32   \n",
       "\n",
       "   trainable weights  \n",
       "0             535818  \n",
       "1            3226474  \n",
       "2            1676266  "
      ]
     },
     "execution_count": 33,
     "metadata": {},
     "output_type": "execute_result"
    }
   ],
   "source": [
    "score = model_2c_cnn.evaluate(X_validation, y_validation, verbose=0)\n",
    "scores = scores.append({'model': '2-cell CNN', \n",
    "                        'test score': round(score[0], 4), \n",
    "                        'test accuracy': round(score[1], 4),\n",
    "                        'sec per epoch': round(sum(times)/len(times), 2),\n",
    "                        'trainable weights': count_params(model_2c_cnn.trainable_weights)}, \n",
    "                        ignore_index=True)\n",
    "scores"
   ]
  },
  {
   "cell_type": "markdown",
   "id": "48d2576e",
   "metadata": {
    "papermill": {
     "duration": 0.517531,
     "end_time": "2023-01-11T15:15:18.446090",
     "exception": false,
     "start_time": "2023-01-11T15:15:17.928559",
     "status": "completed"
    },
    "tags": []
   },
   "source": [
    "Any other architecture that I tested does not improve the situation significantly."
   ]
  },
  {
   "cell_type": "code",
   "execution_count": 34,
   "id": "3b127239",
   "metadata": {
    "execution": {
     "iopub.execute_input": "2023-01-11T15:15:19.542170Z",
     "iopub.status.busy": "2023-01-11T15:15:19.541452Z",
     "iopub.status.idle": "2023-01-11T15:15:20.527664Z",
     "shell.execute_reply": "2023-01-11T15:15:20.526724Z"
    },
    "papermill": {
     "duration": 1.565584,
     "end_time": "2023-01-11T15:15:20.529830",
     "exception": false,
     "start_time": "2023-01-11T15:15:18.964246",
     "status": "completed"
    },
    "tags": []
   },
   "outputs": [
    {
     "data": {
      "image/png": "[encoded data removed]",
      "text/plain": [
       "<Figure size 576x576 with 2 Axes>"
      ]
     },
     "metadata": {
      "needs_background": "light"
     },
     "output_type": "display_data"
    }
   ],
   "source": [
    "# confusion matrix\n",
    "\n",
    "# predict values (probabilities)\n",
    "y_pred = model_2c_cnn.predict(X_validation)\n",
    "# predict classes\n",
    "y_pred_classes = np.argmax(y_pred, axis = 1)\n",
    "# convert true classes to one vector with 10 categories\n",
    "y_true = np.argmax(y_validation, axis = 1) \n",
    "\n",
    "# calculate confusion matrix\n",
    "cm = confusion_matrix(y_true, y_pred_classes) \n",
    "\n",
    "# plot confusion matrix\n",
    "fig,ax = plt.subplots(figsize = (8, 8))\n",
    "sns.heatmap(cm, annot = True, linewidths=0.01, cmap=\"Blues\", linecolor=\"gray\", fmt= '.1f', ax=ax)\n",
    "plt.xlabel(\"Predicted Label\")\n",
    "plt.ylabel(\"True Label\")\n",
    "plt.title(\"Confusion Matrix for CNN model with 2 cells\")\n",
    "plt.show()"
   ]
  },
  {
   "cell_type": "markdown",
   "id": "07d1f78e",
   "metadata": {
    "papermill": {
     "duration": 0.567799,
     "end_time": "2023-01-11T15:15:21.625305",
     "exception": false,
     "start_time": "2023-01-11T15:15:21.057506",
     "status": "completed"
    },
    "tags": []
   },
   "source": [
    "### Submision"
   ]
  },
  {
   "cell_type": "code",
   "execution_count": 35,
   "id": "debf4bb4",
   "metadata": {
    "execution": {
     "iopub.execute_input": "2023-01-11T15:15:22.668573Z",
     "iopub.status.busy": "2023-01-11T15:15:22.668215Z",
     "iopub.status.idle": "2023-01-11T15:15:24.473249Z",
     "shell.execute_reply": "2023-01-11T15:15:24.472056Z"
    },
    "papermill": {
     "duration": 2.333398,
     "end_time": "2023-01-11T15:15:24.476609",
     "exception": false,
     "start_time": "2023-01-11T15:15:22.143211",
     "status": "completed"
    },
    "tags": []
   },
   "outputs": [],
   "source": [
    "# perform prediction on the test set\n",
    "\n",
    "\n",
    "results = model_2c_cnn.predict(X_test)\n",
    "results = np.argmax(results, axis = 1)\n",
    "\n",
    "# create submission files\n",
    "\n",
    "submission = pd.DataFrame({'ImageId': list(range(1,len(results)+1)), 'Label': results})\n",
    "submission.to_csv('submission.csv', index=False)"
   ]
  },
  {
   "cell_type": "markdown",
   "id": "7b8e7ea1",
   "metadata": {
    "papermill": {
     "duration": 0.522783,
     "end_time": "2023-01-11T15:15:25.626780",
     "exception": false,
     "start_time": "2023-01-11T15:15:25.103997",
     "status": "completed"
    },
    "tags": []
   },
   "source": [
    "# Conclusions\n",
    "\n",
    "## Key Findings \n",
    "1. The Fully Connected NN model performed worse than any CNN model, as expected.\n",
    "2. The number of \"convolutional cells\" didn't seem to affect the performance of CNN models much for this MNIST dataset. \n",
    " \n",
    "\n",
    "## Submision\n",
    "The best result is 0.9935 (V4). It is a TOP 19%.\n",
    "\n",
    "## Nest Steps\n",
    "Try to adjust the CNN model architecture or try something another. "
   ]
  },
  {
   "cell_type": "code",
   "execution_count": null,
   "id": "df19292c",
   "metadata": {
    "papermill": {
     "duration": 0.519781,
     "end_time": "2023-01-11T15:15:26.717871",
     "exception": false,
     "start_time": "2023-01-11T15:15:26.198090",
     "status": "completed"
    },
    "tags": []
   },
   "outputs": [],
   "source": []
  }
 ],
 "metadata": {
  "kernelspec": {
   "display_name": "Python 3",
   "language": "python",
   "name": "python3"
  },
  "language_info": {
   "codemirror_mode": {
    "name": "ipython",
    "version": 3
   },
   "file_extension": ".py",
   "mimetype": "text/x-python",
   "name": "python",
   "nbconvert_exporter": "python",
   "pygments_lexer": "ipython3",
   "version": "3.7.12"
  },
  "papermill": {
   "default_parameters": {},
   "duration": 733.145469,
   "end_time": "2023-01-11T15:15:30.315229",
   "environment_variables": {},
   "exception": null,
   "input_path": "__notebook__.ipynb",
   "output_path": "__notebook__.ipynb",
   "parameters": {},
   "start_time": "2023-01-11T15:03:17.169760",
   "version": "2.3.4"
  }
 },
 "nbformat": 4,
 "nbformat_minor": 5
}
